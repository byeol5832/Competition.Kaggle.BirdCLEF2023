{
 "cells": [
  {
   "cell_type": "code",
   "execution_count": 1,
   "id": "2895ddf1",
   "metadata": {
    "_cell_guid": "b1076dfc-b9ad-4769-8c92-a6c4dae69d19",
    "_kg_hide-output": true,
    "_uuid": "8f2839f25d086af736a60e9eeb907d3b93b6e0e5",
    "execution": {
     "iopub.execute_input": "2023-03-19T07:31:02.479065Z",
     "iopub.status.busy": "2023-03-19T07:31:02.478152Z",
     "iopub.status.idle": "2023-03-19T07:31:26.059171Z",
     "shell.execute_reply": "2023-03-19T07:31:26.057959Z"
    },
    "papermill": {
     "duration": 23.593385,
     "end_time": "2023-03-19T07:31:26.061860",
     "exception": false,
     "start_time": "2023-03-19T07:31:02.468475",
     "status": "completed"
    },
    "tags": []
   },
   "outputs": [
    {
     "name": "stdout",
     "output_type": "stream",
     "text": [
      "Requirement already satisfied: timm in /opt/conda/lib/python3.7/site-packages (0.6.12)\r\n",
      "Requirement already satisfied: torchvision in /opt/conda/lib/python3.7/site-packages (from timm) (0.14.0)\r\n",
      "Requirement already satisfied: pyyaml in /opt/conda/lib/python3.7/site-packages (from timm) (6.0)\r\n",
      "Requirement already satisfied: torch>=1.7 in /opt/conda/lib/python3.7/site-packages (from timm) (1.13.0)\r\n",
      "Requirement already satisfied: huggingface-hub in /opt/conda/lib/python3.7/site-packages (from timm) (0.12.1)\r\n",
      "Requirement already satisfied: typing-extensions in /opt/conda/lib/python3.7/site-packages (from torch>=1.7->timm) (4.4.0)\r\n",
      "Requirement already satisfied: packaging>=20.9 in /opt/conda/lib/python3.7/site-packages (from huggingface-hub->timm) (23.0)\r\n",
      "Requirement already satisfied: filelock in /opt/conda/lib/python3.7/site-packages (from huggingface-hub->timm) (3.9.0)\r\n",
      "Requirement already satisfied: tqdm>=4.42.1 in /opt/conda/lib/python3.7/site-packages (from huggingface-hub->timm) (4.64.1)\r\n",
      "Requirement already satisfied: requests in /opt/conda/lib/python3.7/site-packages (from huggingface-hub->timm) (2.28.2)\r\n",
      "Requirement already satisfied: importlib-metadata in /opt/conda/lib/python3.7/site-packages (from huggingface-hub->timm) (4.11.4)\r\n",
      "Requirement already satisfied: pillow!=8.3.*,>=5.3.0 in /opt/conda/lib/python3.7/site-packages (from torchvision->timm) (9.4.0)\r\n",
      "Requirement already satisfied: numpy in /opt/conda/lib/python3.7/site-packages (from torchvision->timm) (1.21.6)\r\n",
      "Requirement already satisfied: zipp>=0.5 in /opt/conda/lib/python3.7/site-packages (from importlib-metadata->huggingface-hub->timm) (3.11.0)\r\n",
      "Requirement already satisfied: urllib3<1.27,>=1.21.1 in /opt/conda/lib/python3.7/site-packages (from requests->huggingface-hub->timm) (1.26.14)\r\n",
      "Requirement already satisfied: charset-normalizer<4,>=2 in /opt/conda/lib/python3.7/site-packages (from requests->huggingface-hub->timm) (2.1.1)\r\n",
      "Requirement already satisfied: idna<4,>=2.5 in /opt/conda/lib/python3.7/site-packages (from requests->huggingface-hub->timm) (3.4)\r\n",
      "Requirement already satisfied: certifi>=2017.4.17 in /opt/conda/lib/python3.7/site-packages (from requests->huggingface-hub->timm) (2022.12.7)\r\n",
      "\u001b[33mWARNING: Running pip as the 'root' user can result in broken permissions and conflicting behaviour with the system package manager. It is recommended to use a virtual environment instead: https://pip.pypa.io/warnings/venv\u001b[0m\u001b[33m\r\n",
      "\u001b[0mRequirement already satisfied: wandb in /opt/conda/lib/python3.7/site-packages (0.13.10)\r\n",
      "Collecting wandb\r\n",
      "  Downloading wandb-0.14.0-py3-none-any.whl (2.0 MB)\r\n",
      "\u001b[2K     \u001b[90m━━━━━━━━━━━━━━━━━━━━━━━━━━━━━━━━━━━━━━━━\u001b[0m \u001b[32m2.0/2.0 MB\u001b[0m \u001b[31m34.6 MB/s\u001b[0m eta \u001b[36m0:00:00\u001b[0m\r\n",
      "\u001b[?25hRequirement already satisfied: Click!=8.0.0,>=7.0 in /opt/conda/lib/python3.7/site-packages (from wandb) (8.1.3)\r\n",
      "Requirement already satisfied: GitPython!=3.1.29,>=1.0.0 in /opt/conda/lib/python3.7/site-packages (from wandb) (3.1.30)\r\n",
      "Requirement already satisfied: sentry-sdk>=1.0.0 in /opt/conda/lib/python3.7/site-packages (from wandb) (1.15.0)\r\n",
      "Requirement already satisfied: PyYAML in /opt/conda/lib/python3.7/site-packages (from wandb) (6.0)\r\n",
      "Requirement already satisfied: pathtools in /opt/conda/lib/python3.7/site-packages (from wandb) (0.1.2)\r\n",
      "Requirement already satisfied: psutil>=5.0.0 in /opt/conda/lib/python3.7/site-packages (from wandb) (5.9.3)\r\n",
      "Requirement already satisfied: typing-extensions in /opt/conda/lib/python3.7/site-packages (from wandb) (4.4.0)\r\n",
      "Requirement already satisfied: requests<3,>=2.0.0 in /opt/conda/lib/python3.7/site-packages (from wandb) (2.28.2)\r\n",
      "Requirement already satisfied: setuptools in /opt/conda/lib/python3.7/site-packages (from wandb) (59.8.0)\r\n",
      "Requirement already satisfied: appdirs>=1.4.3 in /opt/conda/lib/python3.7/site-packages (from wandb) (1.4.4)\r\n",
      "Requirement already satisfied: setproctitle in /opt/conda/lib/python3.7/site-packages (from wandb) (1.3.2)\r\n",
      "Requirement already satisfied: protobuf!=4.21.0,<5,>=3.12.0 in /opt/conda/lib/python3.7/site-packages (from wandb) (3.20.3)\r\n",
      "Requirement already satisfied: docker-pycreds>=0.4.0 in /opt/conda/lib/python3.7/site-packages (from wandb) (0.4.0)\r\n",
      "Requirement already satisfied: importlib-metadata in /opt/conda/lib/python3.7/site-packages (from Click!=8.0.0,>=7.0->wandb) (4.11.4)\r\n",
      "Requirement already satisfied: six>=1.4.0 in /opt/conda/lib/python3.7/site-packages (from docker-pycreds>=0.4.0->wandb) (1.16.0)\r\n",
      "Requirement already satisfied: gitdb<5,>=4.0.1 in /opt/conda/lib/python3.7/site-packages (from GitPython!=3.1.29,>=1.0.0->wandb) (4.0.10)\r\n",
      "Requirement already satisfied: idna<4,>=2.5 in /opt/conda/lib/python3.7/site-packages (from requests<3,>=2.0.0->wandb) (3.4)\r\n",
      "Requirement already satisfied: certifi>=2017.4.17 in /opt/conda/lib/python3.7/site-packages (from requests<3,>=2.0.0->wandb) (2022.12.7)\r\n",
      "Requirement already satisfied: charset-normalizer<4,>=2 in /opt/conda/lib/python3.7/site-packages (from requests<3,>=2.0.0->wandb) (2.1.1)\r\n",
      "Requirement already satisfied: urllib3<1.27,>=1.21.1 in /opt/conda/lib/python3.7/site-packages (from requests<3,>=2.0.0->wandb) (1.26.14)\r\n",
      "Requirement already satisfied: smmap<6,>=3.0.1 in /opt/conda/lib/python3.7/site-packages (from gitdb<5,>=4.0.1->GitPython!=3.1.29,>=1.0.0->wandb) (5.0.0)\r\n",
      "Requirement already satisfied: zipp>=0.5 in /opt/conda/lib/python3.7/site-packages (from importlib-metadata->Click!=8.0.0,>=7.0->wandb) (3.11.0)\r\n",
      "Installing collected packages: wandb\r\n",
      "  Attempting uninstall: wandb\r\n",
      "    Found existing installation: wandb 0.13.10\r\n",
      "    Uninstalling wandb-0.13.10:\r\n",
      "      Successfully uninstalled wandb-0.13.10\r\n",
      "Successfully installed wandb-0.14.0\r\n",
      "\u001b[33mWARNING: Running pip as the 'root' user can result in broken permissions and conflicting behaviour with the system package manager. It is recommended to use a virtual environment instead: https://pip.pypa.io/warnings/venv\u001b[0m\u001b[33m\r\n",
      "\u001b[0m"
     ]
    }
   ],
   "source": [
    "!pip install timm\n",
    "!pip install --upgrade wandb"
   ]
  },
  {
   "cell_type": "code",
   "execution_count": 2,
   "id": "fcac5f30",
   "metadata": {
    "execution": {
     "iopub.execute_input": "2023-03-19T07:31:26.079956Z",
     "iopub.status.busy": "2023-03-19T07:31:26.079004Z",
     "iopub.status.idle": "2023-03-19T07:31:30.194566Z",
     "shell.execute_reply": "2023-03-19T07:31:30.193418Z"
    },
    "papermill": {
     "duration": 4.127521,
     "end_time": "2023-03-19T07:31:30.197542",
     "exception": false,
     "start_time": "2023-03-19T07:31:26.070021",
     "status": "completed"
    },
    "tags": []
   },
   "outputs": [],
   "source": [
    "import os\n",
    "import gc\n",
    "import cv2\n",
    "import math\n",
    "import copy\n",
    "import time\n",
    "import random\n",
    "\n",
    "# For data manipulation\n",
    "import numpy as np\n",
    "import pandas as pd\n",
    "\n",
    "# Pytorch Imports\n",
    "import torch\n",
    "import torch.nn as nn\n",
    "import torch.optim as optim\n",
    "import torch.nn.functional as F\n",
    "from torch.optim import lr_scheduler\n",
    "from torch.utils.data import Dataset, DataLoader\n",
    "from torch.cuda import amp\n",
    "\n",
    "# Audio \n",
    "import torchaudio\n",
    "from torchaudio.transforms import MelSpectrogram, Resample\n",
    "\n",
    "# Utils\n",
    "import joblib\n",
    "from tqdm import tqdm\n",
    "from collections import defaultdict\n",
    "\n",
    "# Sklearn Imports\n",
    "from sklearn.preprocessing import LabelEncoder\n",
    "from sklearn.model_selection import StratifiedKFold\n",
    "from sklearn.metrics import average_precision_score\n",
    "\n",
    "# For Image Models\n",
    "import timm\n",
    "\n",
    "# For colored terminal text\n",
    "from colorama import Fore, Back, Style\n",
    "b_ = Fore.BLUE\n",
    "sr_ = Style.RESET_ALL\n",
    "\n",
    "import warnings\n",
    "warnings.filterwarnings(\"ignore\")\n",
    "\n",
    "# For descriptive error messages\n",
    "os.environ['CUDA_LAUNCH_BLOCKING'] = \"1\""
   ]
  },
  {
   "cell_type": "code",
   "execution_count": 3,
   "id": "f1f52de9",
   "metadata": {
    "execution": {
     "iopub.execute_input": "2023-03-19T07:31:30.214128Z",
     "iopub.status.busy": "2023-03-19T07:31:30.213790Z",
     "iopub.status.idle": "2023-03-19T07:31:30.504472Z",
     "shell.execute_reply": "2023-03-19T07:31:30.503380Z"
    },
    "papermill": {
     "duration": 0.306103,
     "end_time": "2023-03-19T07:31:30.511342",
     "exception": false,
     "start_time": "2023-03-19T07:31:30.205239",
     "status": "completed"
    },
    "tags": []
   },
   "outputs": [
    {
     "name": "stdout",
     "output_type": "stream",
     "text": [
      "If you want to use your W&B account, go to Add-ons -> Secrets and provide your W&B access token. Use the Label name as wandb_api. \n",
      "Get your W&B access token from here: https://wandb.ai/authorize\n"
     ]
    }
   ],
   "source": [
    "import wandb\n",
    "\n",
    "try:\n",
    "    from kaggle_secrets import UserSecretsClient\n",
    "    user_secrets = UserSecretsClient()\n",
    "    api_key = user_secrets.get_secret(\"wandb_api\")\n",
    "    wandb.login(key=api_key)\n",
    "    anony = None\n",
    "except:\n",
    "    anony = \"must\"\n",
    "    print('If you want to use your W&B account, go to Add-ons -> Secrets and provide your W&B access token. Use the Label name as wandb_api. \\nGet your W&B access token from here: https://wandb.ai/authorize')"
   ]
  },
  {
   "cell_type": "code",
   "execution_count": 4,
   "id": "e2defb73",
   "metadata": {
    "execution": {
     "iopub.execute_input": "2023-03-19T07:31:30.530744Z",
     "iopub.status.busy": "2023-03-19T07:31:30.530437Z",
     "iopub.status.idle": "2023-03-19T07:31:30.584442Z",
     "shell.execute_reply": "2023-03-19T07:31:30.583378Z"
    },
    "papermill": {
     "duration": 0.064802,
     "end_time": "2023-03-19T07:31:30.586721",
     "exception": false,
     "start_time": "2023-03-19T07:31:30.521919",
     "status": "completed"
    },
    "tags": []
   },
   "outputs": [],
   "source": [
    "CONFIG = {\"seed\": 2023,\n",
    "          \"epochs\": 10,\n",
    "          \"model_name\": \"tf_efficientnet_b0_ns\",\n",
    "          \"embedding_size\": 768,\n",
    "          \"num_classes\": 264,\n",
    "          \"train_batch_size\": 64,\n",
    "          \"valid_batch_size\": 128,\n",
    "          \"learning_rate\": 1e-4,\n",
    "          \"scheduler\": 'CosineAnnealingLR',\n",
    "          \"min_lr\": 1e-6,\n",
    "          \"T_max\": 500,\n",
    "          \"weight_decay\": 1e-6,\n",
    "          \"n_fold\": 5,\n",
    "          \"n_accumulate\": 1,\n",
    "          \"device\": torch.device(\"cuda:0\" if torch.cuda.is_available() else \"cpu\"),\n",
    "          \"_wandb_kernel\": \"deb\",\n",
    "          # Audio Specific\n",
    "          \"sample_rate\": 32_000,\n",
    "          \"max_time\": 5,\n",
    "          \"n_mels\": 224,\n",
    "          \"n_fft\": 1024,\n",
    "          }"
   ]
  },
  {
   "cell_type": "code",
   "execution_count": 5,
   "id": "afcae712",
   "metadata": {
    "execution": {
     "iopub.execute_input": "2023-03-19T07:31:30.604195Z",
     "iopub.status.busy": "2023-03-19T07:31:30.603069Z",
     "iopub.status.idle": "2023-03-19T07:31:30.612591Z",
     "shell.execute_reply": "2023-03-19T07:31:30.611502Z"
    },
    "papermill": {
     "duration": 0.020409,
     "end_time": "2023-03-19T07:31:30.614883",
     "exception": false,
     "start_time": "2023-03-19T07:31:30.594474",
     "status": "completed"
    },
    "tags": []
   },
   "outputs": [],
   "source": [
    "def set_seed(seed=42):\n",
    "    '''Sets the seed of the entire notebook so results are the same every time we run.\n",
    "    This is for REPRODUCIBILITY.'''\n",
    "    np.random.seed(seed)\n",
    "    torch.manual_seed(seed)\n",
    "    torch.cuda.manual_seed(seed)\n",
    "    # When running on the CuDNN backend, two further options must be set\n",
    "    torch.backends.cudnn.deterministic = True\n",
    "    torch.backends.cudnn.benchmark = False\n",
    "    # Set a fixed value for the hash seed\n",
    "    os.environ['PYTHONHASHSEED'] = str(seed)\n",
    "    \n",
    "set_seed(CONFIG['seed'])"
   ]
  },
  {
   "cell_type": "code",
   "execution_count": 6,
   "id": "1e3e1fb7",
   "metadata": {
    "execution": {
     "iopub.execute_input": "2023-03-19T07:31:30.631398Z",
     "iopub.status.busy": "2023-03-19T07:31:30.630909Z",
     "iopub.status.idle": "2023-03-19T07:31:30.635583Z",
     "shell.execute_reply": "2023-03-19T07:31:30.634467Z"
    },
    "papermill": {
     "duration": 0.015229,
     "end_time": "2023-03-19T07:31:30.637735",
     "exception": false,
     "start_time": "2023-03-19T07:31:30.622506",
     "status": "completed"
    },
    "tags": []
   },
   "outputs": [],
   "source": [
    "ROOT_DIR = '../input/birdclef-2023'\n",
    "TRAIN_DIR = '../input/birdclef-2023/train_audio'\n",
    "TEST_DIR = '../input/birdclef-2023/test_soundscapes'"
   ]
  },
  {
   "cell_type": "code",
   "execution_count": 7,
   "id": "9ff26dc7",
   "metadata": {
    "execution": {
     "iopub.execute_input": "2023-03-19T07:31:30.654896Z",
     "iopub.status.busy": "2023-03-19T07:31:30.653446Z",
     "iopub.status.idle": "2023-03-19T07:31:30.658384Z",
     "shell.execute_reply": "2023-03-19T07:31:30.657446Z"
    },
    "papermill": {
     "duration": 0.015289,
     "end_time": "2023-03-19T07:31:30.660468",
     "exception": false,
     "start_time": "2023-03-19T07:31:30.645179",
     "status": "completed"
    },
    "tags": []
   },
   "outputs": [],
   "source": [
    "def get_train_file_path(filename):\n",
    "    return f\"{TRAIN_DIR}/{filename}\""
   ]
  },
  {
   "cell_type": "code",
   "execution_count": 8,
   "id": "239cf510",
   "metadata": {
    "execution": {
     "iopub.execute_input": "2023-03-19T07:31:30.676608Z",
     "iopub.status.busy": "2023-03-19T07:31:30.676304Z",
     "iopub.status.idle": "2023-03-19T07:31:30.806224Z",
     "shell.execute_reply": "2023-03-19T07:31:30.805046Z"
    },
    "papermill": {
     "duration": 0.141042,
     "end_time": "2023-03-19T07:31:30.808839",
     "exception": false,
     "start_time": "2023-03-19T07:31:30.667797",
     "status": "completed"
    },
    "tags": []
   },
   "outputs": [
    {
     "data": {
      "text/html": [
       "<div>\n",
       "<style scoped>\n",
       "    .dataframe tbody tr th:only-of-type {\n",
       "        vertical-align: middle;\n",
       "    }\n",
       "\n",
       "    .dataframe tbody tr th {\n",
       "        vertical-align: top;\n",
       "    }\n",
       "\n",
       "    .dataframe thead th {\n",
       "        text-align: right;\n",
       "    }\n",
       "</style>\n",
       "<table border=\"1\" class=\"dataframe\">\n",
       "  <thead>\n",
       "    <tr style=\"text-align: right;\">\n",
       "      <th></th>\n",
       "      <th>primary_label</th>\n",
       "      <th>secondary_labels</th>\n",
       "      <th>type</th>\n",
       "      <th>latitude</th>\n",
       "      <th>longitude</th>\n",
       "      <th>scientific_name</th>\n",
       "      <th>common_name</th>\n",
       "      <th>author</th>\n",
       "      <th>license</th>\n",
       "      <th>rating</th>\n",
       "      <th>url</th>\n",
       "      <th>filename</th>\n",
       "      <th>file_path</th>\n",
       "    </tr>\n",
       "  </thead>\n",
       "  <tbody>\n",
       "    <tr>\n",
       "      <th>0</th>\n",
       "      <td>abethr1</td>\n",
       "      <td>[]</td>\n",
       "      <td>['song']</td>\n",
       "      <td>4.3906</td>\n",
       "      <td>38.2788</td>\n",
       "      <td>Turdus tephronotus</td>\n",
       "      <td>African Bare-eyed Thrush</td>\n",
       "      <td>Rolf A. de By</td>\n",
       "      <td>Creative Commons Attribution-NonCommercial-Sha...</td>\n",
       "      <td>4.0</td>\n",
       "      <td>https://www.xeno-canto.org/128013</td>\n",
       "      <td>abethr1/XC128013.ogg</td>\n",
       "      <td>../input/birdclef-2023/train_audio/abethr1/XC1...</td>\n",
       "    </tr>\n",
       "    <tr>\n",
       "      <th>1</th>\n",
       "      <td>abethr1</td>\n",
       "      <td>[]</td>\n",
       "      <td>['call']</td>\n",
       "      <td>-2.9524</td>\n",
       "      <td>38.2921</td>\n",
       "      <td>Turdus tephronotus</td>\n",
       "      <td>African Bare-eyed Thrush</td>\n",
       "      <td>James Bradley</td>\n",
       "      <td>Creative Commons Attribution-NonCommercial-Sha...</td>\n",
       "      <td>3.5</td>\n",
       "      <td>https://www.xeno-canto.org/363501</td>\n",
       "      <td>abethr1/XC363501.ogg</td>\n",
       "      <td>../input/birdclef-2023/train_audio/abethr1/XC3...</td>\n",
       "    </tr>\n",
       "    <tr>\n",
       "      <th>2</th>\n",
       "      <td>abethr1</td>\n",
       "      <td>[]</td>\n",
       "      <td>['song']</td>\n",
       "      <td>-2.9524</td>\n",
       "      <td>38.2921</td>\n",
       "      <td>Turdus tephronotus</td>\n",
       "      <td>African Bare-eyed Thrush</td>\n",
       "      <td>James Bradley</td>\n",
       "      <td>Creative Commons Attribution-NonCommercial-Sha...</td>\n",
       "      <td>3.5</td>\n",
       "      <td>https://www.xeno-canto.org/363502</td>\n",
       "      <td>abethr1/XC363502.ogg</td>\n",
       "      <td>../input/birdclef-2023/train_audio/abethr1/XC3...</td>\n",
       "    </tr>\n",
       "    <tr>\n",
       "      <th>3</th>\n",
       "      <td>abethr1</td>\n",
       "      <td>[]</td>\n",
       "      <td>['song']</td>\n",
       "      <td>-2.9524</td>\n",
       "      <td>38.2921</td>\n",
       "      <td>Turdus tephronotus</td>\n",
       "      <td>African Bare-eyed Thrush</td>\n",
       "      <td>James Bradley</td>\n",
       "      <td>Creative Commons Attribution-NonCommercial-Sha...</td>\n",
       "      <td>5.0</td>\n",
       "      <td>https://www.xeno-canto.org/363503</td>\n",
       "      <td>abethr1/XC363503.ogg</td>\n",
       "      <td>../input/birdclef-2023/train_audio/abethr1/XC3...</td>\n",
       "    </tr>\n",
       "    <tr>\n",
       "      <th>4</th>\n",
       "      <td>abethr1</td>\n",
       "      <td>[]</td>\n",
       "      <td>['call', 'song']</td>\n",
       "      <td>-2.9524</td>\n",
       "      <td>38.2921</td>\n",
       "      <td>Turdus tephronotus</td>\n",
       "      <td>African Bare-eyed Thrush</td>\n",
       "      <td>James Bradley</td>\n",
       "      <td>Creative Commons Attribution-NonCommercial-Sha...</td>\n",
       "      <td>4.5</td>\n",
       "      <td>https://www.xeno-canto.org/363504</td>\n",
       "      <td>abethr1/XC363504.ogg</td>\n",
       "      <td>../input/birdclef-2023/train_audio/abethr1/XC3...</td>\n",
       "    </tr>\n",
       "  </tbody>\n",
       "</table>\n",
       "</div>"
      ],
      "text/plain": [
       "  primary_label secondary_labels              type  latitude  longitude  \\\n",
       "0       abethr1               []          ['song']    4.3906    38.2788   \n",
       "1       abethr1               []          ['call']   -2.9524    38.2921   \n",
       "2       abethr1               []          ['song']   -2.9524    38.2921   \n",
       "3       abethr1               []          ['song']   -2.9524    38.2921   \n",
       "4       abethr1               []  ['call', 'song']   -2.9524    38.2921   \n",
       "\n",
       "      scientific_name               common_name         author  \\\n",
       "0  Turdus tephronotus  African Bare-eyed Thrush  Rolf A. de By   \n",
       "1  Turdus tephronotus  African Bare-eyed Thrush  James Bradley   \n",
       "2  Turdus tephronotus  African Bare-eyed Thrush  James Bradley   \n",
       "3  Turdus tephronotus  African Bare-eyed Thrush  James Bradley   \n",
       "4  Turdus tephronotus  African Bare-eyed Thrush  James Bradley   \n",
       "\n",
       "                                             license  rating  \\\n",
       "0  Creative Commons Attribution-NonCommercial-Sha...     4.0   \n",
       "1  Creative Commons Attribution-NonCommercial-Sha...     3.5   \n",
       "2  Creative Commons Attribution-NonCommercial-Sha...     3.5   \n",
       "3  Creative Commons Attribution-NonCommercial-Sha...     5.0   \n",
       "4  Creative Commons Attribution-NonCommercial-Sha...     4.5   \n",
       "\n",
       "                                 url              filename  \\\n",
       "0  https://www.xeno-canto.org/128013  abethr1/XC128013.ogg   \n",
       "1  https://www.xeno-canto.org/363501  abethr1/XC363501.ogg   \n",
       "2  https://www.xeno-canto.org/363502  abethr1/XC363502.ogg   \n",
       "3  https://www.xeno-canto.org/363503  abethr1/XC363503.ogg   \n",
       "4  https://www.xeno-canto.org/363504  abethr1/XC363504.ogg   \n",
       "\n",
       "                                           file_path  \n",
       "0  ../input/birdclef-2023/train_audio/abethr1/XC1...  \n",
       "1  ../input/birdclef-2023/train_audio/abethr1/XC3...  \n",
       "2  ../input/birdclef-2023/train_audio/abethr1/XC3...  \n",
       "3  ../input/birdclef-2023/train_audio/abethr1/XC3...  \n",
       "4  ../input/birdclef-2023/train_audio/abethr1/XC3...  "
      ]
     },
     "execution_count": 8,
     "metadata": {},
     "output_type": "execute_result"
    }
   ],
   "source": [
    "df = pd.read_csv(f\"{ROOT_DIR}/train_metadata.csv\")\n",
    "df['file_path'] = df['filename'].apply(get_train_file_path)\n",
    "df.head()"
   ]
  },
  {
   "cell_type": "code",
   "execution_count": 9,
   "id": "92c341c5",
   "metadata": {
    "execution": {
     "iopub.execute_input": "2023-03-19T07:31:30.826775Z",
     "iopub.status.busy": "2023-03-19T07:31:30.826474Z",
     "iopub.status.idle": "2023-03-19T07:32:04.962327Z",
     "shell.execute_reply": "2023-03-19T07:32:04.961007Z"
    },
    "papermill": {
     "duration": 34.148224,
     "end_time": "2023-03-19T07:32:04.965525",
     "exception": false,
     "start_time": "2023-03-19T07:31:30.817301",
     "status": "completed"
    },
    "tags": []
   },
   "outputs": [
    {
     "name": "stderr",
     "output_type": "stream",
     "text": [
      "\u001b[34m\u001b[1mwandb\u001b[0m: W&B API key is configured. Use \u001b[1m`wandb login --relogin`\u001b[0m to force relogin\n",
      "\u001b[34m\u001b[1mwandb\u001b[0m: \u001b[33mWARNING\u001b[0m If you're specifying your api key in code, ensure this code is not shared publicly.\n",
      "\u001b[34m\u001b[1mwandb\u001b[0m: \u001b[33mWARNING\u001b[0m Consider setting the WANDB_API_KEY environment variable, or running `wandb login` from the command line.\n",
      "\u001b[34m\u001b[1mwandb\u001b[0m: Appending key for api.wandb.ai to your netrc file: /root/.netrc\n",
      "\u001b[34m\u001b[1mwandb\u001b[0m: Currently logged in as: \u001b[33mbyeol5832\u001b[0m. Use \u001b[1m`wandb login --relogin`\u001b[0m to force relogin\n"
     ]
    },
    {
     "data": {
      "text/html": [
       "Tracking run with wandb version 0.14.0"
      ],
      "text/plain": [
       "<IPython.core.display.HTML object>"
      ]
     },
     "metadata": {},
     "output_type": "display_data"
    },
    {
     "data": {
      "text/html": [
       "Run data is saved locally in <code>/kaggle/working/wandb/run-20230319_073133-8za20ee2</code>"
      ],
      "text/plain": [
       "<IPython.core.display.HTML object>"
      ]
     },
     "metadata": {},
     "output_type": "display_data"
    },
    {
     "data": {
      "text/html": [
       "Syncing run <strong><a href='https://wandb.ai/byeol5832/BirdCLEF2023/runs/8za20ee2' target=\"_blank\">Audio Visualization</a></strong> to <a href='https://wandb.ai/byeol5832/BirdCLEF2023' target=\"_blank\">Weights & Biases</a> (<a href='https://wandb.me/run' target=\"_blank\">docs</a>)<br/>"
      ],
      "text/plain": [
       "<IPython.core.display.HTML object>"
      ]
     },
     "metadata": {},
     "output_type": "display_data"
    },
    {
     "data": {
      "text/html": [
       " View project at <a href='https://wandb.ai/byeol5832/BirdCLEF2023' target=\"_blank\">https://wandb.ai/byeol5832/BirdCLEF2023</a>"
      ],
      "text/plain": [
       "<IPython.core.display.HTML object>"
      ]
     },
     "metadata": {},
     "output_type": "display_data"
    },
    {
     "data": {
      "text/html": [
       " View run at <a href='https://wandb.ai/byeol5832/BirdCLEF2023/runs/8za20ee2' target=\"_blank\">https://wandb.ai/byeol5832/BirdCLEF2023/runs/8za20ee2</a>"
      ],
      "text/plain": [
       "<IPython.core.display.HTML object>"
      ]
     },
     "metadata": {},
     "output_type": "display_data"
    }
   ],
   "source": [
    "wandb.login(key='e48a210dfb62389215fad02ce3ca3f0d8825de66')\n",
    "run = wandb.init(project='BirdCLEF2023',\n",
    "                 job_type='Visualization',\n",
    "                 name='Audio Visualization',\n",
    "                 anonymous='must')"
   ]
  },
  {
   "cell_type": "code",
   "execution_count": 10,
   "id": "44fc2662",
   "metadata": {
    "execution": {
     "iopub.execute_input": "2023-03-19T07:32:04.995150Z",
     "iopub.status.busy": "2023-03-19T07:32:04.994615Z",
     "iopub.status.idle": "2023-03-19T07:35:43.295244Z",
     "shell.execute_reply": "2023-03-19T07:35:43.294262Z"
    },
    "papermill": {
     "duration": 218.342238,
     "end_time": "2023-03-19T07:35:43.322269",
     "exception": false,
     "start_time": "2023-03-19T07:32:04.980031",
     "status": "completed"
    },
    "tags": []
   },
   "outputs": [
    {
     "name": "stderr",
     "output_type": "stream",
     "text": [
      "100%|██████████| 5000/5000 [00:45<00:00, 110.40it/s]\n"
     ]
    },
    {
     "data": {
      "text/html": [
       "Waiting for W&B process to finish... <strong style=\"color:green\">(success).</strong>"
      ],
      "text/plain": [
       "<IPython.core.display.HTML object>"
      ]
     },
     "metadata": {},
     "output_type": "display_data"
    },
    {
     "data": {
      "text/html": [
       " View run <strong style=\"color:#cdcd00\">Audio Visualization</strong> at: <a href='https://wandb.ai/byeol5832/BirdCLEF2023/runs/8za20ee2' target=\"_blank\">https://wandb.ai/byeol5832/BirdCLEF2023/runs/8za20ee2</a><br/>Synced 6 W&B file(s), 1 media file(s), 5001 artifact file(s) and 0 other file(s)"
      ],
      "text/plain": [
       "<IPython.core.display.HTML object>"
      ]
     },
     "metadata": {},
     "output_type": "display_data"
    },
    {
     "data": {
      "text/html": [
       "Find logs at: <code>./wandb/run-20230319_073133-8za20ee2/logs</code>"
      ],
      "text/plain": [
       "<IPython.core.display.HTML object>"
      ]
     },
     "metadata": {},
     "output_type": "display_data"
    }
   ],
   "source": [
    "preview_table = wandb.Table(columns=['Audio', 'Label', 'Rating'])\n",
    "\n",
    "temp_df = df.sample(5000).reset_index(drop=True)\n",
    "\n",
    "for i in tqdm(range(len(temp_df))):\n",
    "    row = temp_df.loc[i]\n",
    "    audio = wandb.Audio(row.file_path, sample_rate=CONFIG['sample_rate'])\n",
    "    preview_table.add_data(audio,\n",
    "                           row.primary_label,\n",
    "                           row.rating)\n",
    "\n",
    "wandb.log({'Visualization': preview_table})\n",
    "run.finish()"
   ]
  },
  {
   "cell_type": "markdown",
   "id": "627914a2",
   "metadata": {
    "papermill": {
     "duration": 0.028148,
     "end_time": "2023-03-19T07:35:43.379160",
     "exception": false,
     "start_time": "2023-03-19T07:35:43.351012",
     "status": "completed"
    },
    "tags": []
   },
   "source": [
    "<span style=\"color: #000508; font-family: Segoe UI; font-size: 1.5em; font-weight: 300;\"><a href=\"https://wandb.ai/dchanda/BirdCLEF23\">View the Complete Table Here ⮕</a></span>"
   ]
  },
  {
   "cell_type": "code",
   "execution_count": 11,
   "id": "061c15a5",
   "metadata": {
    "_kg_hide-input": true,
    "execution": {
     "iopub.execute_input": "2023-03-19T07:35:43.439205Z",
     "iopub.status.busy": "2023-03-19T07:35:43.438149Z",
     "iopub.status.idle": "2023-03-19T07:35:43.448341Z",
     "shell.execute_reply": "2023-03-19T07:35:43.447153Z"
    },
    "papermill": {
     "duration": 0.042906,
     "end_time": "2023-03-19T07:35:43.450493",
     "exception": false,
     "start_time": "2023-03-19T07:35:43.407587",
     "status": "completed"
    },
    "tags": []
   },
   "outputs": [
    {
     "data": {
      "text/html": [
       "\n",
       "        <iframe\n",
       "            width=\"1080\"\n",
       "            height=\"720\"\n",
       "            src=\"https://wandb.ai/byeol5832/BirdCLEF2023/runs/8za20ee2\"\n",
       "            frameborder=\"0\"\n",
       "            allowfullscreen\n",
       "            \n",
       "        ></iframe>\n",
       "        "
      ],
      "text/plain": [
       "<IPython.lib.display.IFrame at 0x7f7b2fd55710>"
      ]
     },
     "execution_count": 11,
     "metadata": {},
     "output_type": "execute_result"
    }
   ],
   "source": [
    "# This is just to display the W&B run page in this interactive session.\n",
    "from IPython import display\n",
    "\n",
    "# we create an IFrame and set the width and height\n",
    "iF = display.IFrame(run.url, width=1080, height=720)\n",
    "iF"
   ]
  },
  {
   "cell_type": "code",
   "execution_count": 12,
   "id": "a6c971b6",
   "metadata": {
    "execution": {
     "iopub.execute_input": "2023-03-19T07:35:43.510377Z",
     "iopub.status.busy": "2023-03-19T07:35:43.509333Z",
     "iopub.status.idle": "2023-03-19T07:35:43.526458Z",
     "shell.execute_reply": "2023-03-19T07:35:43.525508Z"
    },
    "papermill": {
     "duration": 0.049608,
     "end_time": "2023-03-19T07:35:43.528809",
     "exception": false,
     "start_time": "2023-03-19T07:35:43.479201",
     "status": "completed"
    },
    "tags": []
   },
   "outputs": [],
   "source": [
    "encoder = LabelEncoder()\n",
    "all_labels = sorted(df['primary_label'].values)\n",
    "encoder.fit(all_labels)\n",
    "\n",
    "df['primary_label'] = encoder.transform(df['primary_label'])\n",
    "\n",
    "with open(\"le.pkl\", \"wb\") as fp:\n",
    "    joblib.dump(encoder, fp)"
   ]
  },
  {
   "cell_type": "code",
   "execution_count": 13,
   "id": "b5b46c36",
   "metadata": {
    "execution": {
     "iopub.execute_input": "2023-03-19T07:35:43.588824Z",
     "iopub.status.busy": "2023-03-19T07:35:43.587871Z",
     "iopub.status.idle": "2023-03-19T07:35:43.606467Z",
     "shell.execute_reply": "2023-03-19T07:35:43.605363Z"
    },
    "papermill": {
     "duration": 0.050894,
     "end_time": "2023-03-19T07:35:43.608546",
     "exception": false,
     "start_time": "2023-03-19T07:35:43.557652",
     "status": "completed"
    },
    "tags": []
   },
   "outputs": [],
   "source": [
    "skf = StratifiedKFold(n_splits=CONFIG['n_fold'])\n",
    "\n",
    "for fold, ( _, val_) in enumerate(skf.split(X=df, y=df.primary_label)):\n",
    "    # meta data의 primary_label을 n_fold개로 나눈 것을 enumerate하면서 각 fold를 indexing \n",
    "      df.loc[val_ , \"kfold\"] = fold"
   ]
  },
  {
   "cell_type": "code",
   "execution_count": 14,
   "id": "baadefa3",
   "metadata": {
    "execution": {
     "iopub.execute_input": "2023-03-19T07:35:43.669014Z",
     "iopub.status.busy": "2023-03-19T07:35:43.667996Z",
     "iopub.status.idle": "2023-03-19T07:35:43.681710Z",
     "shell.execute_reply": "2023-03-19T07:35:43.680775Z"
    },
    "papermill": {
     "duration": 0.046234,
     "end_time": "2023-03-19T07:35:43.683892",
     "exception": false,
     "start_time": "2023-03-19T07:35:43.637658",
     "status": "completed"
    },
    "tags": []
   },
   "outputs": [],
   "source": [
    "class BirdCLEFDataset(Dataset):\n",
    "    def __init__(self, df, target_sample_rate, max_time, image_transforms=None):\n",
    "        self.file_paths = df['file_path'].values\n",
    "        self.labels = df['primary_label'].values\n",
    "        self.target_sample_rate = target_sample_rate\n",
    "        num_samples = target_sample_rate * max_time\n",
    "        self.num_samples = num_samples\n",
    "        self.image_transforms = image_transforms\n",
    "        \n",
    "    def __len__(self):\n",
    "        return len(self.file_paths)\n",
    "    \n",
    "    def __getitem__(self, index):\n",
    "        filepath = self.file_paths[index]\n",
    "        audio, sample_rate = torchaudio.load(filepath)\n",
    "        audio = self.to_mono(audio) # audio를 한 채널로 바꾸기 위해 평균냄\n",
    "        \n",
    "        if sample_rate != self.target_sample_rate:\n",
    "            resample = Resample(sample_rate, self.target_sample_rate) # resampling이 뭘 하는건지 정확히 모르겠다 \n",
    "            audio = resample(audio)\n",
    "        \n",
    "        if audio.shape[0] > self.num_samples:\n",
    "            audio = self.crop_audio(audio) # num_samples까지만 crop \n",
    "            \n",
    "        if audio.shape[0] < self.num_samples:\n",
    "            audio = self.pad_audio(audio) # 앞뒤로 num_samples - shape 만큼 padding 하는듯 \n",
    "            \n",
    "        mel_spectogram = MelSpectrogram(sample_rate=self.target_sample_rate, \n",
    "                                        n_mels=CONFIG['n_mels'], \n",
    "                                        n_fft=CONFIG['n_fft'])\n",
    "        mel = mel_spectogram(audio)\n",
    "        \n",
    "        label_onehot = torch.zeros(CONFIG['num_classes'])\n",
    "        label_onehot[self.labels[index]] = 1\n",
    "        label = torch.tensor(self.labels[index])\n",
    "        \n",
    "        # Convert to Image\n",
    "        image = torch.stack([mel, mel, mel]) \n",
    "        \n",
    "        # Normalize Image\n",
    "        max_val = torch.abs(image).max()\n",
    "        image = image / max_val\n",
    "        \n",
    "        return {\n",
    "            \"image\": image, \n",
    "            \"label\": label,\n",
    "            \"label_onehot\": label_onehot\n",
    "        }\n",
    "            \n",
    "    def pad_audio(self, audio):\n",
    "        pad_length = self.num_samples - audio.shape[0]\n",
    "        last_dim_padding = (0, pad_length)\n",
    "        audio = F.pad(audio, last_dim_padding)\n",
    "        return audio\n",
    "        \n",
    "    def crop_audio(self, audio):\n",
    "        return audio[:self.num_samples]\n",
    "        \n",
    "    def to_mono(self, audio):\n",
    "        return torch.mean(audio, axis=0)"
   ]
  },
  {
   "cell_type": "code",
   "execution_count": 15,
   "id": "6ea02e7c",
   "metadata": {
    "execution": {
     "iopub.execute_input": "2023-03-19T07:35:43.743723Z",
     "iopub.status.busy": "2023-03-19T07:35:43.743367Z",
     "iopub.status.idle": "2023-03-19T07:35:43.751197Z",
     "shell.execute_reply": "2023-03-19T07:35:43.750180Z"
    },
    "papermill": {
     "duration": 0.040407,
     "end_time": "2023-03-19T07:35:43.753245",
     "exception": false,
     "start_time": "2023-03-19T07:35:43.712838",
     "status": "completed"
    },
    "tags": []
   },
   "outputs": [],
   "source": [
    "class GeM(nn.Module):\n",
    "    def __init__(self, p=3, eps=1e-6):\n",
    "        super(GeM, self).__init__()\n",
    "        self.p = nn.Parameter(torch.ones(1)*p)\n",
    "        self.eps = eps\n",
    "\n",
    "    def forward(self, x):\n",
    "        return self.gem(x, p=self.p, eps=self.eps)\n",
    "        \n",
    "    def gem(self, x, p=3, eps=1e-6):\n",
    "        return F.avg_pool2d(x.clamp(min=eps).pow(p), (x.size(-2), x.size(-1))).pow(1./p)\n",
    "        \n",
    "    def __repr__(self):\n",
    "        return self.__class__.__name__ + \\\n",
    "                '(' + 'p=' + '{:.4f}'.format(self.p.data.tolist()[0]) + \\\n",
    "                ', ' + 'eps=' + str(self.eps) + ')'"
   ]
  },
  {
   "cell_type": "code",
   "execution_count": 16,
   "id": "1c28d9aa",
   "metadata": {
    "execution": {
     "iopub.execute_input": "2023-03-19T07:35:43.814164Z",
     "iopub.status.busy": "2023-03-19T07:35:43.812992Z",
     "iopub.status.idle": "2023-03-19T07:35:48.460468Z",
     "shell.execute_reply": "2023-03-19T07:35:48.459238Z"
    },
    "papermill": {
     "duration": 4.681376,
     "end_time": "2023-03-19T07:35:48.463373",
     "exception": false,
     "start_time": "2023-03-19T07:35:43.781997",
     "status": "completed"
    },
    "tags": []
   },
   "outputs": [
    {
     "name": "stderr",
     "output_type": "stream",
     "text": [
      "Downloading: \"https://github.com/rwightman/pytorch-image-models/releases/download/v0.1-weights/tf_efficientnet_b0_ns-c0e6a31c.pth\" to /root/.cache/torch/hub/checkpoints/tf_efficientnet_b0_ns-c0e6a31c.pth\n"
     ]
    }
   ],
   "source": [
    "class BirdCLEFModel(nn.Module):\n",
    "    def __init__(self, model_name, embedding_size, pretrained=True):\n",
    "        super(BirdCLEFModel, self).__init__()\n",
    "        self.model = timm.create_model(model_name, pretrained=pretrained)\n",
    "        in_features = self.model.classifier.in_features\n",
    "        self.model.classifier = nn.Identity()\n",
    "        self.model.global_pool = nn.Identity()\n",
    "        self.pooling = GeM()\n",
    "        self.embedding = nn.Linear(in_features, embedding_size)\n",
    "        self.fc = nn.Linear(embedding_size, CONFIG['num_classes'])\n",
    "\n",
    "    def forward(self, images):\n",
    "        features = self.model(images)\n",
    "        pooled_features = self.pooling(features).flatten(1)\n",
    "        embedding = self.embedding(pooled_features)\n",
    "        output = self.fc(embedding)\n",
    "        return output\n",
    "    \n",
    "model = BirdCLEFModel(CONFIG['model_name'], CONFIG['embedding_size'])\n",
    "model.to(CONFIG['device']);"
   ]
  },
  {
   "cell_type": "code",
   "execution_count": 17,
   "id": "46b1dfe0",
   "metadata": {
    "execution": {
     "iopub.execute_input": "2023-03-19T07:35:48.524707Z",
     "iopub.status.busy": "2023-03-19T07:35:48.524362Z",
     "iopub.status.idle": "2023-03-19T07:35:48.529042Z",
     "shell.execute_reply": "2023-03-19T07:35:48.527958Z"
    },
    "papermill": {
     "duration": 0.037352,
     "end_time": "2023-03-19T07:35:48.531128",
     "exception": false,
     "start_time": "2023-03-19T07:35:48.493776",
     "status": "completed"
    },
    "tags": []
   },
   "outputs": [],
   "source": [
    "def criterion(outputs, labels):\n",
    "    return nn.CrossEntropyLoss()(outputs, labels) # focal loss or BCEWithLogits 로 실험 필요 "
   ]
  },
  {
   "cell_type": "code",
   "execution_count": 18,
   "id": "c65a492b",
   "metadata": {
    "execution": {
     "iopub.execute_input": "2023-03-19T07:35:48.590919Z",
     "iopub.status.busy": "2023-03-19T07:35:48.590615Z",
     "iopub.status.idle": "2023-03-19T07:35:48.600520Z",
     "shell.execute_reply": "2023-03-19T07:35:48.599266Z"
    },
    "papermill": {
     "duration": 0.041961,
     "end_time": "2023-03-19T07:35:48.602615",
     "exception": false,
     "start_time": "2023-03-19T07:35:48.560654",
     "status": "completed"
    },
    "tags": []
   },
   "outputs": [],
   "source": [
    "def train_one_epoch(model, optimizer, scheduler, dataloader, device, epoch):\n",
    "    model.train()\n",
    "    \n",
    "    dataset_size = 0\n",
    "    running_loss = 0.0\n",
    "    \n",
    "    bar = tqdm(enumerate(dataloader), total=len(dataloader))\n",
    "    for step, data in bar:\n",
    "        images = data['image'].to(device)\n",
    "        labels = data['label'].to(device)\n",
    "        \n",
    "        batch_size = images.size(0)\n",
    "        \n",
    "        outputs = model(images)\n",
    "        loss = criterion(outputs, labels)\n",
    "        loss = loss / CONFIG['n_accumulate']\n",
    "            \n",
    "        loss.backward()\n",
    "    \n",
    "        if (step + 1) % CONFIG['n_accumulate'] == 0:\n",
    "            optimizer.step()\n",
    "\n",
    "            # zero the parameter gradients\n",
    "            optimizer.zero_grad()\n",
    "\n",
    "            if scheduler is not None:\n",
    "                scheduler.step()\n",
    "                \n",
    "        running_loss += (loss.item() * batch_size)\n",
    "        dataset_size += batch_size\n",
    "        \n",
    "        epoch_loss = running_loss / dataset_size\n",
    "        \n",
    "        bar.set_postfix(Epoch=epoch, Train_Loss=epoch_loss,\n",
    "                        LR=optimizer.param_groups[0]['lr'])\n",
    "    gc.collect()\n",
    "    \n",
    "    return epoch_loss"
   ]
  },
  {
   "cell_type": "code",
   "execution_count": 19,
   "id": "09285cc9",
   "metadata": {
    "execution": {
     "iopub.execute_input": "2023-03-19T07:35:48.663080Z",
     "iopub.status.busy": "2023-03-19T07:35:48.662049Z",
     "iopub.status.idle": "2023-03-19T07:35:48.669175Z",
     "shell.execute_reply": "2023-03-19T07:35:48.668044Z"
    },
    "papermill": {
     "duration": 0.039181,
     "end_time": "2023-03-19T07:35:48.671113",
     "exception": false,
     "start_time": "2023-03-19T07:35:48.631932",
     "status": "completed"
    },
    "tags": []
   },
   "outputs": [],
   "source": [
    "def padded_cmap(solution, submission, padding_factor=5): # metric \n",
    "    new_rows = []\n",
    "    for i in range(padding_factor):\n",
    "        new_rows.append([1 for i in range(len(solution.columns))])\n",
    "    new_rows = pd.DataFrame(new_rows)\n",
    "    new_rows.columns = solution.columns\n",
    "    padded_solution = pd.concat([solution, new_rows]).reset_index(drop=True).copy()\n",
    "    padded_submission = pd.concat([submission, new_rows]).reset_index(drop=True).copy()\n",
    "    score = average_precision_score(\n",
    "        padded_solution.values,\n",
    "        padded_submission.values,\n",
    "        average='macro',\n",
    "    )\n",
    "    return score"
   ]
  },
  {
   "cell_type": "code",
   "execution_count": 20,
   "id": "21cb55bf",
   "metadata": {
    "execution": {
     "iopub.execute_input": "2023-03-19T07:35:48.732156Z",
     "iopub.status.busy": "2023-03-19T07:35:48.731121Z",
     "iopub.status.idle": "2023-03-19T07:35:48.741047Z",
     "shell.execute_reply": "2023-03-19T07:35:48.740017Z"
    },
    "papermill": {
     "duration": 0.042482,
     "end_time": "2023-03-19T07:35:48.743177",
     "exception": false,
     "start_time": "2023-03-19T07:35:48.700695",
     "status": "completed"
    },
    "tags": []
   },
   "outputs": [],
   "source": [
    "@torch.inference_mode()\n",
    "def valid_one_epoch(model, dataloader, device, epoch):\n",
    "    model.eval()\n",
    "    \n",
    "    dataset_size = 0\n",
    "    running_loss = 0.0\n",
    "    \n",
    "    LABELS = []\n",
    "    PREDS = []\n",
    "    \n",
    "    bar = tqdm(enumerate(dataloader), total=len(dataloader))\n",
    "    for step, data in bar:        \n",
    "        images = data['image'].to(device)\n",
    "        labels = data['label_onehot'].to(device)\n",
    "        \n",
    "        batch_size = images.size(0)\n",
    "\n",
    "        outputs = model(images)\n",
    "        loss = criterion(outputs, labels)\n",
    "        \n",
    "        running_loss += (loss.item() * batch_size)\n",
    "        dataset_size += batch_size\n",
    "        \n",
    "        epoch_loss = running_loss / dataset_size\n",
    "        \n",
    "        PREDS.append(F.softmax(outputs, dim=1).cpu().detach().numpy())\n",
    "        LABELS.append(labels.cpu().detach().numpy())\n",
    "        \n",
    "        bar.set_postfix(Epoch=epoch, Valid_Loss=epoch_loss,\n",
    "                        LR=optimizer.param_groups[0]['lr'])   \n",
    "    \n",
    "    LABELS = np.vstack(LABELS)\n",
    "    PREDS = np.vstack(PREDS)\n",
    "    val_cmap = padded_cmap(pd.DataFrame(LABELS), pd.DataFrame(PREDS))\n",
    "    gc.collect()\n",
    "    \n",
    "    return epoch_loss, val_cmap"
   ]
  },
  {
   "cell_type": "code",
   "execution_count": 21,
   "id": "b189259f",
   "metadata": {
    "execution": {
     "iopub.execute_input": "2023-03-19T07:35:48.802959Z",
     "iopub.status.busy": "2023-03-19T07:35:48.802450Z",
     "iopub.status.idle": "2023-03-19T07:35:48.812832Z",
     "shell.execute_reply": "2023-03-19T07:35:48.811785Z"
    },
    "papermill": {
     "duration": 0.043188,
     "end_time": "2023-03-19T07:35:48.815080",
     "exception": false,
     "start_time": "2023-03-19T07:35:48.771892",
     "status": "completed"
    },
    "tags": []
   },
   "outputs": [],
   "source": [
    "def run_training(model, optimizer, scheduler, device, num_epochs):\n",
    "    # To automatically log gradients\n",
    "    wandb.watch(model, log_freq=100)\n",
    "    \n",
    "#     if torch.cuda.is_available():\n",
    "#         print(\"[INFO] Using GPU: {}\\n\".format(torch.cuda.get_device_name()))\n",
    "    \n",
    "    start = time.time()\n",
    "#     best_model_wts = copy.deepcopy(model.state_dict())\n",
    "    best_epoch_cmap = 0\n",
    "    history = defaultdict(list)\n",
    "    \n",
    "    for epoch in range(1, num_epochs + 1): \n",
    "        gc.collect()\n",
    "        train_epoch_loss = train_one_epoch(model, optimizer, scheduler, \n",
    "                                           dataloader=train_loader, \n",
    "                                           device=CONFIG['device'], epoch=epoch)\n",
    "        \n",
    "        val_epoch_loss, val_epoch_cmap = valid_one_epoch(model, valid_loader, \n",
    "                                                       device=CONFIG['device'], \n",
    "                                                       epoch=epoch)\n",
    "    \n",
    "        history['Train Loss'].append(train_epoch_loss)\n",
    "        history['Valid Loss'].append(val_epoch_loss)\n",
    "        history['Valid CMAP'].append(val_epoch_cmap)\n",
    "        \n",
    "        # Log the metrics\n",
    "        wandb.log({\"Train Loss\": train_epoch_loss})\n",
    "        wandb.log({\"Valid Loss\": val_epoch_loss})\n",
    "        wandb.log({\"Valid CMAP\": val_epoch_cmap})\n",
    "        \n",
    "        # deep copy the model\n",
    "        if val_epoch_cmap >= best_epoch_cmap:\n",
    "            print(f\"{b_}Validation CMAP Improved ({best_epoch_cmap} ---> {val_epoch_cmap})\")\n",
    "            best_epoch_cmap = val_epoch_cmap\n",
    "            run.summary[\"Best CMAP Score\"] = best_epoch_cmap\n",
    "#             best_model_wts = copy.deepcopy(model.state_dict())\n",
    "            PATH = \"CMAP{:.4f}_epoch{:.0f}.bin\".format(best_epoch_cmap, epoch)\n",
    "            torch.save(model.state_dict(), PATH)\n",
    "            # Save a model file from the current directory\n",
    "            print(f\"Model Saved{sr_}\")\n",
    "            \n",
    "        print()\n",
    "    \n",
    "    end = time.time()\n",
    "    time_elapsed = end - start\n",
    "    print('Training complete in {:.0f}h {:.0f}m {:.0f}s'.format(\n",
    "        time_elapsed // 3600, (time_elapsed % 3600) // 60, (time_elapsed % 3600) % 60))\n",
    "    print(\"Best CMAP: {:.4f}\".format(best_epoch_cmap))\n",
    "    \n",
    "    # load best model weights\n",
    "#     model.load_state_dict(best_model_wts)\n",
    "    \n",
    "#     return model, history\n",
    "    return history "
   ]
  },
  {
   "cell_type": "code",
   "execution_count": 22,
   "id": "58d7f77d",
   "metadata": {
    "execution": {
     "iopub.execute_input": "2023-03-19T07:35:48.877884Z",
     "iopub.status.busy": "2023-03-19T07:35:48.877222Z",
     "iopub.status.idle": "2023-03-19T07:35:48.883879Z",
     "shell.execute_reply": "2023-03-19T07:35:48.882840Z"
    },
    "papermill": {
     "duration": 0.040501,
     "end_time": "2023-03-19T07:35:48.886085",
     "exception": false,
     "start_time": "2023-03-19T07:35:48.845584",
     "status": "completed"
    },
    "tags": []
   },
   "outputs": [],
   "source": [
    "def fetch_scheduler(optimizer):\n",
    "    if CONFIG['scheduler'] == 'CosineAnnealingLR':\n",
    "        scheduler = lr_scheduler.CosineAnnealingLR(optimizer,T_max=CONFIG['T_max'], \n",
    "                                                   eta_min=CONFIG['min_lr'])\n",
    "    elif CONFIG['scheduler'] == 'CosineAnnealingWarmRestarts':\n",
    "        scheduler = lr_scheduler.CosineAnnealingWarmRestarts(optimizer,T_0=CONFIG['T_0'], \n",
    "                                                             eta_min=CONFIG['min_lr'])\n",
    "    elif CONFIG['scheduler'] == None:\n",
    "        return None\n",
    "        \n",
    "    return scheduler"
   ]
  },
  {
   "cell_type": "code",
   "execution_count": 23,
   "id": "e9b323a2",
   "metadata": {
    "execution": {
     "iopub.execute_input": "2023-03-19T07:35:48.947462Z",
     "iopub.status.busy": "2023-03-19T07:35:48.946610Z",
     "iopub.status.idle": "2023-03-19T07:35:48.953714Z",
     "shell.execute_reply": "2023-03-19T07:35:48.952686Z"
    },
    "papermill": {
     "duration": 0.040256,
     "end_time": "2023-03-19T07:35:48.955821",
     "exception": false,
     "start_time": "2023-03-19T07:35:48.915565",
     "status": "completed"
    },
    "tags": []
   },
   "outputs": [],
   "source": [
    "def prepare_loaders(df, fold):\n",
    "    df_train = df[df.kfold != fold].reset_index(drop=True)\n",
    "    df_valid = df[df.kfold == fold].reset_index(drop=True)\n",
    "    \n",
    "    train_dataset = BirdCLEFDataset(df_train, target_sample_rate=CONFIG['sample_rate'], max_time=CONFIG['max_time'])\n",
    "    valid_dataset = BirdCLEFDataset(df_valid, target_sample_rate=CONFIG['sample_rate'], max_time=CONFIG['max_time'])\n",
    "\n",
    "    train_loader = DataLoader(train_dataset, batch_size=CONFIG['train_batch_size'], \n",
    "                              num_workers=2, shuffle=True, pin_memory=True, drop_last=True)\n",
    "    valid_loader = DataLoader(valid_dataset, batch_size=CONFIG['valid_batch_size'], \n",
    "                              num_workers=2, shuffle=False, pin_memory=True)\n",
    "    \n",
    "    return train_loader, valid_loader"
   ]
  },
  {
   "cell_type": "markdown",
   "id": "0a58d257",
   "metadata": {
    "papermill": {
     "duration": 0.029421,
     "end_time": "2023-03-19T07:35:49.014947",
     "exception": false,
     "start_time": "2023-03-19T07:35:48.985526",
     "status": "completed"
    },
    "tags": []
   },
   "source": [
    "<span style=\"color: #000508; font-family: Segoe UI; font-size: 1.5em; font-weight: 300;\">Prepare Dataloaders</span>"
   ]
  },
  {
   "cell_type": "code",
   "execution_count": 24,
   "id": "007ed89c",
   "metadata": {
    "execution": {
     "iopub.execute_input": "2023-03-19T07:35:49.076592Z",
     "iopub.status.busy": "2023-03-19T07:35:49.075600Z",
     "iopub.status.idle": "2023-03-19T07:35:49.088340Z",
     "shell.execute_reply": "2023-03-19T07:35:49.087381Z"
    },
    "papermill": {
     "duration": 0.045743,
     "end_time": "2023-03-19T07:35:49.090746",
     "exception": false,
     "start_time": "2023-03-19T07:35:49.045003",
     "status": "completed"
    },
    "tags": []
   },
   "outputs": [],
   "source": [
    "train_loader, valid_loader = prepare_loaders(df, fold=0)"
   ]
  },
  {
   "cell_type": "markdown",
   "id": "c5fa11c6",
   "metadata": {
    "papermill": {
     "duration": 0.029273,
     "end_time": "2023-03-19T07:35:49.150681",
     "exception": false,
     "start_time": "2023-03-19T07:35:49.121408",
     "status": "completed"
    },
    "tags": []
   },
   "source": [
    "<span style=\"color: #000508; font-family: Segoe UI; font-size: 1.5em; font-weight: 300;\">Define Optimizer and Scheduler</span>"
   ]
  },
  {
   "cell_type": "code",
   "execution_count": 25,
   "id": "5d256950",
   "metadata": {
    "execution": {
     "iopub.execute_input": "2023-03-19T07:35:49.211222Z",
     "iopub.status.busy": "2023-03-19T07:35:49.210516Z",
     "iopub.status.idle": "2023-03-19T07:35:49.217533Z",
     "shell.execute_reply": "2023-03-19T07:35:49.216467Z"
    },
    "papermill": {
     "duration": 0.039976,
     "end_time": "2023-03-19T07:35:49.219790",
     "exception": false,
     "start_time": "2023-03-19T07:35:49.179814",
     "status": "completed"
    },
    "tags": []
   },
   "outputs": [],
   "source": [
    "optimizer = optim.Adam(model.parameters(), lr=CONFIG['learning_rate'], \n",
    "                       weight_decay=CONFIG['weight_decay'])\n",
    "scheduler = fetch_scheduler(optimizer)"
   ]
  },
  {
   "cell_type": "markdown",
   "id": "c48a0aad",
   "metadata": {
    "papermill": {
     "duration": 0.029106,
     "end_time": "2023-03-19T07:35:49.277994",
     "exception": false,
     "start_time": "2023-03-19T07:35:49.248888",
     "status": "completed"
    },
    "tags": []
   },
   "source": [
    "<span style=\"color: #000508; font-family: Segoe UI; font-size: 1.5em; font-weight: 300;\">Start Training</span>"
   ]
  },
  {
   "cell_type": "code",
   "execution_count": 26,
   "id": "d5f0ca68",
   "metadata": {
    "execution": {
     "iopub.execute_input": "2023-03-19T07:35:49.339064Z",
     "iopub.status.busy": "2023-03-19T07:35:49.338148Z",
     "iopub.status.idle": "2023-03-19T07:36:20.568567Z",
     "shell.execute_reply": "2023-03-19T07:36:20.567608Z"
    },
    "papermill": {
     "duration": 31.299836,
     "end_time": "2023-03-19T07:36:20.607667",
     "exception": false,
     "start_time": "2023-03-19T07:35:49.307831",
     "status": "completed"
    },
    "tags": []
   },
   "outputs": [
    {
     "data": {
      "text/html": [
       "Tracking run with wandb version 0.14.0"
      ],
      "text/plain": [
       "<IPython.core.display.HTML object>"
      ]
     },
     "metadata": {},
     "output_type": "display_data"
    },
    {
     "data": {
      "text/html": [
       "Run data is saved locally in <code>/kaggle/working/wandb/run-20230319_073549-zekpb3zs</code>"
      ],
      "text/plain": [
       "<IPython.core.display.HTML object>"
      ]
     },
     "metadata": {},
     "output_type": "display_data"
    },
    {
     "data": {
      "text/html": [
       "Syncing run <strong><a href='https://wandb.ai/byeol5832/BirdCLEF2023/runs/zekpb3zs' target=\"_blank\">sage-field-8</a></strong> to <a href='https://wandb.ai/byeol5832/BirdCLEF2023' target=\"_blank\">Weights & Biases</a> (<a href='https://wandb.me/run' target=\"_blank\">docs</a>)<br/>"
      ],
      "text/plain": [
       "<IPython.core.display.HTML object>"
      ]
     },
     "metadata": {},
     "output_type": "display_data"
    },
    {
     "data": {
      "text/html": [
       " View project at <a href='https://wandb.ai/byeol5832/BirdCLEF2023' target=\"_blank\">https://wandb.ai/byeol5832/BirdCLEF2023</a>"
      ],
      "text/plain": [
       "<IPython.core.display.HTML object>"
      ]
     },
     "metadata": {},
     "output_type": "display_data"
    },
    {
     "data": {
      "text/html": [
       " View run at <a href='https://wandb.ai/byeol5832/BirdCLEF2023/runs/zekpb3zs' target=\"_blank\">https://wandb.ai/byeol5832/BirdCLEF2023/runs/zekpb3zs</a>"
      ],
      "text/plain": [
       "<IPython.core.display.HTML object>"
      ]
     },
     "metadata": {},
     "output_type": "display_data"
    }
   ],
   "source": [
    "run = wandb.init(project='BirdCLEF2023', \n",
    "                 config=CONFIG,\n",
    "                 job_type='Train',\n",
    "                 tags=[CONFIG['model_name']],\n",
    "                 anonymous='must')"
   ]
  },
  {
   "cell_type": "code",
   "execution_count": 27,
   "id": "aa92c2f4",
   "metadata": {
    "execution": {
     "iopub.execute_input": "2023-03-19T07:36:20.716296Z",
     "iopub.status.busy": "2023-03-19T07:36:20.715712Z",
     "iopub.status.idle": "2023-03-19T09:49:38.111920Z",
     "shell.execute_reply": "2023-03-19T09:49:38.110731Z"
    },
    "papermill": {
     "duration": 7997.460881,
     "end_time": "2023-03-19T09:49:38.114842",
     "exception": false,
     "start_time": "2023-03-19T07:36:20.653961",
     "status": "completed"
    },
    "tags": []
   },
   "outputs": [
    {
     "name": "stderr",
     "output_type": "stream",
     "text": [
      "100%|██████████| 211/211 [11:19<00:00,  3.22s/it, Epoch=1, LR=6.25e-5, Train_Loss=4.47]\n",
      "100%|██████████| 27/27 [02:30<00:00,  5.59s/it, Epoch=1, LR=6.25e-5, Valid_Loss=3.91]\n"
     ]
    },
    {
     "name": "stdout",
     "output_type": "stream",
     "text": [
      "\u001b[34mValidation CMAP Improved (0 ---> 0.5448120131866211)\n",
      "Model Saved\u001b[0m\n",
      "\n"
     ]
    },
    {
     "name": "stderr",
     "output_type": "stream",
     "text": [
      "100%|██████████| 211/211 [10:33<00:00,  3.00s/it, Epoch=2, LR=6.83e-6, Train_Loss=3.37]\n",
      "100%|██████████| 27/27 [02:24<00:00,  5.35s/it, Epoch=2, LR=6.83e-6, Valid_Loss=3.49]\n"
     ]
    },
    {
     "name": "stdout",
     "output_type": "stream",
     "text": [
      "\u001b[34mValidation CMAP Improved (0.5448120131866211 ---> 0.5790060756888165)\n",
      "Model Saved\u001b[0m\n",
      "\n"
     ]
    },
    {
     "name": "stderr",
     "output_type": "stream",
     "text": [
      "100%|██████████| 211/211 [10:47<00:00,  3.07s/it, Epoch=3, LR=1.73e-5, Train_Loss=3.05]\n",
      "100%|██████████| 27/27 [02:23<00:00,  5.30s/it, Epoch=3, LR=1.73e-5, Valid_Loss=3.45]\n"
     ]
    },
    {
     "name": "stdout",
     "output_type": "stream",
     "text": [
      "\u001b[34mValidation CMAP Improved (0.5790060756888165 ---> 0.5829385674034457)\n",
      "Model Saved\u001b[0m\n",
      "\n"
     ]
    },
    {
     "name": "stderr",
     "output_type": "stream",
     "text": [
      "100%|██████████| 211/211 [10:57<00:00,  3.11s/it, Epoch=4, LR=7.81e-5, Train_Loss=2.91]\n",
      "100%|██████████| 27/27 [02:27<00:00,  5.47s/it, Epoch=4, LR=7.81e-5, Valid_Loss=3.2]\n"
     ]
    },
    {
     "name": "stdout",
     "output_type": "stream",
     "text": [
      "\u001b[34mValidation CMAP Improved (0.5829385674034457 ---> 0.6107183202184152)\n",
      "Model Saved\u001b[0m\n",
      "\n"
     ]
    },
    {
     "name": "stderr",
     "output_type": "stream",
     "text": [
      "100%|██████████| 211/211 [10:59<00:00,  3.13s/it, Epoch=5, LR=9.71e-5, Train_Loss=2.48]\n",
      "100%|██████████| 27/27 [02:26<00:00,  5.43s/it, Epoch=5, LR=9.71e-5, Valid_Loss=2.91]\n"
     ]
    },
    {
     "name": "stdout",
     "output_type": "stream",
     "text": [
      "\u001b[34mValidation CMAP Improved (0.6107183202184152 ---> 0.6456711481063793)\n",
      "Model Saved\u001b[0m\n",
      "\n"
     ]
    },
    {
     "name": "stderr",
     "output_type": "stream",
     "text": [
      "100%|██████████| 211/211 [10:51<00:00,  3.09s/it, Epoch=6, LR=4.55e-5, Train_Loss=1.86]\n",
      "100%|██████████| 27/27 [02:22<00:00,  5.27s/it, Epoch=6, LR=4.55e-5, Valid_Loss=2.81]\n"
     ]
    },
    {
     "name": "stdout",
     "output_type": "stream",
     "text": [
      "\u001b[34mValidation CMAP Improved (0.6456711481063793 ---> 0.6595054640304042)\n",
      "Model Saved\u001b[0m\n",
      "\n"
     ]
    },
    {
     "name": "stderr",
     "output_type": "stream",
     "text": [
      "100%|██████████| 211/211 [10:52<00:00,  3.09s/it, Epoch=7, LR=1.52e-6, Train_Loss=1.38]\n",
      "100%|██████████| 27/27 [02:24<00:00,  5.37s/it, Epoch=7, LR=1.52e-6, Valid_Loss=2.78]\n"
     ]
    },
    {
     "name": "stdout",
     "output_type": "stream",
     "text": [
      "\u001b[34mValidation CMAP Improved (0.6595054640304042 ---> 0.6615969316005995)\n",
      "Model Saved\u001b[0m\n",
      "\n"
     ]
    },
    {
     "name": "stderr",
     "output_type": "stream",
     "text": [
      "100%|██████████| 211/211 [10:52<00:00,  3.09s/it, Epoch=8, LR=3.17e-5, Train_Loss=1.26]\n",
      "100%|██████████| 27/27 [02:24<00:00,  5.34s/it, Epoch=8, LR=3.17e-5, Valid_Loss=2.79]\n"
     ]
    },
    {
     "name": "stdout",
     "output_type": "stream",
     "text": [
      "\u001b[34mValidation CMAP Improved (0.6615969316005995 ---> 0.6634954705267658)\n",
      "Model Saved\u001b[0m\n",
      "\n"
     ]
    },
    {
     "name": "stderr",
     "output_type": "stream",
     "text": [
      "100%|██████████| 211/211 [10:56<00:00,  3.11s/it, Epoch=9, LR=9.04e-5, Train_Loss=1.28]\n",
      "100%|██████████| 27/27 [02:22<00:00,  5.29s/it, Epoch=9, LR=9.04e-5, Valid_Loss=3.02]\n"
     ]
    },
    {
     "name": "stdout",
     "output_type": "stream",
     "text": [
      "\n"
     ]
    },
    {
     "name": "stderr",
     "output_type": "stream",
     "text": [
      "100%|██████████| 211/211 [10:41<00:00,  3.04s/it, Epoch=10, LR=8.86e-5, Train_Loss=1.11]\n",
      "100%|██████████| 27/27 [02:21<00:00,  5.24s/it, Epoch=10, LR=8.86e-5, Valid_Loss=3.08]\n"
     ]
    },
    {
     "name": "stdout",
     "output_type": "stream",
     "text": [
      "\n",
      "Training complete in 2h 13m 17s\n",
      "Best CMAP: 0.6635\n"
     ]
    }
   ],
   "source": [
    "# model, history = run_training(model, optimizer, scheduler,\n",
    "#                               device=CONFIG['device'],\n",
    "#                               num_epochs=CONFIG['epochs'])\n",
    "history = run_training(model, optimizer, scheduler,\n",
    "                        device=CONFIG['device'],\n",
    "                        num_epochs=CONFIG['epochs'])"
   ]
  },
  {
   "cell_type": "code",
   "execution_count": 28,
   "id": "7dd55a85",
   "metadata": {
    "execution": {
     "iopub.execute_input": "2023-03-19T09:49:38.771739Z",
     "iopub.status.busy": "2023-03-19T09:49:38.771367Z",
     "iopub.status.idle": "2023-03-19T09:49:45.798484Z",
     "shell.execute_reply": "2023-03-19T09:49:45.797565Z"
    },
    "papermill": {
     "duration": 7.304609,
     "end_time": "2023-03-19T09:49:45.801166",
     "exception": false,
     "start_time": "2023-03-19T09:49:38.496557",
     "status": "completed"
    },
    "tags": []
   },
   "outputs": [
    {
     "data": {
      "text/html": [
       "Waiting for W&B process to finish... <strong style=\"color:green\">(success).</strong>"
      ],
      "text/plain": [
       "<IPython.core.display.HTML object>"
      ]
     },
     "metadata": {},
     "output_type": "display_data"
    },
    {
     "data": {
      "application/vnd.jupyter.widget-view+json": {
       "model_id": "6b9d07bc78a74ec6a999ce81552212e7",
       "version_major": 2,
       "version_minor": 0
      },
      "text/plain": [
       "VBox(children=(Label(value='0.001 MB of 0.001 MB uploaded (0.000 MB deduped)\\r'), FloatProgress(value=1.0, max…"
      ]
     },
     "metadata": {},
     "output_type": "display_data"
    },
    {
     "data": {
      "text/html": [
       "<style>\n",
       "    table.wandb td:nth-child(1) { padding: 0 10px; text-align: left ; width: auto;} td:nth-child(2) {text-align: left ; width: 100%}\n",
       "    .wandb-row { display: flex; flex-direction: row; flex-wrap: wrap; justify-content: flex-start; width: 100% }\n",
       "    .wandb-col { display: flex; flex-direction: column; flex-basis: 100%; flex: 1; padding: 10px; }\n",
       "    </style>\n",
       "<div class=\"wandb-row\"><div class=\"wandb-col\"><h3>Run history:</h3><br/><table class=\"wandb\"><tr><td>Train Loss</td><td>█▆▅▅▄▃▂▁▁▁</td></tr><tr><td>Valid CMAP</td><td>▁▃▃▅▇█████</td></tr><tr><td>Valid Loss</td><td>█▅▅▄▂▁▁▁▃▃</td></tr></table><br/></div><div class=\"wandb-col\"><h3>Run summary:</h3><br/><table class=\"wandb\"><tr><td>Best CMAP Score</td><td>0.6635</td></tr><tr><td>Train Loss</td><td>1.10623</td></tr><tr><td>Valid CMAP</td><td>0.65876</td></tr><tr><td>Valid Loss</td><td>3.07647</td></tr></table><br/></div></div>"
      ],
      "text/plain": [
       "<IPython.core.display.HTML object>"
      ]
     },
     "metadata": {},
     "output_type": "display_data"
    },
    {
     "data": {
      "text/html": [
       " View run <strong style=\"color:#cdcd00\">sage-field-8</strong> at: <a href='https://wandb.ai/byeol5832/BirdCLEF2023/runs/zekpb3zs' target=\"_blank\">https://wandb.ai/byeol5832/BirdCLEF2023/runs/zekpb3zs</a><br/>Synced 6 W&B file(s), 0 media file(s), 0 artifact file(s) and 0 other file(s)"
      ],
      "text/plain": [
       "<IPython.core.display.HTML object>"
      ]
     },
     "metadata": {},
     "output_type": "display_data"
    },
    {
     "data": {
      "text/html": [
       "Find logs at: <code>./wandb/run-20230319_073549-zekpb3zs/logs</code>"
      ],
      "text/plain": [
       "<IPython.core.display.HTML object>"
      ]
     },
     "metadata": {},
     "output_type": "display_data"
    }
   ],
   "source": [
    "run.finish()"
   ]
  },
  {
   "cell_type": "code",
   "execution_count": 29,
   "id": "e7141e33",
   "metadata": {
    "_kg_hide-input": true,
    "execution": {
     "iopub.execute_input": "2023-03-19T09:49:46.634050Z",
     "iopub.status.busy": "2023-03-19T09:49:46.633667Z",
     "iopub.status.idle": "2023-03-19T09:49:46.642838Z",
     "shell.execute_reply": "2023-03-19T09:49:46.641780Z"
    },
    "papermill": {
     "duration": 0.345173,
     "end_time": "2023-03-19T09:49:46.644939",
     "exception": false,
     "start_time": "2023-03-19T09:49:46.299766",
     "status": "completed"
    },
    "tags": []
   },
   "outputs": [
    {
     "data": {
      "text/html": [
       "\n",
       "        <iframe\n",
       "            width=\"1080\"\n",
       "            height=\"720\"\n",
       "            src=\"https://wandb.ai/byeol5832/BirdCLEF2023/runs/zekpb3zs\"\n",
       "            frameborder=\"0\"\n",
       "            allowfullscreen\n",
       "            \n",
       "        ></iframe>\n",
       "        "
      ],
      "text/plain": [
       "<IPython.lib.display.IFrame at 0x7f7b2c0bf910>"
      ]
     },
     "execution_count": 29,
     "metadata": {},
     "output_type": "execute_result"
    }
   ],
   "source": [
    "# This is just to display the W&B run page in this interactive session.\n",
    "from IPython import display\n",
    "\n",
    "# we create an IFrame and set the width and height\n",
    "iF = display.IFrame(run.url, width=1080, height=720)\n",
    "iF"
   ]
  }
 ],
 "metadata": {
  "kernelspec": {
   "display_name": "Python 3",
   "language": "python",
   "name": "python3"
  },
  "language_info": {
   "codemirror_mode": {
    "name": "ipython",
    "version": 3
   },
   "file_extension": ".py",
   "mimetype": "text/x-python",
   "name": "python",
   "nbconvert_exporter": "python",
   "pygments_lexer": "ipython3",
   "version": "3.7.12"
  },
  "papermill": {
   "default_parameters": {},
   "duration": 8336.344023,
   "end_time": "2023-03-19T09:49:50.237308",
   "environment_variables": {},
   "exception": null,
   "input_path": "__notebook__.ipynb",
   "output_path": "__notebook__.ipynb",
   "parameters": {},
   "start_time": "2023-03-19T07:30:53.893285",
   "version": "2.4.0"
  },
  "widgets": {
   "application/vnd.jupyter.widget-state+json": {
    "state": {
     "196d4defd8664224a4e70e50dceaaba7": {
      "model_module": "@jupyter-widgets/controls",
      "model_module_version": "1.5.0",
      "model_name": "LabelModel",
      "state": {
       "_dom_classes": [],
       "_model_module": "@jupyter-widgets/controls",
       "_model_module_version": "1.5.0",
       "_model_name": "LabelModel",
       "_view_count": null,
       "_view_module": "@jupyter-widgets/controls",
       "_view_module_version": "1.5.0",
       "_view_name": "LabelView",
       "description": "",
       "description_tooltip": null,
       "layout": "IPY_MODEL_941e8233a20145b69bfeb0689995aa18",
       "placeholder": "​",
       "style": "IPY_MODEL_dde9685820c24bdd86a6746dea35e9e5",
       "value": ""
      }
     },
     "1c77532f101e4484a126bbe0ade74c7c": {
      "model_module": "@jupyter-widgets/controls",
      "model_module_version": "1.5.0",
      "model_name": "LabelModel",
      "state": {
       "_dom_classes": [],
       "_model_module": "@jupyter-widgets/controls",
       "_model_module_version": "1.5.0",
       "_model_name": "LabelModel",
       "_view_count": null,
       "_view_module": "@jupyter-widgets/controls",
       "_view_module_version": "1.5.0",
       "_view_name": "LabelView",
       "description": "",
       "description_tooltip": null,
       "layout": "IPY_MODEL_426286af7d5d456db7510070f48c6acf",
       "placeholder": "​",
       "style": "IPY_MODEL_7c96b2d813624a33aa4d8ac6eee88ea1",
       "value": ""
      }
     },
     "1d451f6b77c843a78a99d064ada1a65f": {
      "model_module": "@jupyter-widgets/controls",
      "model_module_version": "1.5.0",
      "model_name": "LabelModel",
      "state": {
       "_dom_classes": [],
       "_model_module": "@jupyter-widgets/controls",
       "_model_module_version": "1.5.0",
       "_model_name": "LabelModel",
       "_view_count": null,
       "_view_module": "@jupyter-widgets/controls",
       "_view_module_version": "1.5.0",
       "_view_name": "LabelView",
       "description": "",
       "description_tooltip": null,
       "layout": "IPY_MODEL_8b4e04371d954502acbe11bedf9c92cf",
       "placeholder": "​",
       "style": "IPY_MODEL_715408e2ce3349b5a11ed681f02d3f04",
       "value": ""
      }
     },
     "1e494e56692e4fdb96725e632c44d990": {
      "model_module": "@jupyter-widgets/controls",
      "model_module_version": "1.5.0",
      "model_name": "VBoxModel",
      "state": {
       "_dom_classes": [],
       "_model_module": "@jupyter-widgets/controls",
       "_model_module_version": "1.5.0",
       "_model_name": "VBoxModel",
       "_view_count": null,
       "_view_module": "@jupyter-widgets/controls",
       "_view_module_version": "1.5.0",
       "_view_name": "VBoxView",
       "box_style": "",
       "children": [
        "IPY_MODEL_196d4defd8664224a4e70e50dceaaba7",
        "IPY_MODEL_d5195e454be24d2ca59dc6d7daf251d1"
       ],
       "layout": "IPY_MODEL_3e47da777b7f415392da0727a8c33ca2"
      }
     },
     "21ef153378394321ad27ba2375119527": {
      "model_module": "@jupyter-widgets/controls",
      "model_module_version": "1.5.0",
      "model_name": "VBoxModel",
      "state": {
       "_dom_classes": [],
       "_model_module": "@jupyter-widgets/controls",
       "_model_module_version": "1.5.0",
       "_model_name": "VBoxModel",
       "_view_count": null,
       "_view_module": "@jupyter-widgets/controls",
       "_view_module_version": "1.5.0",
       "_view_name": "VBoxView",
       "box_style": "",
       "children": [
        "IPY_MODEL_1d451f6b77c843a78a99d064ada1a65f",
        "IPY_MODEL_e461aa6063364c91ae65d335ce73137d"
       ],
       "layout": "IPY_MODEL_9ee026f450684c31a383d7cfa3d9d4bf"
      }
     },
     "2f305ef762694fe5b3300427eb5b8e3d": {
      "model_module": "@jupyter-widgets/controls",
      "model_module_version": "1.5.0",
      "model_name": "VBoxModel",
      "state": {
       "_dom_classes": [],
       "_model_module": "@jupyter-widgets/controls",
       "_model_module_version": "1.5.0",
       "_model_name": "VBoxModel",
       "_view_count": null,
       "_view_module": "@jupyter-widgets/controls",
       "_view_module_version": "1.5.0",
       "_view_name": "VBoxView",
       "box_style": "",
       "children": [
        "IPY_MODEL_1c77532f101e4484a126bbe0ade74c7c",
        "IPY_MODEL_b1ea2cb7b1c84f6c9b1a4452a9bc9dd8"
       ],
       "layout": "IPY_MODEL_43ab1db1b7fe4e6e8d92fd5fd45d76dc"
      }
     },
     "3e11b0897c744e50bd65b02b72753e86": {
      "model_module": "@jupyter-widgets/base",
      "model_module_version": "1.2.0",
      "model_name": "LayoutModel",
      "state": {
       "_model_module": "@jupyter-widgets/base",
       "_model_module_version": "1.2.0",
       "_model_name": "LayoutModel",
       "_view_count": null,
       "_view_module": "@jupyter-widgets/base",
       "_view_module_version": "1.2.0",
       "_view_name": "LayoutView",
       "align_content": null,
       "align_items": null,
       "align_self": null,
       "border": null,
       "bottom": null,
       "display": null,
       "flex": null,
       "flex_flow": null,
       "grid_area": null,
       "grid_auto_columns": null,
       "grid_auto_flow": null,
       "grid_auto_rows": null,
       "grid_column": null,
       "grid_gap": null,
       "grid_row": null,
       "grid_template_areas": null,
       "grid_template_columns": null,
       "grid_template_rows": null,
       "height": null,
       "justify_content": null,
       "justify_items": null,
       "left": null,
       "margin": null,
       "max_height": null,
       "max_width": null,
       "min_height": null,
       "min_width": null,
       "object_fit": null,
       "object_position": null,
       "order": null,
       "overflow": null,
       "overflow_x": null,
       "overflow_y": null,
       "padding": null,
       "right": null,
       "top": null,
       "visibility": null,
       "width": null
      }
     },
     "3e47da777b7f415392da0727a8c33ca2": {
      "model_module": "@jupyter-widgets/base",
      "model_module_version": "1.2.0",
      "model_name": "LayoutModel",
      "state": {
       "_model_module": "@jupyter-widgets/base",
       "_model_module_version": "1.2.0",
       "_model_name": "LayoutModel",
       "_view_count": null,
       "_view_module": "@jupyter-widgets/base",
       "_view_module_version": "1.2.0",
       "_view_name": "LayoutView",
       "align_content": null,
       "align_items": null,
       "align_self": null,
       "border": null,
       "bottom": null,
       "display": null,
       "flex": null,
       "flex_flow": null,
       "grid_area": null,
       "grid_auto_columns": null,
       "grid_auto_flow": null,
       "grid_auto_rows": null,
       "grid_column": null,
       "grid_gap": null,
       "grid_row": null,
       "grid_template_areas": null,
       "grid_template_columns": null,
       "grid_template_rows": null,
       "height": null,
       "justify_content": null,
       "justify_items": null,
       "left": null,
       "margin": null,
       "max_height": null,
       "max_width": null,
       "min_height": null,
       "min_width": null,
       "object_fit": null,
       "object_position": null,
       "order": null,
       "overflow": null,
       "overflow_x": null,
       "overflow_y": null,
       "padding": null,
       "right": null,
       "top": null,
       "visibility": null,
       "width": null
      }
     },
     "40d59485c93d4e03a40abdb4c2f82901": {
      "model_module": "@jupyter-widgets/base",
      "model_module_version": "1.2.0",
      "model_name": "LayoutModel",
      "state": {
       "_model_module": "@jupyter-widgets/base",
       "_model_module_version": "1.2.0",
       "_model_name": "LayoutModel",
       "_view_count": null,
       "_view_module": "@jupyter-widgets/base",
       "_view_module_version": "1.2.0",
       "_view_name": "LayoutView",
       "align_content": null,
       "align_items": null,
       "align_self": null,
       "border": null,
       "bottom": null,
       "display": null,
       "flex": null,
       "flex_flow": null,
       "grid_area": null,
       "grid_auto_columns": null,
       "grid_auto_flow": null,
       "grid_auto_rows": null,
       "grid_column": null,
       "grid_gap": null,
       "grid_row": null,
       "grid_template_areas": null,
       "grid_template_columns": null,
       "grid_template_rows": null,
       "height": null,
       "justify_content": null,
       "justify_items": null,
       "left": null,
       "margin": null,
       "max_height": null,
       "max_width": null,
       "min_height": null,
       "min_width": null,
       "object_fit": null,
       "object_position": null,
       "order": null,
       "overflow": null,
       "overflow_x": null,
       "overflow_y": null,
       "padding": null,
       "right": null,
       "top": null,
       "visibility": null,
       "width": null
      }
     },
     "426286af7d5d456db7510070f48c6acf": {
      "model_module": "@jupyter-widgets/base",
      "model_module_version": "1.2.0",
      "model_name": "LayoutModel",
      "state": {
       "_model_module": "@jupyter-widgets/base",
       "_model_module_version": "1.2.0",
       "_model_name": "LayoutModel",
       "_view_count": null,
       "_view_module": "@jupyter-widgets/base",
       "_view_module_version": "1.2.0",
       "_view_name": "LayoutView",
       "align_content": null,
       "align_items": null,
       "align_self": null,
       "border": null,
       "bottom": null,
       "display": null,
       "flex": null,
       "flex_flow": null,
       "grid_area": null,
       "grid_auto_columns": null,
       "grid_auto_flow": null,
       "grid_auto_rows": null,
       "grid_column": null,
       "grid_gap": null,
       "grid_row": null,
       "grid_template_areas": null,
       "grid_template_columns": null,
       "grid_template_rows": null,
       "height": null,
       "justify_content": null,
       "justify_items": null,
       "left": null,
       "margin": null,
       "max_height": null,
       "max_width": null,
       "min_height": null,
       "min_width": null,
       "object_fit": null,
       "object_position": null,
       "order": null,
       "overflow": null,
       "overflow_x": null,
       "overflow_y": null,
       "padding": null,
       "right": null,
       "top": null,
       "visibility": null,
       "width": null
      }
     },
     "43ab1db1b7fe4e6e8d92fd5fd45d76dc": {
      "model_module": "@jupyter-widgets/base",
      "model_module_version": "1.2.0",
      "model_name": "LayoutModel",
      "state": {
       "_model_module": "@jupyter-widgets/base",
       "_model_module_version": "1.2.0",
       "_model_name": "LayoutModel",
       "_view_count": null,
       "_view_module": "@jupyter-widgets/base",
       "_view_module_version": "1.2.0",
       "_view_name": "LayoutView",
       "align_content": null,
       "align_items": null,
       "align_self": null,
       "border": null,
       "bottom": null,
       "display": null,
       "flex": null,
       "flex_flow": null,
       "grid_area": null,
       "grid_auto_columns": null,
       "grid_auto_flow": null,
       "grid_auto_rows": null,
       "grid_column": null,
       "grid_gap": null,
       "grid_row": null,
       "grid_template_areas": null,
       "grid_template_columns": null,
       "grid_template_rows": null,
       "height": null,
       "justify_content": null,
       "justify_items": null,
       "left": null,
       "margin": null,
       "max_height": null,
       "max_width": null,
       "min_height": null,
       "min_width": null,
       "object_fit": null,
       "object_position": null,
       "order": null,
       "overflow": null,
       "overflow_x": null,
       "overflow_y": null,
       "padding": null,
       "right": null,
       "top": null,
       "visibility": null,
       "width": null
      }
     },
     "50cac78e833640dfa6c1c58d0a4c59c0": {
      "model_module": "@jupyter-widgets/base",
      "model_module_version": "1.2.0",
      "model_name": "LayoutModel",
      "state": {
       "_model_module": "@jupyter-widgets/base",
       "_model_module_version": "1.2.0",
       "_model_name": "LayoutModel",
       "_view_count": null,
       "_view_module": "@jupyter-widgets/base",
       "_view_module_version": "1.2.0",
       "_view_name": "LayoutView",
       "align_content": null,
       "align_items": null,
       "align_self": null,
       "border": null,
       "bottom": null,
       "display": null,
       "flex": null,
       "flex_flow": null,
       "grid_area": null,
       "grid_auto_columns": null,
       "grid_auto_flow": null,
       "grid_auto_rows": null,
       "grid_column": null,
       "grid_gap": null,
       "grid_row": null,
       "grid_template_areas": null,
       "grid_template_columns": null,
       "grid_template_rows": null,
       "height": null,
       "justify_content": null,
       "justify_items": null,
       "left": null,
       "margin": null,
       "max_height": null,
       "max_width": null,
       "min_height": null,
       "min_width": null,
       "object_fit": null,
       "object_position": null,
       "order": null,
       "overflow": null,
       "overflow_x": null,
       "overflow_y": null,
       "padding": null,
       "right": null,
       "top": null,
       "visibility": null,
       "width": null
      }
     },
     "5811c93b1d904ed498e1c0ed704a0e90": {
      "model_module": "@jupyter-widgets/controls",
      "model_module_version": "1.5.0",
      "model_name": "ProgressStyleModel",
      "state": {
       "_model_module": "@jupyter-widgets/controls",
       "_model_module_version": "1.5.0",
       "_model_name": "ProgressStyleModel",
       "_view_count": null,
       "_view_module": "@jupyter-widgets/base",
       "_view_module_version": "1.2.0",
       "_view_name": "StyleView",
       "bar_color": null,
       "description_width": ""
      }
     },
     "6b9d07bc78a74ec6a999ce81552212e7": {
      "model_module": "@jupyter-widgets/controls",
      "model_module_version": "1.5.0",
      "model_name": "VBoxModel",
      "state": {
       "_dom_classes": [],
       "_model_module": "@jupyter-widgets/controls",
       "_model_module_version": "1.5.0",
       "_model_name": "VBoxModel",
       "_view_count": null,
       "_view_module": "@jupyter-widgets/controls",
       "_view_module_version": "1.5.0",
       "_view_name": "VBoxView",
       "box_style": "",
       "children": [
        "IPY_MODEL_daede8860e22464599c15e247ca8b9e7",
        "IPY_MODEL_bbdfc2db44bd4cfbaaeae71cf12e51aa"
       ],
       "layout": "IPY_MODEL_91d87365a38846a0bfc142994bf41018"
      }
     },
     "715408e2ce3349b5a11ed681f02d3f04": {
      "model_module": "@jupyter-widgets/controls",
      "model_module_version": "1.5.0",
      "model_name": "DescriptionStyleModel",
      "state": {
       "_model_module": "@jupyter-widgets/controls",
       "_model_module_version": "1.5.0",
       "_model_name": "DescriptionStyleModel",
       "_view_count": null,
       "_view_module": "@jupyter-widgets/base",
       "_view_module_version": "1.2.0",
       "_view_name": "StyleView",
       "description_width": ""
      }
     },
     "7c96b2d813624a33aa4d8ac6eee88ea1": {
      "model_module": "@jupyter-widgets/controls",
      "model_module_version": "1.5.0",
      "model_name": "DescriptionStyleModel",
      "state": {
       "_model_module": "@jupyter-widgets/controls",
       "_model_module_version": "1.5.0",
       "_model_name": "DescriptionStyleModel",
       "_view_count": null,
       "_view_module": "@jupyter-widgets/base",
       "_view_module_version": "1.2.0",
       "_view_name": "StyleView",
       "description_width": ""
      }
     },
     "8420c5302d224320aedd53a2430d775d": {
      "model_module": "@jupyter-widgets/base",
      "model_module_version": "1.2.0",
      "model_name": "LayoutModel",
      "state": {
       "_model_module": "@jupyter-widgets/base",
       "_model_module_version": "1.2.0",
       "_model_name": "LayoutModel",
       "_view_count": null,
       "_view_module": "@jupyter-widgets/base",
       "_view_module_version": "1.2.0",
       "_view_name": "LayoutView",
       "align_content": null,
       "align_items": null,
       "align_self": null,
       "border": null,
       "bottom": null,
       "display": null,
       "flex": null,
       "flex_flow": null,
       "grid_area": null,
       "grid_auto_columns": null,
       "grid_auto_flow": null,
       "grid_auto_rows": null,
       "grid_column": null,
       "grid_gap": null,
       "grid_row": null,
       "grid_template_areas": null,
       "grid_template_columns": null,
       "grid_template_rows": null,
       "height": null,
       "justify_content": null,
       "justify_items": null,
       "left": null,
       "margin": null,
       "max_height": null,
       "max_width": null,
       "min_height": null,
       "min_width": null,
       "object_fit": null,
       "object_position": null,
       "order": null,
       "overflow": null,
       "overflow_x": null,
       "overflow_y": null,
       "padding": null,
       "right": null,
       "top": null,
       "visibility": null,
       "width": null
      }
     },
     "8b4e04371d954502acbe11bedf9c92cf": {
      "model_module": "@jupyter-widgets/base",
      "model_module_version": "1.2.0",
      "model_name": "LayoutModel",
      "state": {
       "_model_module": "@jupyter-widgets/base",
       "_model_module_version": "1.2.0",
       "_model_name": "LayoutModel",
       "_view_count": null,
       "_view_module": "@jupyter-widgets/base",
       "_view_module_version": "1.2.0",
       "_view_name": "LayoutView",
       "align_content": null,
       "align_items": null,
       "align_self": null,
       "border": null,
       "bottom": null,
       "display": null,
       "flex": null,
       "flex_flow": null,
       "grid_area": null,
       "grid_auto_columns": null,
       "grid_auto_flow": null,
       "grid_auto_rows": null,
       "grid_column": null,
       "grid_gap": null,
       "grid_row": null,
       "grid_template_areas": null,
       "grid_template_columns": null,
       "grid_template_rows": null,
       "height": null,
       "justify_content": null,
       "justify_items": null,
       "left": null,
       "margin": null,
       "max_height": null,
       "max_width": null,
       "min_height": null,
       "min_width": null,
       "object_fit": null,
       "object_position": null,
       "order": null,
       "overflow": null,
       "overflow_x": null,
       "overflow_y": null,
       "padding": null,
       "right": null,
       "top": null,
       "visibility": null,
       "width": null
      }
     },
     "91d87365a38846a0bfc142994bf41018": {
      "model_module": "@jupyter-widgets/base",
      "model_module_version": "1.2.0",
      "model_name": "LayoutModel",
      "state": {
       "_model_module": "@jupyter-widgets/base",
       "_model_module_version": "1.2.0",
       "_model_name": "LayoutModel",
       "_view_count": null,
       "_view_module": "@jupyter-widgets/base",
       "_view_module_version": "1.2.0",
       "_view_name": "LayoutView",
       "align_content": null,
       "align_items": null,
       "align_self": null,
       "border": null,
       "bottom": null,
       "display": null,
       "flex": null,
       "flex_flow": null,
       "grid_area": null,
       "grid_auto_columns": null,
       "grid_auto_flow": null,
       "grid_auto_rows": null,
       "grid_column": null,
       "grid_gap": null,
       "grid_row": null,
       "grid_template_areas": null,
       "grid_template_columns": null,
       "grid_template_rows": null,
       "height": null,
       "justify_content": null,
       "justify_items": null,
       "left": null,
       "margin": null,
       "max_height": null,
       "max_width": null,
       "min_height": null,
       "min_width": null,
       "object_fit": null,
       "object_position": null,
       "order": null,
       "overflow": null,
       "overflow_x": null,
       "overflow_y": null,
       "padding": null,
       "right": null,
       "top": null,
       "visibility": null,
       "width": null
      }
     },
     "941e8233a20145b69bfeb0689995aa18": {
      "model_module": "@jupyter-widgets/base",
      "model_module_version": "1.2.0",
      "model_name": "LayoutModel",
      "state": {
       "_model_module": "@jupyter-widgets/base",
       "_model_module_version": "1.2.0",
       "_model_name": "LayoutModel",
       "_view_count": null,
       "_view_module": "@jupyter-widgets/base",
       "_view_module_version": "1.2.0",
       "_view_name": "LayoutView",
       "align_content": null,
       "align_items": null,
       "align_self": null,
       "border": null,
       "bottom": null,
       "display": null,
       "flex": null,
       "flex_flow": null,
       "grid_area": null,
       "grid_auto_columns": null,
       "grid_auto_flow": null,
       "grid_auto_rows": null,
       "grid_column": null,
       "grid_gap": null,
       "grid_row": null,
       "grid_template_areas": null,
       "grid_template_columns": null,
       "grid_template_rows": null,
       "height": null,
       "justify_content": null,
       "justify_items": null,
       "left": null,
       "margin": null,
       "max_height": null,
       "max_width": null,
       "min_height": null,
       "min_width": null,
       "object_fit": null,
       "object_position": null,
       "order": null,
       "overflow": null,
       "overflow_x": null,
       "overflow_y": null,
       "padding": null,
       "right": null,
       "top": null,
       "visibility": null,
       "width": null
      }
     },
     "9ee026f450684c31a383d7cfa3d9d4bf": {
      "model_module": "@jupyter-widgets/base",
      "model_module_version": "1.2.0",
      "model_name": "LayoutModel",
      "state": {
       "_model_module": "@jupyter-widgets/base",
       "_model_module_version": "1.2.0",
       "_model_name": "LayoutModel",
       "_view_count": null,
       "_view_module": "@jupyter-widgets/base",
       "_view_module_version": "1.2.0",
       "_view_name": "LayoutView",
       "align_content": null,
       "align_items": null,
       "align_self": null,
       "border": null,
       "bottom": null,
       "display": null,
       "flex": null,
       "flex_flow": null,
       "grid_area": null,
       "grid_auto_columns": null,
       "grid_auto_flow": null,
       "grid_auto_rows": null,
       "grid_column": null,
       "grid_gap": null,
       "grid_row": null,
       "grid_template_areas": null,
       "grid_template_columns": null,
       "grid_template_rows": null,
       "height": null,
       "justify_content": null,
       "justify_items": null,
       "left": null,
       "margin": null,
       "max_height": null,
       "max_width": null,
       "min_height": null,
       "min_width": null,
       "object_fit": null,
       "object_position": null,
       "order": null,
       "overflow": null,
       "overflow_x": null,
       "overflow_y": null,
       "padding": null,
       "right": null,
       "top": null,
       "visibility": null,
       "width": null
      }
     },
     "b1ea2cb7b1c84f6c9b1a4452a9bc9dd8": {
      "model_module": "@jupyter-widgets/controls",
      "model_module_version": "1.5.0",
      "model_name": "FloatProgressModel",
      "state": {
       "_dom_classes": [],
       "_model_module": "@jupyter-widgets/controls",
       "_model_module_version": "1.5.0",
       "_model_name": "FloatProgressModel",
       "_view_count": null,
       "_view_module": "@jupyter-widgets/controls",
       "_view_module_version": "1.5.0",
       "_view_name": "ProgressView",
       "bar_style": "",
       "description": "",
       "description_tooltip": null,
       "layout": "IPY_MODEL_40d59485c93d4e03a40abdb4c2f82901",
       "max": 1.0,
       "min": 0.0,
       "orientation": "horizontal",
       "style": "IPY_MODEL_5811c93b1d904ed498e1c0ed704a0e90",
       "value": 0.0
      }
     },
     "bbdfc2db44bd4cfbaaeae71cf12e51aa": {
      "model_module": "@jupyter-widgets/controls",
      "model_module_version": "1.5.0",
      "model_name": "FloatProgressModel",
      "state": {
       "_dom_classes": [],
       "_model_module": "@jupyter-widgets/controls",
       "_model_module_version": "1.5.0",
       "_model_name": "FloatProgressModel",
       "_view_count": null,
       "_view_module": "@jupyter-widgets/controls",
       "_view_module_version": "1.5.0",
       "_view_name": "ProgressView",
       "bar_style": "",
       "description": "",
       "description_tooltip": null,
       "layout": "IPY_MODEL_8420c5302d224320aedd53a2430d775d",
       "max": 1.0,
       "min": 0.0,
       "orientation": "horizontal",
       "style": "IPY_MODEL_c14f6725e9444a79a4fd196694cafd35",
       "value": 1.0
      }
     },
     "c14f6725e9444a79a4fd196694cafd35": {
      "model_module": "@jupyter-widgets/controls",
      "model_module_version": "1.5.0",
      "model_name": "ProgressStyleModel",
      "state": {
       "_model_module": "@jupyter-widgets/controls",
       "_model_module_version": "1.5.0",
       "_model_name": "ProgressStyleModel",
       "_view_count": null,
       "_view_module": "@jupyter-widgets/base",
       "_view_module_version": "1.2.0",
       "_view_name": "StyleView",
       "bar_color": null,
       "description_width": ""
      }
     },
     "c473e00f751f4019b3813df63ca12910": {
      "model_module": "@jupyter-widgets/controls",
      "model_module_version": "1.5.0",
      "model_name": "DescriptionStyleModel",
      "state": {
       "_model_module": "@jupyter-widgets/controls",
       "_model_module_version": "1.5.0",
       "_model_name": "DescriptionStyleModel",
       "_view_count": null,
       "_view_module": "@jupyter-widgets/base",
       "_view_module_version": "1.2.0",
       "_view_name": "StyleView",
       "description_width": ""
      }
     },
     "ca50fea551a04621a9a431ed5f792f39": {
      "model_module": "@jupyter-widgets/base",
      "model_module_version": "1.2.0",
      "model_name": "LayoutModel",
      "state": {
       "_model_module": "@jupyter-widgets/base",
       "_model_module_version": "1.2.0",
       "_model_name": "LayoutModel",
       "_view_count": null,
       "_view_module": "@jupyter-widgets/base",
       "_view_module_version": "1.2.0",
       "_view_name": "LayoutView",
       "align_content": null,
       "align_items": null,
       "align_self": null,
       "border": null,
       "bottom": null,
       "display": null,
       "flex": null,
       "flex_flow": null,
       "grid_area": null,
       "grid_auto_columns": null,
       "grid_auto_flow": null,
       "grid_auto_rows": null,
       "grid_column": null,
       "grid_gap": null,
       "grid_row": null,
       "grid_template_areas": null,
       "grid_template_columns": null,
       "grid_template_rows": null,
       "height": null,
       "justify_content": null,
       "justify_items": null,
       "left": null,
       "margin": null,
       "max_height": null,
       "max_width": null,
       "min_height": null,
       "min_width": null,
       "object_fit": null,
       "object_position": null,
       "order": null,
       "overflow": null,
       "overflow_x": null,
       "overflow_y": null,
       "padding": null,
       "right": null,
       "top": null,
       "visibility": null,
       "width": null
      }
     },
     "d5195e454be24d2ca59dc6d7daf251d1": {
      "model_module": "@jupyter-widgets/controls",
      "model_module_version": "1.5.0",
      "model_name": "FloatProgressModel",
      "state": {
       "_dom_classes": [],
       "_model_module": "@jupyter-widgets/controls",
       "_model_module_version": "1.5.0",
       "_model_name": "FloatProgressModel",
       "_view_count": null,
       "_view_module": "@jupyter-widgets/controls",
       "_view_module_version": "1.5.0",
       "_view_name": "ProgressView",
       "bar_style": "",
       "description": "",
       "description_tooltip": null,
       "layout": "IPY_MODEL_50cac78e833640dfa6c1c58d0a4c59c0",
       "max": 1.0,
       "min": 0.0,
       "orientation": "horizontal",
       "style": "IPY_MODEL_ff5e977c587c4d69968357dfb0a6cc3e",
       "value": 0.0
      }
     },
     "daede8860e22464599c15e247ca8b9e7": {
      "model_module": "@jupyter-widgets/controls",
      "model_module_version": "1.5.0",
      "model_name": "LabelModel",
      "state": {
       "_dom_classes": [],
       "_model_module": "@jupyter-widgets/controls",
       "_model_module_version": "1.5.0",
       "_model_name": "LabelModel",
       "_view_count": null,
       "_view_module": "@jupyter-widgets/controls",
       "_view_module_version": "1.5.0",
       "_view_name": "LabelView",
       "description": "",
       "description_tooltip": null,
       "layout": "IPY_MODEL_ca50fea551a04621a9a431ed5f792f39",
       "placeholder": "​",
       "style": "IPY_MODEL_c473e00f751f4019b3813df63ca12910",
       "value": "0.439 MB of 0.439 MB uploaded (0.000 MB deduped)\r"
      }
     },
     "dde9685820c24bdd86a6746dea35e9e5": {
      "model_module": "@jupyter-widgets/controls",
      "model_module_version": "1.5.0",
      "model_name": "DescriptionStyleModel",
      "state": {
       "_model_module": "@jupyter-widgets/controls",
       "_model_module_version": "1.5.0",
       "_model_name": "DescriptionStyleModel",
       "_view_count": null,
       "_view_module": "@jupyter-widgets/base",
       "_view_module_version": "1.2.0",
       "_view_name": "StyleView",
       "description_width": ""
      }
     },
     "e461aa6063364c91ae65d335ce73137d": {
      "model_module": "@jupyter-widgets/controls",
      "model_module_version": "1.5.0",
      "model_name": "FloatProgressModel",
      "state": {
       "_dom_classes": [],
       "_model_module": "@jupyter-widgets/controls",
       "_model_module_version": "1.5.0",
       "_model_name": "FloatProgressModel",
       "_view_count": null,
       "_view_module": "@jupyter-widgets/controls",
       "_view_module_version": "1.5.0",
       "_view_name": "ProgressView",
       "bar_style": "",
       "description": "",
       "description_tooltip": null,
       "layout": "IPY_MODEL_3e11b0897c744e50bd65b02b72753e86",
       "max": 1.0,
       "min": 0.0,
       "orientation": "horizontal",
       "style": "IPY_MODEL_ed27872d35694c64823e141e2a901c41",
       "value": 0.0
      }
     },
     "ed27872d35694c64823e141e2a901c41": {
      "model_module": "@jupyter-widgets/controls",
      "model_module_version": "1.5.0",
      "model_name": "ProgressStyleModel",
      "state": {
       "_model_module": "@jupyter-widgets/controls",
       "_model_module_version": "1.5.0",
       "_model_name": "ProgressStyleModel",
       "_view_count": null,
       "_view_module": "@jupyter-widgets/base",
       "_view_module_version": "1.2.0",
       "_view_name": "StyleView",
       "bar_color": null,
       "description_width": ""
      }
     },
     "ff5e977c587c4d69968357dfb0a6cc3e": {
      "model_module": "@jupyter-widgets/controls",
      "model_module_version": "1.5.0",
      "model_name": "ProgressStyleModel",
      "state": {
       "_model_module": "@jupyter-widgets/controls",
       "_model_module_version": "1.5.0",
       "_model_name": "ProgressStyleModel",
       "_view_count": null,
       "_view_module": "@jupyter-widgets/base",
       "_view_module_version": "1.2.0",
       "_view_name": "StyleView",
       "bar_color": null,
       "description_width": ""
      }
     }
    },
    "version_major": 2,
    "version_minor": 0
   }
  }
 },
 "nbformat": 4,
 "nbformat_minor": 5
}
