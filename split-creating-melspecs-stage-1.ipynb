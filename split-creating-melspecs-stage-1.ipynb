{
 "cells": [
  {
   "cell_type": "markdown",
   "id": "0a35a1f2",
   "metadata": {
    "papermill": {
     "duration": 0.008746,
     "end_time": "2023-03-11T18:09:33.977073",
     "exception": false,
     "start_time": "2023-03-11T18:09:33.968327",
     "status": "completed"
    },
    "tags": []
   },
   "source": [
    "# Let's Think of a Better Split Method"
   ]
  },
  {
   "cell_type": "code",
   "execution_count": 1,
   "id": "eb8bb0d6",
   "metadata": {
    "execution": {
     "iopub.execute_input": "2023-03-11T18:09:33.995087Z",
     "iopub.status.busy": "2023-03-11T18:09:33.993746Z",
     "iopub.status.idle": "2023-03-11T18:09:35.279830Z",
     "shell.execute_reply": "2023-03-11T18:09:35.278497Z"
    },
    "id": "2dt7oG43VAqc",
    "papermill": {
     "duration": 1.298312,
     "end_time": "2023-03-11T18:09:35.282990",
     "exception": false,
     "start_time": "2023-03-11T18:09:33.984678",
     "status": "completed"
    },
    "tags": []
   },
   "outputs": [],
   "source": [
    "import numpy as np\n",
    "import librosa as lb\n",
    "import librosa.display as lbd\n",
    "import soundfile as sf\n",
    "from  soundfile import SoundFile\n",
    "import pandas as pd\n",
    "from  IPython.display import Audio\n",
    "from pathlib import Path\n",
    "\n",
    "from matplotlib import pyplot as plt\n",
    "\n",
    "from tqdm.notebook import tqdm\n",
    "import joblib, json, re\n",
    "\n",
    "from  sklearn.model_selection  import StratifiedKFold\n",
    "tqdm.pandas()"
   ]
  },
  {
   "cell_type": "code",
   "execution_count": 2,
   "id": "494ee6b4",
   "metadata": {
    "execution": {
     "iopub.execute_input": "2023-03-11T18:09:35.302890Z",
     "iopub.status.busy": "2023-03-11T18:09:35.301746Z",
     "iopub.status.idle": "2023-03-11T18:09:35.469037Z",
     "shell.execute_reply": "2023-03-11T18:09:35.467735Z"
    },
    "papermill": {
     "duration": 0.180444,
     "end_time": "2023-03-11T18:09:35.471958",
     "exception": false,
     "start_time": "2023-03-11T18:09:35.291514",
     "status": "completed"
    },
    "tags": []
   },
   "outputs": [],
   "source": [
    "df = pd.read_csv('../input/birdclef-2023/train_metadata.csv')\n",
    "df['secondary_labels'] = df['secondary_labels'].apply(lambda x: re.findall(r\"'(\\w+)'\", x))\n",
    "df['len_sec_labels'] = df['secondary_labels'].map(len)\n"
   ]
  },
  {
   "cell_type": "code",
   "execution_count": 3,
   "id": "4c303156",
   "metadata": {
    "execution": {
     "iopub.execute_input": "2023-03-11T18:09:35.489537Z",
     "iopub.status.busy": "2023-03-11T18:09:35.489064Z",
     "iopub.status.idle": "2023-03-11T18:09:35.526746Z",
     "shell.execute_reply": "2023-03-11T18:09:35.525824Z"
    },
    "papermill": {
     "duration": 0.049849,
     "end_time": "2023-03-11T18:09:35.529706",
     "exception": false,
     "start_time": "2023-03-11T18:09:35.479857",
     "status": "completed"
    },
    "tags": []
   },
   "outputs": [
    {
     "data": {
      "text/html": [
       "<div>\n",
       "<style scoped>\n",
       "    .dataframe tbody tr th:only-of-type {\n",
       "        vertical-align: middle;\n",
       "    }\n",
       "\n",
       "    .dataframe tbody tr th {\n",
       "        vertical-align: top;\n",
       "    }\n",
       "\n",
       "    .dataframe thead th {\n",
       "        text-align: right;\n",
       "    }\n",
       "</style>\n",
       "<table border=\"1\" class=\"dataframe\">\n",
       "  <thead>\n",
       "    <tr style=\"text-align: right;\">\n",
       "      <th></th>\n",
       "      <th>primary_label</th>\n",
       "      <th>secondary_labels</th>\n",
       "      <th>type</th>\n",
       "      <th>latitude</th>\n",
       "      <th>longitude</th>\n",
       "      <th>scientific_name</th>\n",
       "      <th>common_name</th>\n",
       "      <th>author</th>\n",
       "      <th>license</th>\n",
       "      <th>rating</th>\n",
       "      <th>url</th>\n",
       "      <th>filename</th>\n",
       "      <th>len_sec_labels</th>\n",
       "    </tr>\n",
       "  </thead>\n",
       "  <tbody>\n",
       "    <tr>\n",
       "      <th>16369</th>\n",
       "      <td>yebapa1</td>\n",
       "      <td>[reftin1]</td>\n",
       "      <td>['duet', 'song']</td>\n",
       "      <td>-33.4733</td>\n",
       "      <td>26.9505</td>\n",
       "      <td>Apalis flavida</td>\n",
       "      <td>Yellow-breasted Apalis</td>\n",
       "      <td>Tim Cockcroft</td>\n",
       "      <td>Creative Commons Attribution-NonCommercial-Sha...</td>\n",
       "      <td>4.5</td>\n",
       "      <td>https://www.xeno-canto.org/622672</td>\n",
       "      <td>yebapa1/XC622672.ogg</td>\n",
       "      <td>1</td>\n",
       "    </tr>\n",
       "    <tr>\n",
       "      <th>13488</th>\n",
       "      <td>subbus1</td>\n",
       "      <td>[reedov1]</td>\n",
       "      <td>['song']</td>\n",
       "      <td>-26.0860</td>\n",
       "      <td>27.8440</td>\n",
       "      <td>Telophorus sulfureopectus</td>\n",
       "      <td>Sulphur-breasted Bushshrike</td>\n",
       "      <td>Niall Perrins</td>\n",
       "      <td>Creative Commons Attribution-NonCommercial-Sha...</td>\n",
       "      <td>4.5</td>\n",
       "      <td>https://www.xeno-canto.org/336397</td>\n",
       "      <td>subbus1/XC336397.ogg</td>\n",
       "      <td>1</td>\n",
       "    </tr>\n",
       "    <tr>\n",
       "      <th>9667</th>\n",
       "      <td>libeat1</td>\n",
       "      <td>[afmdov1, blnmou1, slcbou1]</td>\n",
       "      <td>['call', 'song']</td>\n",
       "      <td>0.5824</td>\n",
       "      <td>37.5861</td>\n",
       "      <td>Merops pusillus</td>\n",
       "      <td>Little Bee-eater</td>\n",
       "      <td>Rory Nefdt</td>\n",
       "      <td>Creative Commons Attribution-NonCommercial-Sha...</td>\n",
       "      <td>3.5</td>\n",
       "      <td>https://www.xeno-canto.org/235185</td>\n",
       "      <td>libeat1/XC235185.ogg</td>\n",
       "      <td>3</td>\n",
       "    </tr>\n",
       "  </tbody>\n",
       "</table>\n",
       "</div>"
      ],
      "text/plain": [
       "      primary_label             secondary_labels              type  latitude  \\\n",
       "16369       yebapa1                    [reftin1]  ['duet', 'song']  -33.4733   \n",
       "13488       subbus1                    [reedov1]          ['song']  -26.0860   \n",
       "9667        libeat1  [afmdov1, blnmou1, slcbou1]  ['call', 'song']    0.5824   \n",
       "\n",
       "       longitude            scientific_name                  common_name  \\\n",
       "16369    26.9505             Apalis flavida       Yellow-breasted Apalis   \n",
       "13488    27.8440  Telophorus sulfureopectus  Sulphur-breasted Bushshrike   \n",
       "9667     37.5861            Merops pusillus             Little Bee-eater   \n",
       "\n",
       "              author                                            license  \\\n",
       "16369  Tim Cockcroft  Creative Commons Attribution-NonCommercial-Sha...   \n",
       "13488  Niall Perrins  Creative Commons Attribution-NonCommercial-Sha...   \n",
       "9667      Rory Nefdt  Creative Commons Attribution-NonCommercial-Sha...   \n",
       "\n",
       "       rating                                url              filename  \\\n",
       "16369     4.5  https://www.xeno-canto.org/622672  yebapa1/XC622672.ogg   \n",
       "13488     4.5  https://www.xeno-canto.org/336397  subbus1/XC336397.ogg   \n",
       "9667      3.5  https://www.xeno-canto.org/235185  libeat1/XC235185.ogg   \n",
       "\n",
       "       len_sec_labels  \n",
       "16369               1  \n",
       "13488               1  \n",
       "9667                3  "
      ]
     },
     "execution_count": 3,
     "metadata": {},
     "output_type": "execute_result"
    }
   ],
   "source": [
    "df[df.len_sec_labels>0].sample(3)"
   ]
  },
  {
   "cell_type": "code",
   "execution_count": 4,
   "id": "4682e902",
   "metadata": {
    "execution": {
     "iopub.execute_input": "2023-03-11T18:09:35.547489Z",
     "iopub.status.busy": "2023-03-11T18:09:35.546814Z",
     "iopub.status.idle": "2023-03-11T18:09:35.560752Z",
     "shell.execute_reply": "2023-03-11T18:09:35.559551Z"
    },
    "papermill": {
     "duration": 0.026041,
     "end_time": "2023-03-11T18:09:35.563514",
     "exception": false,
     "start_time": "2023-03-11T18:09:35.537473",
     "status": "completed"
    },
    "tags": []
   },
   "outputs": [
    {
     "data": {
      "text/plain": [
       "barswa     500\n",
       "wlwwar     500\n",
       "thrnig1    500\n",
       "eaywag1    500\n",
       "comsan     500\n",
       "          ... \n",
       "lotcor1      1\n",
       "whctur2      1\n",
       "whhsaw1      1\n",
       "afpkin1      1\n",
       "crefra2      1\n",
       "Name: primary_label, Length: 264, dtype: int64"
      ]
     },
     "execution_count": 4,
     "metadata": {},
     "output_type": "execute_result"
    }
   ],
   "source": [
    "df.primary_label.value_counts()"
   ]
  },
  {
   "cell_type": "markdown",
   "id": "2f1efae2",
   "metadata": {
    "papermill": {
     "duration": 0.007459,
     "end_time": "2023-03-11T18:09:35.578790",
     "exception": false,
     "start_time": "2023-03-11T18:09:35.571331",
     "status": "completed"
    },
    "tags": []
   },
   "source": [
    "# Something has to be done for Birds with <= 1 samples."
   ]
  },
  {
   "cell_type": "markdown",
   "id": "090f9dfe",
   "metadata": {
    "papermill": {
     "duration": 0.007378,
     "end_time": "2023-03-11T18:09:35.593900",
     "exception": false,
     "start_time": "2023-03-11T18:09:35.586522",
     "status": "completed"
    },
    "tags": []
   },
   "source": [
    "## Also the fact that we have to perform inference in 2 hours w/ CPU, I think best solution is just to have single split rather than using multiple folds."
   ]
  },
  {
   "cell_type": "code",
   "execution_count": 5,
   "id": "3e3ad2f5",
   "metadata": {
    "execution": {
     "iopub.execute_input": "2023-03-11T18:09:35.612648Z",
     "iopub.status.busy": "2023-03-11T18:09:35.612153Z",
     "iopub.status.idle": "2023-03-11T18:09:35.621700Z",
     "shell.execute_reply": "2023-03-11T18:09:35.620681Z"
    },
    "papermill": {
     "duration": 0.022238,
     "end_time": "2023-03-11T18:09:35.623997",
     "exception": false,
     "start_time": "2023-03-11T18:09:35.601759",
     "status": "completed"
    },
    "tags": []
   },
   "outputs": [],
   "source": [
    "from sklearn.model_selection import train_test_split\n",
    "import pandas as pd\n",
    "\n",
    "def birds_stratified_split(df, target_col, test_size=0.2):\n",
    "    class_counts = df[target_col].value_counts()\n",
    "    low_count_classes = class_counts[class_counts < 2].index.tolist() ### Birds with single counts\n",
    "\n",
    "    df['train'] = df[target_col].isin(low_count_classes)\n",
    "\n",
    "    train_df, val_df = train_test_split(df[~df['train']], test_size=test_size, stratify=df[~df['train']][target_col], random_state=42)\n",
    "\n",
    "    train_df = pd.concat([train_df, df[df['train']]], axis=0).reset_index(drop=True)\n",
    "\n",
    "    # Remove the 'valid' column\n",
    "    train_df.drop('train', axis=1, inplace=True)\n",
    "    val_df.drop('train', axis=1, inplace=True)\n",
    "\n",
    "    return train_df, val_df"
   ]
  },
  {
   "cell_type": "code",
   "execution_count": 6,
   "id": "3e6fecc2",
   "metadata": {
    "execution": {
     "iopub.execute_input": "2023-03-11T18:09:35.641785Z",
     "iopub.status.busy": "2023-03-11T18:09:35.641046Z",
     "iopub.status.idle": "2023-03-11T18:09:35.700469Z",
     "shell.execute_reply": "2023-03-11T18:09:35.699226Z"
    },
    "papermill": {
     "duration": 0.071714,
     "end_time": "2023-03-11T18:09:35.703523",
     "exception": false,
     "start_time": "2023-03-11T18:09:35.631809",
     "status": "completed"
    },
    "tags": []
   },
   "outputs": [],
   "source": [
    "train_df, valid_df = birds_stratified_split(df, 'primary_label', 0.2)"
   ]
  },
  {
   "cell_type": "code",
   "execution_count": 7,
   "id": "3369fcdc",
   "metadata": {
    "execution": {
     "iopub.execute_input": "2023-03-11T18:09:35.720920Z",
     "iopub.status.busy": "2023-03-11T18:09:35.720510Z",
     "iopub.status.idle": "2023-03-11T18:09:35.731583Z",
     "shell.execute_reply": "2023-03-11T18:09:35.730452Z"
    },
    "papermill": {
     "duration": 0.022906,
     "end_time": "2023-03-11T18:09:35.734307",
     "exception": false,
     "start_time": "2023-03-11T18:09:35.711401",
     "status": "completed"
    },
    "tags": []
   },
   "outputs": [
    {
     "data": {
      "text/plain": [
       "barswa     500\n",
       "wlwwar     500\n",
       "thrnig1    500\n",
       "eaywag1    500\n",
       "comsan     500\n",
       "          ... \n",
       "lotcor1      1\n",
       "whctur2      1\n",
       "whhsaw1      1\n",
       "afpkin1      1\n",
       "crefra2      1\n",
       "Name: primary_label, Length: 264, dtype: int64"
      ]
     },
     "execution_count": 7,
     "metadata": {},
     "output_type": "execute_result"
    }
   ],
   "source": [
    "df.primary_label.value_counts()"
   ]
  },
  {
   "cell_type": "code",
   "execution_count": 8,
   "id": "0e39fb81",
   "metadata": {
    "execution": {
     "iopub.execute_input": "2023-03-11T18:09:35.752361Z",
     "iopub.status.busy": "2023-03-11T18:09:35.751574Z",
     "iopub.status.idle": "2023-03-11T18:09:35.762234Z",
     "shell.execute_reply": "2023-03-11T18:09:35.761071Z"
    },
    "papermill": {
     "duration": 0.022929,
     "end_time": "2023-03-11T18:09:35.765136",
     "exception": false,
     "start_time": "2023-03-11T18:09:35.742207",
     "status": "completed"
    },
    "tags": []
   },
   "outputs": [
    {
     "data": {
      "text/plain": [
       "barswa     400\n",
       "wlwwar     400\n",
       "thrnig1    400\n",
       "eaywag1    400\n",
       "comsan     400\n",
       "          ... \n",
       "crefra2      1\n",
       "lotcor1      1\n",
       "whctur2      1\n",
       "whhsaw1      1\n",
       "yebsto1      1\n",
       "Name: primary_label, Length: 264, dtype: int64"
      ]
     },
     "execution_count": 8,
     "metadata": {},
     "output_type": "execute_result"
    }
   ],
   "source": [
    "train_df.primary_label.value_counts()"
   ]
  },
  {
   "cell_type": "code",
   "execution_count": 9,
   "id": "2a869b8a",
   "metadata": {
    "execution": {
     "iopub.execute_input": "2023-03-11T18:09:35.783942Z",
     "iopub.status.busy": "2023-03-11T18:09:35.782770Z",
     "iopub.status.idle": "2023-03-11T18:09:35.791897Z",
     "shell.execute_reply": "2023-03-11T18:09:35.791067Z"
    },
    "papermill": {
     "duration": 0.020881,
     "end_time": "2023-03-11T18:09:35.794149",
     "exception": false,
     "start_time": "2023-03-11T18:09:35.773268",
     "status": "completed"
    },
    "tags": []
   },
   "outputs": [
    {
     "data": {
      "text/plain": [
       "comsan     100\n",
       "eaywag1    100\n",
       "wlwwar     100\n",
       "barswa     100\n",
       "thrnig1    100\n",
       "          ... \n",
       "gobsta5      1\n",
       "palpri1      1\n",
       "pabspa1      1\n",
       "macshr1      1\n",
       "darter3      1\n",
       "Name: primary_label, Length: 254, dtype: int64"
      ]
     },
     "execution_count": 9,
     "metadata": {},
     "output_type": "execute_result"
    }
   ],
   "source": [
    "valid_df.primary_label.value_counts()"
   ]
  },
  {
   "cell_type": "code",
   "execution_count": 10,
   "id": "18603b51",
   "metadata": {
    "execution": {
     "iopub.execute_input": "2023-03-11T18:09:35.812562Z",
     "iopub.status.busy": "2023-03-11T18:09:35.811876Z",
     "iopub.status.idle": "2023-03-11T18:09:35.816878Z",
     "shell.execute_reply": "2023-03-11T18:09:35.816059Z"
    },
    "papermill": {
     "duration": 0.01686,
     "end_time": "2023-03-11T18:09:35.819103",
     "exception": false,
     "start_time": "2023-03-11T18:09:35.802243",
     "status": "completed"
    },
    "tags": []
   },
   "outputs": [],
   "source": [
    "class Config:\n",
    "    sampling_rate = 32000\n",
    "    duration = 5 \n",
    "    fmin = 0\n",
    "    fmax = None\n",
    "    audios_path = Path(\"../input/birdclef-2023/train_audio\")\n",
    "    out_dir_train = Path(\"../input/split-creating-melspecs-stage-1/specs/train\") \n",
    "    \n",
    "    out_dir_valid = Path(\"../input/split-creating-melspecs-stage-1/specs/valid\") \n"
   ]
  },
  {
   "cell_type": "code",
   "execution_count": 11,
   "id": "df8b9f19",
   "metadata": {
    "execution": {
     "iopub.execute_input": "2023-03-11T18:09:35.837800Z",
     "iopub.status.busy": "2023-03-11T18:09:35.837326Z",
     "iopub.status.idle": "2023-03-11T18:09:35.843499Z",
     "shell.execute_reply": "2023-03-11T18:09:35.842297Z"
    },
    "papermill": {
     "duration": 0.019242,
     "end_time": "2023-03-11T18:09:35.846318",
     "exception": false,
     "start_time": "2023-03-11T18:09:35.827076",
     "status": "completed"
    },
    "tags": []
   },
   "outputs": [],
   "source": [
    "Config.out_dir_train.mkdir(exist_ok=True, parents=True)\n",
    "Config.out_dir_valid.mkdir(exist_ok=True, parents=True)"
   ]
  },
  {
   "cell_type": "code",
   "execution_count": 12,
   "id": "621fc699",
   "metadata": {
    "execution": {
     "iopub.execute_input": "2023-03-11T18:09:35.865399Z",
     "iopub.status.busy": "2023-03-11T18:09:35.864434Z",
     "iopub.status.idle": "2023-03-11T18:09:35.871285Z",
     "shell.execute_reply": "2023-03-11T18:09:35.870063Z"
    },
    "papermill": {
     "duration": 0.019382,
     "end_time": "2023-03-11T18:09:35.873829",
     "exception": false,
     "start_time": "2023-03-11T18:09:35.854447",
     "status": "completed"
    },
    "tags": []
   },
   "outputs": [],
   "source": [
    "def get_audio_info(filepath):\n",
    "    \"\"\"Get some properties from  an audio file\"\"\"\n",
    "    with SoundFile(filepath) as f:\n",
    "        sr = f.samplerate\n",
    "        frames = f.frames\n",
    "        duration = float(frames)/sr\n",
    "    return {\"frames\": frames, \"sr\": sr, \"duration\": duration}"
   ]
  },
  {
   "cell_type": "code",
   "execution_count": 13,
   "id": "3ed63593",
   "metadata": {
    "execution": {
     "iopub.execute_input": "2023-03-11T18:09:35.892240Z",
     "iopub.status.busy": "2023-03-11T18:09:35.891803Z",
     "iopub.status.idle": "2023-03-11T18:09:35.899648Z",
     "shell.execute_reply": "2023-03-11T18:09:35.898425Z"
    },
    "id": "Kmh6xx5_NCjJ",
    "outputId": "ad61f09f-6f0e-4204-c658-21112e051785",
    "papermill": {
     "duration": 0.019921,
     "end_time": "2023-03-11T18:09:35.902253",
     "exception": false,
     "start_time": "2023-03-11T18:09:35.882332",
     "status": "completed"
    },
    "tags": []
   },
   "outputs": [],
   "source": [
    "def add_path_df(df):\n",
    "    \n",
    "    df[\"path\"] = [str(Config.audios_path/filename) for filename in df.filename]\n",
    "    df = df.reset_index(drop=True)\n",
    "    pool = joblib.Parallel(2)\n",
    "    mapper = joblib.delayed(get_audio_info)\n",
    "    tasks = [mapper(filepath) for filepath in df.path]\n",
    "    df2 =  pd.DataFrame(pool(tqdm(tasks))).reset_index(drop=True)\n",
    "    df = pd.concat([df,df2], axis=1).reset_index(drop=True)\n",
    "\n",
    "    return df"
   ]
  },
  {
   "cell_type": "code",
   "execution_count": 14,
   "id": "e88638be",
   "metadata": {
    "execution": {
     "iopub.execute_input": "2023-03-11T18:09:35.921614Z",
     "iopub.status.busy": "2023-03-11T18:09:35.920454Z",
     "iopub.status.idle": "2023-03-11T18:09:35.926575Z",
     "shell.execute_reply": "2023-03-11T18:09:35.925424Z"
    },
    "papermill": {
     "duration": 0.018207,
     "end_time": "2023-03-11T18:09:35.928991",
     "exception": false,
     "start_time": "2023-03-11T18:09:35.910784",
     "status": "completed"
    },
    "tags": []
   },
   "outputs": [],
   "source": [
    "tqdm.pandas()\n"
   ]
  },
  {
   "cell_type": "code",
   "execution_count": 15,
   "id": "2b1a8aaf",
   "metadata": {
    "execution": {
     "iopub.execute_input": "2023-03-11T18:09:35.948161Z",
     "iopub.status.busy": "2023-03-11T18:09:35.946988Z",
     "iopub.status.idle": "2023-03-11T18:10:54.497402Z",
     "shell.execute_reply": "2023-03-11T18:10:54.495877Z"
    },
    "papermill": {
     "duration": 78.563195,
     "end_time": "2023-03-11T18:10:54.500334",
     "exception": false,
     "start_time": "2023-03-11T18:09:35.937139",
     "status": "completed"
    },
    "tags": []
   },
   "outputs": [
    {
     "data": {
      "application/vnd.jupyter.widget-view+json": {
       "model_id": "d19ca51632404aea924af3a901dca3d4",
       "version_major": 2,
       "version_minor": 0
      },
      "text/plain": [
       "  0%|          | 0/13554 [00:00<?, ?it/s]"
      ]
     },
     "metadata": {},
     "output_type": "display_data"
    }
   ],
   "source": [
    "train_df = add_path_df(train_df)"
   ]
  },
  {
   "cell_type": "code",
   "execution_count": 16,
   "id": "d6253d78",
   "metadata": {
    "execution": {
     "iopub.execute_input": "2023-03-11T18:10:54.520511Z",
     "iopub.status.busy": "2023-03-11T18:10:54.519265Z",
     "iopub.status.idle": "2023-03-11T18:11:14.364377Z",
     "shell.execute_reply": "2023-03-11T18:11:14.363086Z"
    },
    "papermill": {
     "duration": 19.858259,
     "end_time": "2023-03-11T18:11:14.367152",
     "exception": false,
     "start_time": "2023-03-11T18:10:54.508893",
     "status": "completed"
    },
    "tags": []
   },
   "outputs": [
    {
     "data": {
      "application/vnd.jupyter.widget-view+json": {
       "model_id": "7d427682ca6847a68b6202ef74281fa7",
       "version_major": 2,
       "version_minor": 0
      },
      "text/plain": [
       "  0%|          | 0/3387 [00:00<?, ?it/s]"
      ]
     },
     "metadata": {},
     "output_type": "display_data"
    }
   ],
   "source": [
    "valid_df = add_path_df(valid_df)"
   ]
  },
  {
   "cell_type": "code",
   "execution_count": null,
   "id": "87f8d027",
   "metadata": {
    "papermill": {
     "duration": 0.008171,
     "end_time": "2023-03-11T18:11:14.384002",
     "exception": false,
     "start_time": "2023-03-11T18:11:14.375831",
     "status": "completed"
    },
    "tags": []
   },
   "outputs": [],
   "source": []
  },
  {
   "cell_type": "code",
   "execution_count": 17,
   "id": "263743fb",
   "metadata": {
    "execution": {
     "iopub.execute_input": "2023-03-11T18:11:14.403685Z",
     "iopub.status.busy": "2023-03-11T18:11:14.402625Z",
     "iopub.status.idle": "2023-03-11T18:11:14.416174Z",
     "shell.execute_reply": "2023-03-11T18:11:14.414843Z"
    },
    "papermill": {
     "duration": 0.026158,
     "end_time": "2023-03-11T18:11:14.418599",
     "exception": false,
     "start_time": "2023-03-11T18:11:14.392441",
     "status": "completed"
    },
    "tags": []
   },
   "outputs": [
    {
     "data": {
      "text/plain": [
       "count    13554.000000\n",
       "mean        40.584178\n",
       "std         69.757744\n",
       "min          0.548000\n",
       "25%         12.816000\n",
       "50%         24.659297\n",
       "75%         45.733570\n",
       "max       2373.528000\n",
       "Name: duration, dtype: float64"
      ]
     },
     "execution_count": 17,
     "metadata": {},
     "output_type": "execute_result"
    }
   ],
   "source": [
    "train_df[\"duration\"].describe()"
   ]
  },
  {
   "cell_type": "code",
   "execution_count": 18,
   "id": "5f1c67c5",
   "metadata": {
    "execution": {
     "iopub.execute_input": "2023-03-11T18:11:14.438249Z",
     "iopub.status.busy": "2023-03-11T18:11:14.437452Z",
     "iopub.status.idle": "2023-03-11T18:11:14.443474Z",
     "shell.execute_reply": "2023-03-11T18:11:14.442571Z"
    },
    "papermill": {
     "duration": 0.01867,
     "end_time": "2023-03-11T18:11:14.445876",
     "exception": false,
     "start_time": "2023-03-11T18:11:14.427206",
     "status": "completed"
    },
    "tags": []
   },
   "outputs": [],
   "source": [
    "def compute_melspec(y, sr, n_mels, fmin, fmax):\n",
    "    \"\"\"\n",
    "    Computes a mel-spectrogram and puts it at decibel scale\n",
    "    Arguments:\n",
    "        y {np array} -- signal\n",
    "        params {AudioParams} -- Parameters to use for the spectrogram. Expected to have the attributes sr, n_mels, f_min, f_max\n",
    "    Returns:\n",
    "        np array -- Mel-spectrogram\n",
    "    \"\"\"\n",
    "    melspec = lb.feature.melspectrogram(\n",
    "        y=y, sr=sr, n_mels=n_mels, fmin=fmin, fmax=fmax,\n",
    "    )\n",
    "\n",
    "    melspec = lb.power_to_db(melspec).astype(np.float32)\n",
    "    return melspec"
   ]
  },
  {
   "cell_type": "code",
   "execution_count": 19,
   "id": "b517730a",
   "metadata": {
    "execution": {
     "iopub.execute_input": "2023-03-11T18:11:14.466179Z",
     "iopub.status.busy": "2023-03-11T18:11:14.465351Z",
     "iopub.status.idle": "2023-03-11T18:11:14.476799Z",
     "shell.execute_reply": "2023-03-11T18:11:14.475778Z"
    },
    "id": "-Nlw4E5UVAqi",
    "papermill": {
     "duration": 0.024764,
     "end_time": "2023-03-11T18:11:14.479492",
     "exception": false,
     "start_time": "2023-03-11T18:11:14.454728",
     "status": "completed"
    },
    "tags": []
   },
   "outputs": [],
   "source": [
    "def mono_to_color(X, eps=1e-6, mean=None, std=None):\n",
    "    mean = mean or X.mean()\n",
    "    std = std or X.std()\n",
    "    X = (X - mean) / (std + eps)\n",
    "    \n",
    "    _min, _max = X.min(), X.max()\n",
    "\n",
    "    if (_max - _min) > eps:\n",
    "        V = np.clip(X, _min, _max)\n",
    "        V = 255 * (V - _min) / (_max - _min)\n",
    "        V = V.astype(np.uint8)\n",
    "    else:\n",
    "        V = np.zeros_like(X, dtype=np.uint8)\n",
    "\n",
    "    return V\n",
    "\n",
    "def crop_or_pad(y, length, is_train=True, start=None):\n",
    "    if len(y) < length:\n",
    "        y = np.concatenate([y, np.zeros(length - len(y))])\n",
    "        \n",
    "        n_repeats = length // len(y)\n",
    "        epsilon = length % len(y)\n",
    "        \n",
    "        y = np.concatenate([y]*n_repeats + [y[:epsilon]])\n",
    "        \n",
    "    elif len(y) > length:\n",
    "        if not is_train:\n",
    "            start = start or 0\n",
    "        else:\n",
    "            start = start or np.random.randint(len(y) - length)\n",
    "\n",
    "        y = y[start:start + length]\n",
    "\n",
    "    return y"
   ]
  },
  {
   "cell_type": "code",
   "execution_count": null,
   "id": "5da59971",
   "metadata": {
    "papermill": {
     "duration": 0.008576,
     "end_time": "2023-03-11T18:11:14.496703",
     "exception": false,
     "start_time": "2023-03-11T18:11:14.488127",
     "status": "completed"
    },
    "tags": []
   },
   "outputs": [],
   "source": []
  },
  {
   "cell_type": "code",
   "execution_count": 20,
   "id": "deafb0b5",
   "metadata": {
    "execution": {
     "iopub.execute_input": "2023-03-11T18:11:14.516807Z",
     "iopub.status.busy": "2023-03-11T18:11:14.515959Z",
     "iopub.status.idle": "2023-03-11T18:11:14.529525Z",
     "shell.execute_reply": "2023-03-11T18:11:14.528565Z"
    },
    "papermill": {
     "duration": 0.026565,
     "end_time": "2023-03-11T18:11:14.532053",
     "exception": false,
     "start_time": "2023-03-11T18:11:14.505488",
     "status": "completed"
    },
    "tags": []
   },
   "outputs": [],
   "source": [
    "class AudioToImage:\n",
    "    def __init__(self, sr=Config.sampling_rate, n_mels=128, fmin=Config.fmin, fmax=Config.fmax, duration=Config.duration, step=None, res_type=\"kaiser_fast\", resample=True, train = True):\n",
    "\n",
    "        self.sr = sr\n",
    "        self.n_mels = n_mels\n",
    "        self.fmin = fmin\n",
    "        self.fmax = fmax or self.sr//2\n",
    "\n",
    "        self.duration = duration\n",
    "        self.audio_length = self.duration*self.sr\n",
    "        self.step = step or self.audio_length\n",
    "        \n",
    "        self.res_type = res_type\n",
    "        self.resample = resample\n",
    "\n",
    "        self.train = train\n",
    "    def audio_to_image(self, audio):\n",
    "        melspec = compute_melspec(audio, self.sr, self.n_mels, self.fmin, self.fmax ) \n",
    "        image = mono_to_color(melspec)\n",
    "#         compute_melspec(y, sr, n_mels, fmin, fmax)\n",
    "        return image\n",
    "\n",
    "    def __call__(self, row, save=True):\n",
    "\n",
    "      audio, orig_sr = sf.read(row.path, dtype=\"float32\")\n",
    "\n",
    "      if self.resample and orig_sr != self.sr:\n",
    "        audio = lb.resample(audio, orig_sr, self.sr, res_type=self.res_type)\n",
    "        \n",
    "      audios = [audio[i:i+self.audio_length] for i in range(0, max(1, len(audio) - self.audio_length + 1), self.step)]\n",
    "      audios[-1] = crop_or_pad(audios[-1] , length=self.audio_length)\n",
    "      images = [self.audio_to_image(audio) for audio in audios]\n",
    "      images = np.stack(images)\n",
    "        \n",
    "      if save:\n",
    "        if self.train:\n",
    "            path = Config.out_dir_train/f\"{row.filename}.npy\"\n",
    "        else:\n",
    "            path = Config.out_dir_valid/f\"{row.filename}.npy\"\n",
    "            \n",
    "        path.parent.mkdir(exist_ok=True, parents=True)\n",
    "        np.save(str(path), images)\n",
    "      else:\n",
    "        return  row.filename, images"
   ]
  },
  {
   "cell_type": "code",
   "execution_count": 21,
   "id": "099b2937",
   "metadata": {
    "execution": {
     "iopub.execute_input": "2023-03-11T18:11:14.551942Z",
     "iopub.status.busy": "2023-03-11T18:11:14.551155Z",
     "iopub.status.idle": "2023-03-11T18:11:14.557313Z",
     "shell.execute_reply": "2023-03-11T18:11:14.555663Z"
    },
    "papermill": {
     "duration": 0.019497,
     "end_time": "2023-03-11T18:11:14.560288",
     "exception": false,
     "start_time": "2023-03-11T18:11:14.540791",
     "status": "completed"
    },
    "tags": []
   },
   "outputs": [],
   "source": [
    "tqdm.pandas()"
   ]
  },
  {
   "cell_type": "code",
   "execution_count": 22,
   "id": "bd132567",
   "metadata": {
    "execution": {
     "iopub.execute_input": "2023-03-11T18:11:14.580687Z",
     "iopub.status.busy": "2023-03-11T18:11:14.580163Z",
     "iopub.status.idle": "2023-03-11T18:11:14.587895Z",
     "shell.execute_reply": "2023-03-11T18:11:14.586512Z"
    },
    "papermill": {
     "duration": 0.020808,
     "end_time": "2023-03-11T18:11:14.590460",
     "exception": false,
     "start_time": "2023-03-11T18:11:14.569652",
     "status": "completed"
    },
    "tags": []
   },
   "outputs": [],
   "source": [
    "def get_audios_as_images(df, train = True):\n",
    "    pool = joblib.Parallel(2)\n",
    "    \n",
    "    converter = AudioToImage(step=int(Config.duration*0.666*Config.sampling_rate),train=train)\n",
    "    mapper = joblib.delayed(converter)\n",
    "    tasks = [mapper(row) for row in df.itertuples(False)]\n",
    "    pool(tqdm(tasks))"
   ]
  },
  {
   "cell_type": "code",
   "execution_count": 23,
   "id": "83813dcb",
   "metadata": {
    "execution": {
     "iopub.execute_input": "2023-03-11T18:11:14.609996Z",
     "iopub.status.busy": "2023-03-11T18:11:14.609513Z",
     "iopub.status.idle": "2023-03-11T19:01:28.462417Z",
     "shell.execute_reply": "2023-03-11T19:01:28.459055Z"
    },
    "papermill": {
     "duration": 3013.870811,
     "end_time": "2023-03-11T19:01:28.469884",
     "exception": false,
     "start_time": "2023-03-11T18:11:14.599073",
     "status": "completed"
    },
    "tags": []
   },
   "outputs": [
    {
     "data": {
      "application/vnd.jupyter.widget-view+json": {
       "model_id": "ccb1492383f6408ba9307189633b5421",
       "version_major": 2,
       "version_minor": 0
      },
      "text/plain": [
       "  0%|          | 0/13554 [00:00<?, ?it/s]"
      ]
     },
     "metadata": {},
     "output_type": "display_data"
    }
   ],
   "source": [
    "get_audios_as_images(train_df, train = True)\n"
   ]
  },
  {
   "cell_type": "code",
   "execution_count": 24,
   "id": "9cdb494f",
   "metadata": {
    "execution": {
     "iopub.execute_input": "2023-03-11T19:01:28.511294Z",
     "iopub.status.busy": "2023-03-11T19:01:28.510806Z",
     "iopub.status.idle": "2023-03-11T19:14:35.413192Z",
     "shell.execute_reply": "2023-03-11T19:14:35.411883Z"
    },
    "papermill": {
     "duration": 786.920818,
     "end_time": "2023-03-11T19:14:35.416680",
     "exception": false,
     "start_time": "2023-03-11T19:01:28.495862",
     "status": "completed"
    },
    "tags": []
   },
   "outputs": [
    {
     "data": {
      "application/vnd.jupyter.widget-view+json": {
       "model_id": "53c5792f82c14b4d853e965c14e156d0",
       "version_major": 2,
       "version_minor": 0
      },
      "text/plain": [
       "  0%|          | 0/3387 [00:00<?, ?it/s]"
      ]
     },
     "metadata": {},
     "output_type": "display_data"
    }
   ],
   "source": [
    "get_audios_as_images(valid_df, train = False)"
   ]
  },
  {
   "cell_type": "code",
   "execution_count": 25,
   "id": "461af742",
   "metadata": {
    "execution": {
     "iopub.execute_input": "2023-03-11T19:14:35.437552Z",
     "iopub.status.busy": "2023-03-11T19:14:35.436796Z",
     "iopub.status.idle": "2023-03-11T19:14:35.443727Z",
     "shell.execute_reply": "2023-03-11T19:14:35.442136Z"
    },
    "papermill": {
     "duration": 0.020511,
     "end_time": "2023-03-11T19:14:35.446277",
     "exception": false,
     "start_time": "2023-03-11T19:14:35.425766",
     "status": "completed"
    },
    "tags": []
   },
   "outputs": [],
   "source": [
    "#"
   ]
  },
  {
   "cell_type": "code",
   "execution_count": null,
   "id": "6c2ece1a",
   "metadata": {
    "papermill": {
     "duration": 0.008331,
     "end_time": "2023-03-11T19:14:35.463522",
     "exception": false,
     "start_time": "2023-03-11T19:14:35.455191",
     "status": "completed"
    },
    "tags": []
   },
   "outputs": [],
   "source": []
  }
 ],
 "metadata": {
  "kernelspec": {
   "display_name": "Python 3.9.2 ('Competition.Kaggle.BirdCLEF2023-BGaCen5g': pipenv)",
   "language": "python",
   "name": "python3"
  },
  "language_info": {
   "codemirror_mode": {
    "name": "ipython",
    "version": 3
   },
   "file_extension": ".py",
   "mimetype": "text/x-python",
   "name": "python",
   "nbconvert_exporter": "python",
   "pygments_lexer": "ipython3",
   "version": "3.9.2"
  },
  "papermill": {
   "default_parameters": {},
   "duration": 3915.92053,
   "end_time": "2023-03-11T19:14:38.115100",
   "environment_variables": {},
   "exception": null,
   "input_path": "__notebook__.ipynb",
   "output_path": "__notebook__.ipynb",
   "parameters": {},
   "start_time": "2023-03-11T18:09:22.194570",
   "version": "2.4.0"
  },
  "vscode": {
   "interpreter": {
    "hash": "de358eb9a06fd48f41fd30719974c88b41b14bad9c37aec1ac8e6108249b6619"
   }
  },
  "widgets": {
   "application/vnd.jupyter.widget-state+json": {
    "state": {
     "018036bc30ee4ac18e204861f3a378a2": {
      "model_module": "@jupyter-widgets/controls",
      "model_module_version": "1.5.0",
      "model_name": "HTMLModel",
      "state": {
       "_dom_classes": [],
       "_model_module": "@jupyter-widgets/controls",
       "_model_module_version": "1.5.0",
       "_model_name": "HTMLModel",
       "_view_count": null,
       "_view_module": "@jupyter-widgets/controls",
       "_view_module_version": "1.5.0",
       "_view_name": "HTMLView",
       "description": "",
       "description_tooltip": null,
       "layout": "IPY_MODEL_ea7f140e1eef4e8e82f235b9d3a73727",
       "placeholder": "​",
       "style": "IPY_MODEL_57aeaf3460f045eabf8943a69442f698",
       "value": " 13554/13554 [50:13&lt;00:00,  4.71it/s]"
      }
     },
     "0afbfe3c6d3f4a608b778053c8b007fe": {
      "model_module": "@jupyter-widgets/base",
      "model_module_version": "1.2.0",
      "model_name": "LayoutModel",
      "state": {
       "_model_module": "@jupyter-widgets/base",
       "_model_module_version": "1.2.0",
       "_model_name": "LayoutModel",
       "_view_count": null,
       "_view_module": "@jupyter-widgets/base",
       "_view_module_version": "1.2.0",
       "_view_name": "LayoutView",
       "align_content": null,
       "align_items": null,
       "align_self": null,
       "border": null,
       "bottom": null,
       "display": null,
       "flex": null,
       "flex_flow": null,
       "grid_area": null,
       "grid_auto_columns": null,
       "grid_auto_flow": null,
       "grid_auto_rows": null,
       "grid_column": null,
       "grid_gap": null,
       "grid_row": null,
       "grid_template_areas": null,
       "grid_template_columns": null,
       "grid_template_rows": null,
       "height": null,
       "justify_content": null,
       "justify_items": null,
       "left": null,
       "margin": null,
       "max_height": null,
       "max_width": null,
       "min_height": null,
       "min_width": null,
       "object_fit": null,
       "object_position": null,
       "order": null,
       "overflow": null,
       "overflow_x": null,
       "overflow_y": null,
       "padding": null,
       "right": null,
       "top": null,
       "visibility": null,
       "width": null
      }
     },
     "147d689dda9a464b91d895ba639baf7f": {
      "model_module": "@jupyter-widgets/controls",
      "model_module_version": "1.5.0",
      "model_name": "FloatProgressModel",
      "state": {
       "_dom_classes": [],
       "_model_module": "@jupyter-widgets/controls",
       "_model_module_version": "1.5.0",
       "_model_name": "FloatProgressModel",
       "_view_count": null,
       "_view_module": "@jupyter-widgets/controls",
       "_view_module_version": "1.5.0",
       "_view_name": "ProgressView",
       "bar_style": "success",
       "description": "",
       "description_tooltip": null,
       "layout": "IPY_MODEL_eaab213c42934894a228d96ce9036ae7",
       "max": 3387,
       "min": 0,
       "orientation": "horizontal",
       "style": "IPY_MODEL_ceeb720484a54b8bb26e2c949178d4c3",
       "value": 3387
      }
     },
     "1dbf6afb99c44aa6963b8fa63f34efc8": {
      "model_module": "@jupyter-widgets/base",
      "model_module_version": "1.2.0",
      "model_name": "LayoutModel",
      "state": {
       "_model_module": "@jupyter-widgets/base",
       "_model_module_version": "1.2.0",
       "_model_name": "LayoutModel",
       "_view_count": null,
       "_view_module": "@jupyter-widgets/base",
       "_view_module_version": "1.2.0",
       "_view_name": "LayoutView",
       "align_content": null,
       "align_items": null,
       "align_self": null,
       "border": null,
       "bottom": null,
       "display": null,
       "flex": null,
       "flex_flow": null,
       "grid_area": null,
       "grid_auto_columns": null,
       "grid_auto_flow": null,
       "grid_auto_rows": null,
       "grid_column": null,
       "grid_gap": null,
       "grid_row": null,
       "grid_template_areas": null,
       "grid_template_columns": null,
       "grid_template_rows": null,
       "height": null,
       "justify_content": null,
       "justify_items": null,
       "left": null,
       "margin": null,
       "max_height": null,
       "max_width": null,
       "min_height": null,
       "min_width": null,
       "object_fit": null,
       "object_position": null,
       "order": null,
       "overflow": null,
       "overflow_x": null,
       "overflow_y": null,
       "padding": null,
       "right": null,
       "top": null,
       "visibility": null,
       "width": null
      }
     },
     "293af72d3fdb4833a0e267997a7db2f9": {
      "model_module": "@jupyter-widgets/controls",
      "model_module_version": "1.5.0",
      "model_name": "HTMLModel",
      "state": {
       "_dom_classes": [],
       "_model_module": "@jupyter-widgets/controls",
       "_model_module_version": "1.5.0",
       "_model_name": "HTMLModel",
       "_view_count": null,
       "_view_module": "@jupyter-widgets/controls",
       "_view_module_version": "1.5.0",
       "_view_name": "HTMLView",
       "description": "",
       "description_tooltip": null,
       "layout": "IPY_MODEL_41154ca4d6b2437a90faf155a0a13999",
       "placeholder": "​",
       "style": "IPY_MODEL_f7b8db70ec8d449cb916238ce496faa0",
       "value": "100%"
      }
     },
     "31557725667c4faea6727cc930bc3d2b": {
      "model_module": "@jupyter-widgets/controls",
      "model_module_version": "1.5.0",
      "model_name": "HTMLModel",
      "state": {
       "_dom_classes": [],
       "_model_module": "@jupyter-widgets/controls",
       "_model_module_version": "1.5.0",
       "_model_name": "HTMLModel",
       "_view_count": null,
       "_view_module": "@jupyter-widgets/controls",
       "_view_module_version": "1.5.0",
       "_view_name": "HTMLView",
       "description": "",
       "description_tooltip": null,
       "layout": "IPY_MODEL_1dbf6afb99c44aa6963b8fa63f34efc8",
       "placeholder": "​",
       "style": "IPY_MODEL_ca4ac098c55642f0879c75b37d786dd5",
       "value": "100%"
      }
     },
     "3c18d1766b9f4d9f9ec7813ba4723f5a": {
      "model_module": "@jupyter-widgets/base",
      "model_module_version": "1.2.0",
      "model_name": "LayoutModel",
      "state": {
       "_model_module": "@jupyter-widgets/base",
       "_model_module_version": "1.2.0",
       "_model_name": "LayoutModel",
       "_view_count": null,
       "_view_module": "@jupyter-widgets/base",
       "_view_module_version": "1.2.0",
       "_view_name": "LayoutView",
       "align_content": null,
       "align_items": null,
       "align_self": null,
       "border": null,
       "bottom": null,
       "display": null,
       "flex": null,
       "flex_flow": null,
       "grid_area": null,
       "grid_auto_columns": null,
       "grid_auto_flow": null,
       "grid_auto_rows": null,
       "grid_column": null,
       "grid_gap": null,
       "grid_row": null,
       "grid_template_areas": null,
       "grid_template_columns": null,
       "grid_template_rows": null,
       "height": null,
       "justify_content": null,
       "justify_items": null,
       "left": null,
       "margin": null,
       "max_height": null,
       "max_width": null,
       "min_height": null,
       "min_width": null,
       "object_fit": null,
       "object_position": null,
       "order": null,
       "overflow": null,
       "overflow_x": null,
       "overflow_y": null,
       "padding": null,
       "right": null,
       "top": null,
       "visibility": null,
       "width": null
      }
     },
     "41154ca4d6b2437a90faf155a0a13999": {
      "model_module": "@jupyter-widgets/base",
      "model_module_version": "1.2.0",
      "model_name": "LayoutModel",
      "state": {
       "_model_module": "@jupyter-widgets/base",
       "_model_module_version": "1.2.0",
       "_model_name": "LayoutModel",
       "_view_count": null,
       "_view_module": "@jupyter-widgets/base",
       "_view_module_version": "1.2.0",
       "_view_name": "LayoutView",
       "align_content": null,
       "align_items": null,
       "align_self": null,
       "border": null,
       "bottom": null,
       "display": null,
       "flex": null,
       "flex_flow": null,
       "grid_area": null,
       "grid_auto_columns": null,
       "grid_auto_flow": null,
       "grid_auto_rows": null,
       "grid_column": null,
       "grid_gap": null,
       "grid_row": null,
       "grid_template_areas": null,
       "grid_template_columns": null,
       "grid_template_rows": null,
       "height": null,
       "justify_content": null,
       "justify_items": null,
       "left": null,
       "margin": null,
       "max_height": null,
       "max_width": null,
       "min_height": null,
       "min_width": null,
       "object_fit": null,
       "object_position": null,
       "order": null,
       "overflow": null,
       "overflow_x": null,
       "overflow_y": null,
       "padding": null,
       "right": null,
       "top": null,
       "visibility": null,
       "width": null
      }
     },
     "474203a7a41a4dceabeb3a1dc1c55946": {
      "model_module": "@jupyter-widgets/controls",
      "model_module_version": "1.5.0",
      "model_name": "HTMLModel",
      "state": {
       "_dom_classes": [],
       "_model_module": "@jupyter-widgets/controls",
       "_model_module_version": "1.5.0",
       "_model_name": "HTMLModel",
       "_view_count": null,
       "_view_module": "@jupyter-widgets/controls",
       "_view_module_version": "1.5.0",
       "_view_name": "HTMLView",
       "description": "",
       "description_tooltip": null,
       "layout": "IPY_MODEL_8328e11719564eff92b528aa3f23d130",
       "placeholder": "​",
       "style": "IPY_MODEL_78afd337e6d54c3aa2f867b7b81571af",
       "value": "100%"
      }
     },
     "5020d999e3d74537a38071fb3c0cc6ef": {
      "model_module": "@jupyter-widgets/base",
      "model_module_version": "1.2.0",
      "model_name": "LayoutModel",
      "state": {
       "_model_module": "@jupyter-widgets/base",
       "_model_module_version": "1.2.0",
       "_model_name": "LayoutModel",
       "_view_count": null,
       "_view_module": "@jupyter-widgets/base",
       "_view_module_version": "1.2.0",
       "_view_name": "LayoutView",
       "align_content": null,
       "align_items": null,
       "align_self": null,
       "border": null,
       "bottom": null,
       "display": null,
       "flex": null,
       "flex_flow": null,
       "grid_area": null,
       "grid_auto_columns": null,
       "grid_auto_flow": null,
       "grid_auto_rows": null,
       "grid_column": null,
       "grid_gap": null,
       "grid_row": null,
       "grid_template_areas": null,
       "grid_template_columns": null,
       "grid_template_rows": null,
       "height": null,
       "justify_content": null,
       "justify_items": null,
       "left": null,
       "margin": null,
       "max_height": null,
       "max_width": null,
       "min_height": null,
       "min_width": null,
       "object_fit": null,
       "object_position": null,
       "order": null,
       "overflow": null,
       "overflow_x": null,
       "overflow_y": null,
       "padding": null,
       "right": null,
       "top": null,
       "visibility": null,
       "width": null
      }
     },
     "54bb7760dc9b4515ac8cada4951a097b": {
      "model_module": "@jupyter-widgets/base",
      "model_module_version": "1.2.0",
      "model_name": "LayoutModel",
      "state": {
       "_model_module": "@jupyter-widgets/base",
       "_model_module_version": "1.2.0",
       "_model_name": "LayoutModel",
       "_view_count": null,
       "_view_module": "@jupyter-widgets/base",
       "_view_module_version": "1.2.0",
       "_view_name": "LayoutView",
       "align_content": null,
       "align_items": null,
       "align_self": null,
       "border": null,
       "bottom": null,
       "display": null,
       "flex": null,
       "flex_flow": null,
       "grid_area": null,
       "grid_auto_columns": null,
       "grid_auto_flow": null,
       "grid_auto_rows": null,
       "grid_column": null,
       "grid_gap": null,
       "grid_row": null,
       "grid_template_areas": null,
       "grid_template_columns": null,
       "grid_template_rows": null,
       "height": null,
       "justify_content": null,
       "justify_items": null,
       "left": null,
       "margin": null,
       "max_height": null,
       "max_width": null,
       "min_height": null,
       "min_width": null,
       "object_fit": null,
       "object_position": null,
       "order": null,
       "overflow": null,
       "overflow_x": null,
       "overflow_y": null,
       "padding": null,
       "right": null,
       "top": null,
       "visibility": null,
       "width": null
      }
     },
     "57aeaf3460f045eabf8943a69442f698": {
      "model_module": "@jupyter-widgets/controls",
      "model_module_version": "1.5.0",
      "model_name": "DescriptionStyleModel",
      "state": {
       "_model_module": "@jupyter-widgets/controls",
       "_model_module_version": "1.5.0",
       "_model_name": "DescriptionStyleModel",
       "_view_count": null,
       "_view_module": "@jupyter-widgets/base",
       "_view_module_version": "1.2.0",
       "_view_name": "StyleView",
       "description_width": ""
      }
     },
     "5a01f543098a4c23be80903bc50aeef2": {
      "model_module": "@jupyter-widgets/controls",
      "model_module_version": "1.5.0",
      "model_name": "DescriptionStyleModel",
      "state": {
       "_model_module": "@jupyter-widgets/controls",
       "_model_module_version": "1.5.0",
       "_model_name": "DescriptionStyleModel",
       "_view_count": null,
       "_view_module": "@jupyter-widgets/base",
       "_view_module_version": "1.2.0",
       "_view_name": "StyleView",
       "description_width": ""
      }
     },
     "5b34fb7ce1464e6e9253c193f7721316": {
      "model_module": "@jupyter-widgets/controls",
      "model_module_version": "1.5.0",
      "model_name": "FloatProgressModel",
      "state": {
       "_dom_classes": [],
       "_model_module": "@jupyter-widgets/controls",
       "_model_module_version": "1.5.0",
       "_model_name": "FloatProgressModel",
       "_view_count": null,
       "_view_module": "@jupyter-widgets/controls",
       "_view_module_version": "1.5.0",
       "_view_name": "ProgressView",
       "bar_style": "success",
       "description": "",
       "description_tooltip": null,
       "layout": "IPY_MODEL_da90df02e1f5459791e7a25365388106",
       "max": 3387,
       "min": 0,
       "orientation": "horizontal",
       "style": "IPY_MODEL_fde5550f305d4ad5bd7352a833461f8f",
       "value": 3387
      }
     },
     "5b42e0245a7f4792b5bc3407eaa327a0": {
      "model_module": "@jupyter-widgets/base",
      "model_module_version": "1.2.0",
      "model_name": "LayoutModel",
      "state": {
       "_model_module": "@jupyter-widgets/base",
       "_model_module_version": "1.2.0",
       "_model_name": "LayoutModel",
       "_view_count": null,
       "_view_module": "@jupyter-widgets/base",
       "_view_module_version": "1.2.0",
       "_view_name": "LayoutView",
       "align_content": null,
       "align_items": null,
       "align_self": null,
       "border": null,
       "bottom": null,
       "display": null,
       "flex": null,
       "flex_flow": null,
       "grid_area": null,
       "grid_auto_columns": null,
       "grid_auto_flow": null,
       "grid_auto_rows": null,
       "grid_column": null,
       "grid_gap": null,
       "grid_row": null,
       "grid_template_areas": null,
       "grid_template_columns": null,
       "grid_template_rows": null,
       "height": null,
       "justify_content": null,
       "justify_items": null,
       "left": null,
       "margin": null,
       "max_height": null,
       "max_width": null,
       "min_height": null,
       "min_width": null,
       "object_fit": null,
       "object_position": null,
       "order": null,
       "overflow": null,
       "overflow_x": null,
       "overflow_y": null,
       "padding": null,
       "right": null,
       "top": null,
       "visibility": null,
       "width": null
      }
     },
     "6234d12e084d4696ac8e734268ea0aa5": {
      "model_module": "@jupyter-widgets/controls",
      "model_module_version": "1.5.0",
      "model_name": "HTMLModel",
      "state": {
       "_dom_classes": [],
       "_model_module": "@jupyter-widgets/controls",
       "_model_module_version": "1.5.0",
       "_model_name": "HTMLModel",
       "_view_count": null,
       "_view_module": "@jupyter-widgets/controls",
       "_view_module_version": "1.5.0",
       "_view_name": "HTMLView",
       "description": "",
       "description_tooltip": null,
       "layout": "IPY_MODEL_78e419a1685f49f5ac13d01103617a86",
       "placeholder": "​",
       "style": "IPY_MODEL_a2cf0f4ce0c7457db7a50762e7daa89c",
       "value": " 3387/3387 [13:05&lt;00:00,  9.13it/s]"
      }
     },
     "68cc1ac6d6d44a4a8b0588564d05fb71": {
      "model_module": "@jupyter-widgets/base",
      "model_module_version": "1.2.0",
      "model_name": "LayoutModel",
      "state": {
       "_model_module": "@jupyter-widgets/base",
       "_model_module_version": "1.2.0",
       "_model_name": "LayoutModel",
       "_view_count": null,
       "_view_module": "@jupyter-widgets/base",
       "_view_module_version": "1.2.0",
       "_view_name": "LayoutView",
       "align_content": null,
       "align_items": null,
       "align_self": null,
       "border": null,
       "bottom": null,
       "display": null,
       "flex": null,
       "flex_flow": null,
       "grid_area": null,
       "grid_auto_columns": null,
       "grid_auto_flow": null,
       "grid_auto_rows": null,
       "grid_column": null,
       "grid_gap": null,
       "grid_row": null,
       "grid_template_areas": null,
       "grid_template_columns": null,
       "grid_template_rows": null,
       "height": null,
       "justify_content": null,
       "justify_items": null,
       "left": null,
       "margin": null,
       "max_height": null,
       "max_width": null,
       "min_height": null,
       "min_width": null,
       "object_fit": null,
       "object_position": null,
       "order": null,
       "overflow": null,
       "overflow_x": null,
       "overflow_y": null,
       "padding": null,
       "right": null,
       "top": null,
       "visibility": null,
       "width": null
      }
     },
     "78afd337e6d54c3aa2f867b7b81571af": {
      "model_module": "@jupyter-widgets/controls",
      "model_module_version": "1.5.0",
      "model_name": "DescriptionStyleModel",
      "state": {
       "_model_module": "@jupyter-widgets/controls",
       "_model_module_version": "1.5.0",
       "_model_name": "DescriptionStyleModel",
       "_view_count": null,
       "_view_module": "@jupyter-widgets/base",
       "_view_module_version": "1.2.0",
       "_view_name": "StyleView",
       "description_width": ""
      }
     },
     "78e419a1685f49f5ac13d01103617a86": {
      "model_module": "@jupyter-widgets/base",
      "model_module_version": "1.2.0",
      "model_name": "LayoutModel",
      "state": {
       "_model_module": "@jupyter-widgets/base",
       "_model_module_version": "1.2.0",
       "_model_name": "LayoutModel",
       "_view_count": null,
       "_view_module": "@jupyter-widgets/base",
       "_view_module_version": "1.2.0",
       "_view_name": "LayoutView",
       "align_content": null,
       "align_items": null,
       "align_self": null,
       "border": null,
       "bottom": null,
       "display": null,
       "flex": null,
       "flex_flow": null,
       "grid_area": null,
       "grid_auto_columns": null,
       "grid_auto_flow": null,
       "grid_auto_rows": null,
       "grid_column": null,
       "grid_gap": null,
       "grid_row": null,
       "grid_template_areas": null,
       "grid_template_columns": null,
       "grid_template_rows": null,
       "height": null,
       "justify_content": null,
       "justify_items": null,
       "left": null,
       "margin": null,
       "max_height": null,
       "max_width": null,
       "min_height": null,
       "min_width": null,
       "object_fit": null,
       "object_position": null,
       "order": null,
       "overflow": null,
       "overflow_x": null,
       "overflow_y": null,
       "padding": null,
       "right": null,
       "top": null,
       "visibility": null,
       "width": null
      }
     },
     "7d6c32564fb5455186772ccb654a75a2": {
      "model_module": "@jupyter-widgets/base",
      "model_module_version": "1.2.0",
      "model_name": "LayoutModel",
      "state": {
       "_model_module": "@jupyter-widgets/base",
       "_model_module_version": "1.2.0",
       "_model_name": "LayoutModel",
       "_view_count": null,
       "_view_module": "@jupyter-widgets/base",
       "_view_module_version": "1.2.0",
       "_view_name": "LayoutView",
       "align_content": null,
       "align_items": null,
       "align_self": null,
       "border": null,
       "bottom": null,
       "display": null,
       "flex": null,
       "flex_flow": null,
       "grid_area": null,
       "grid_auto_columns": null,
       "grid_auto_flow": null,
       "grid_auto_rows": null,
       "grid_column": null,
       "grid_gap": null,
       "grid_row": null,
       "grid_template_areas": null,
       "grid_template_columns": null,
       "grid_template_rows": null,
       "height": null,
       "justify_content": null,
       "justify_items": null,
       "left": null,
       "margin": null,
       "max_height": null,
       "max_width": null,
       "min_height": null,
       "min_width": null,
       "object_fit": null,
       "object_position": null,
       "order": null,
       "overflow": null,
       "overflow_x": null,
       "overflow_y": null,
       "padding": null,
       "right": null,
       "top": null,
       "visibility": null,
       "width": null
      }
     },
     "8328e11719564eff92b528aa3f23d130": {
      "model_module": "@jupyter-widgets/base",
      "model_module_version": "1.2.0",
      "model_name": "LayoutModel",
      "state": {
       "_model_module": "@jupyter-widgets/base",
       "_model_module_version": "1.2.0",
       "_model_name": "LayoutModel",
       "_view_count": null,
       "_view_module": "@jupyter-widgets/base",
       "_view_module_version": "1.2.0",
       "_view_name": "LayoutView",
       "align_content": null,
       "align_items": null,
       "align_self": null,
       "border": null,
       "bottom": null,
       "display": null,
       "flex": null,
       "flex_flow": null,
       "grid_area": null,
       "grid_auto_columns": null,
       "grid_auto_flow": null,
       "grid_auto_rows": null,
       "grid_column": null,
       "grid_gap": null,
       "grid_row": null,
       "grid_template_areas": null,
       "grid_template_columns": null,
       "grid_template_rows": null,
       "height": null,
       "justify_content": null,
       "justify_items": null,
       "left": null,
       "margin": null,
       "max_height": null,
       "max_width": null,
       "min_height": null,
       "min_width": null,
       "object_fit": null,
       "object_position": null,
       "order": null,
       "overflow": null,
       "overflow_x": null,
       "overflow_y": null,
       "padding": null,
       "right": null,
       "top": null,
       "visibility": null,
       "width": null
      }
     },
     "8baa204594184bc9b4fe4eaf327c71e9": {
      "model_module": "@jupyter-widgets/controls",
      "model_module_version": "1.5.0",
      "model_name": "ProgressStyleModel",
      "state": {
       "_model_module": "@jupyter-widgets/controls",
       "_model_module_version": "1.5.0",
       "_model_name": "ProgressStyleModel",
       "_view_count": null,
       "_view_module": "@jupyter-widgets/base",
       "_view_module_version": "1.2.0",
       "_view_name": "StyleView",
       "bar_color": null,
       "description_width": ""
      }
     },
     "944d2bd2bd2b4694b7789ea1df6d592b": {
      "model_module": "@jupyter-widgets/controls",
      "model_module_version": "1.5.0",
      "model_name": "FloatProgressModel",
      "state": {
       "_dom_classes": [],
       "_model_module": "@jupyter-widgets/controls",
       "_model_module_version": "1.5.0",
       "_model_name": "FloatProgressModel",
       "_view_count": null,
       "_view_module": "@jupyter-widgets/controls",
       "_view_module_version": "1.5.0",
       "_view_name": "ProgressView",
       "bar_style": "success",
       "description": "",
       "description_tooltip": null,
       "layout": "IPY_MODEL_0afbfe3c6d3f4a608b778053c8b007fe",
       "max": 13554,
       "min": 0,
       "orientation": "horizontal",
       "style": "IPY_MODEL_cf3f76614bc6450ba2c22e4197db9f18",
       "value": 13554
      }
     },
     "96fcdc450ecb498b991d2412a17643f9": {
      "model_module": "@jupyter-widgets/controls",
      "model_module_version": "1.5.0",
      "model_name": "FloatProgressModel",
      "state": {
       "_dom_classes": [],
       "_model_module": "@jupyter-widgets/controls",
       "_model_module_version": "1.5.0",
       "_model_name": "FloatProgressModel",
       "_view_count": null,
       "_view_module": "@jupyter-widgets/controls",
       "_view_module_version": "1.5.0",
       "_view_name": "ProgressView",
       "bar_style": "success",
       "description": "",
       "description_tooltip": null,
       "layout": "IPY_MODEL_68cc1ac6d6d44a4a8b0588564d05fb71",
       "max": 13554,
       "min": 0,
       "orientation": "horizontal",
       "style": "IPY_MODEL_8baa204594184bc9b4fe4eaf327c71e9",
       "value": 13554
      }
     },
     "98fe30f7493f4b2fb2ddb843acc10d1c": {
      "model_module": "@jupyter-widgets/controls",
      "model_module_version": "1.5.0",
      "model_name": "HBoxModel",
      "state": {
       "_dom_classes": [],
       "_model_module": "@jupyter-widgets/controls",
       "_model_module_version": "1.5.0",
       "_model_name": "HBoxModel",
       "_view_count": null,
       "_view_module": "@jupyter-widgets/controls",
       "_view_module_version": "1.5.0",
       "_view_name": "HBoxView",
       "box_style": "",
       "children": [
        "IPY_MODEL_474203a7a41a4dceabeb3a1dc1c55946",
        "IPY_MODEL_96fcdc450ecb498b991d2412a17643f9",
        "IPY_MODEL_cdb05fdec722406bae72dde96897aca0"
       ],
       "layout": "IPY_MODEL_7d6c32564fb5455186772ccb654a75a2"
      }
     },
     "9d49937f36fa42eaad5eea31f04de0fc": {
      "model_module": "@jupyter-widgets/controls",
      "model_module_version": "1.5.0",
      "model_name": "HBoxModel",
      "state": {
       "_dom_classes": [],
       "_model_module": "@jupyter-widgets/controls",
       "_model_module_version": "1.5.0",
       "_model_name": "HBoxModel",
       "_view_count": null,
       "_view_module": "@jupyter-widgets/controls",
       "_view_module_version": "1.5.0",
       "_view_name": "HBoxView",
       "box_style": "",
       "children": [
        "IPY_MODEL_31557725667c4faea6727cc930bc3d2b",
        "IPY_MODEL_5b34fb7ce1464e6e9253c193f7721316",
        "IPY_MODEL_decbdddc156e423a9c693277ebf5b112"
       ],
       "layout": "IPY_MODEL_d58f68d66cd9434e965e058f6f4f9776"
      }
     },
     "a2cf0f4ce0c7457db7a50762e7daa89c": {
      "model_module": "@jupyter-widgets/controls",
      "model_module_version": "1.5.0",
      "model_name": "DescriptionStyleModel",
      "state": {
       "_model_module": "@jupyter-widgets/controls",
       "_model_module_version": "1.5.0",
       "_model_name": "DescriptionStyleModel",
       "_view_count": null,
       "_view_module": "@jupyter-widgets/base",
       "_view_module_version": "1.2.0",
       "_view_name": "StyleView",
       "description_width": ""
      }
     },
     "b4f38556659143ea846353b8b530e0a5": {
      "model_module": "@jupyter-widgets/controls",
      "model_module_version": "1.5.0",
      "model_name": "HTMLModel",
      "state": {
       "_dom_classes": [],
       "_model_module": "@jupyter-widgets/controls",
       "_model_module_version": "1.5.0",
       "_model_name": "HTMLModel",
       "_view_count": null,
       "_view_module": "@jupyter-widgets/controls",
       "_view_module_version": "1.5.0",
       "_view_name": "HTMLView",
       "description": "",
       "description_tooltip": null,
       "layout": "IPY_MODEL_5b42e0245a7f4792b5bc3407eaa327a0",
       "placeholder": "​",
       "style": "IPY_MODEL_e0622a01269142f8a1b5eebbd81764c7",
       "value": "100%"
      }
     },
     "ca4ac098c55642f0879c75b37d786dd5": {
      "model_module": "@jupyter-widgets/controls",
      "model_module_version": "1.5.0",
      "model_name": "DescriptionStyleModel",
      "state": {
       "_model_module": "@jupyter-widgets/controls",
       "_model_module_version": "1.5.0",
       "_model_name": "DescriptionStyleModel",
       "_view_count": null,
       "_view_module": "@jupyter-widgets/base",
       "_view_module_version": "1.2.0",
       "_view_name": "StyleView",
       "description_width": ""
      }
     },
     "cdb05fdec722406bae72dde96897aca0": {
      "model_module": "@jupyter-widgets/controls",
      "model_module_version": "1.5.0",
      "model_name": "HTMLModel",
      "state": {
       "_dom_classes": [],
       "_model_module": "@jupyter-widgets/controls",
       "_model_module_version": "1.5.0",
       "_model_name": "HTMLModel",
       "_view_count": null,
       "_view_module": "@jupyter-widgets/controls",
       "_view_module_version": "1.5.0",
       "_view_name": "HTMLView",
       "description": "",
       "description_tooltip": null,
       "layout": "IPY_MODEL_54bb7760dc9b4515ac8cada4951a097b",
       "placeholder": "​",
       "style": "IPY_MODEL_d6463d7b8eb34b70bd062da5531f8482",
       "value": " 13554/13554 [01:18&lt;00:00, 177.18it/s]"
      }
     },
     "ceeb720484a54b8bb26e2c949178d4c3": {
      "model_module": "@jupyter-widgets/controls",
      "model_module_version": "1.5.0",
      "model_name": "ProgressStyleModel",
      "state": {
       "_model_module": "@jupyter-widgets/controls",
       "_model_module_version": "1.5.0",
       "_model_name": "ProgressStyleModel",
       "_view_count": null,
       "_view_module": "@jupyter-widgets/base",
       "_view_module_version": "1.2.0",
       "_view_name": "StyleView",
       "bar_color": null,
       "description_width": ""
      }
     },
     "cf3f76614bc6450ba2c22e4197db9f18": {
      "model_module": "@jupyter-widgets/controls",
      "model_module_version": "1.5.0",
      "model_name": "ProgressStyleModel",
      "state": {
       "_model_module": "@jupyter-widgets/controls",
       "_model_module_version": "1.5.0",
       "_model_name": "ProgressStyleModel",
       "_view_count": null,
       "_view_module": "@jupyter-widgets/base",
       "_view_module_version": "1.2.0",
       "_view_name": "StyleView",
       "bar_color": null,
       "description_width": ""
      }
     },
     "d58f68d66cd9434e965e058f6f4f9776": {
      "model_module": "@jupyter-widgets/base",
      "model_module_version": "1.2.0",
      "model_name": "LayoutModel",
      "state": {
       "_model_module": "@jupyter-widgets/base",
       "_model_module_version": "1.2.0",
       "_model_name": "LayoutModel",
       "_view_count": null,
       "_view_module": "@jupyter-widgets/base",
       "_view_module_version": "1.2.0",
       "_view_name": "LayoutView",
       "align_content": null,
       "align_items": null,
       "align_self": null,
       "border": null,
       "bottom": null,
       "display": null,
       "flex": null,
       "flex_flow": null,
       "grid_area": null,
       "grid_auto_columns": null,
       "grid_auto_flow": null,
       "grid_auto_rows": null,
       "grid_column": null,
       "grid_gap": null,
       "grid_row": null,
       "grid_template_areas": null,
       "grid_template_columns": null,
       "grid_template_rows": null,
       "height": null,
       "justify_content": null,
       "justify_items": null,
       "left": null,
       "margin": null,
       "max_height": null,
       "max_width": null,
       "min_height": null,
       "min_width": null,
       "object_fit": null,
       "object_position": null,
       "order": null,
       "overflow": null,
       "overflow_x": null,
       "overflow_y": null,
       "padding": null,
       "right": null,
       "top": null,
       "visibility": null,
       "width": null
      }
     },
     "d6463d7b8eb34b70bd062da5531f8482": {
      "model_module": "@jupyter-widgets/controls",
      "model_module_version": "1.5.0",
      "model_name": "DescriptionStyleModel",
      "state": {
       "_model_module": "@jupyter-widgets/controls",
       "_model_module_version": "1.5.0",
       "_model_name": "DescriptionStyleModel",
       "_view_count": null,
       "_view_module": "@jupyter-widgets/base",
       "_view_module_version": "1.2.0",
       "_view_name": "StyleView",
       "description_width": ""
      }
     },
     "da90df02e1f5459791e7a25365388106": {
      "model_module": "@jupyter-widgets/base",
      "model_module_version": "1.2.0",
      "model_name": "LayoutModel",
      "state": {
       "_model_module": "@jupyter-widgets/base",
       "_model_module_version": "1.2.0",
       "_model_name": "LayoutModel",
       "_view_count": null,
       "_view_module": "@jupyter-widgets/base",
       "_view_module_version": "1.2.0",
       "_view_name": "LayoutView",
       "align_content": null,
       "align_items": null,
       "align_self": null,
       "border": null,
       "bottom": null,
       "display": null,
       "flex": null,
       "flex_flow": null,
       "grid_area": null,
       "grid_auto_columns": null,
       "grid_auto_flow": null,
       "grid_auto_rows": null,
       "grid_column": null,
       "grid_gap": null,
       "grid_row": null,
       "grid_template_areas": null,
       "grid_template_columns": null,
       "grid_template_rows": null,
       "height": null,
       "justify_content": null,
       "justify_items": null,
       "left": null,
       "margin": null,
       "max_height": null,
       "max_width": null,
       "min_height": null,
       "min_width": null,
       "object_fit": null,
       "object_position": null,
       "order": null,
       "overflow": null,
       "overflow_x": null,
       "overflow_y": null,
       "padding": null,
       "right": null,
       "top": null,
       "visibility": null,
       "width": null
      }
     },
     "dbd1cac819c2491f8a4c3f0c046d75f8": {
      "model_module": "@jupyter-widgets/base",
      "model_module_version": "1.2.0",
      "model_name": "LayoutModel",
      "state": {
       "_model_module": "@jupyter-widgets/base",
       "_model_module_version": "1.2.0",
       "_model_name": "LayoutModel",
       "_view_count": null,
       "_view_module": "@jupyter-widgets/base",
       "_view_module_version": "1.2.0",
       "_view_name": "LayoutView",
       "align_content": null,
       "align_items": null,
       "align_self": null,
       "border": null,
       "bottom": null,
       "display": null,
       "flex": null,
       "flex_flow": null,
       "grid_area": null,
       "grid_auto_columns": null,
       "grid_auto_flow": null,
       "grid_auto_rows": null,
       "grid_column": null,
       "grid_gap": null,
       "grid_row": null,
       "grid_template_areas": null,
       "grid_template_columns": null,
       "grid_template_rows": null,
       "height": null,
       "justify_content": null,
       "justify_items": null,
       "left": null,
       "margin": null,
       "max_height": null,
       "max_width": null,
       "min_height": null,
       "min_width": null,
       "object_fit": null,
       "object_position": null,
       "order": null,
       "overflow": null,
       "overflow_x": null,
       "overflow_y": null,
       "padding": null,
       "right": null,
       "top": null,
       "visibility": null,
       "width": null
      }
     },
     "decbdddc156e423a9c693277ebf5b112": {
      "model_module": "@jupyter-widgets/controls",
      "model_module_version": "1.5.0",
      "model_name": "HTMLModel",
      "state": {
       "_dom_classes": [],
       "_model_module": "@jupyter-widgets/controls",
       "_model_module_version": "1.5.0",
       "_model_name": "HTMLModel",
       "_view_count": null,
       "_view_module": "@jupyter-widgets/controls",
       "_view_module_version": "1.5.0",
       "_view_name": "HTMLView",
       "description": "",
       "description_tooltip": null,
       "layout": "IPY_MODEL_5020d999e3d74537a38071fb3c0cc6ef",
       "placeholder": "​",
       "style": "IPY_MODEL_5a01f543098a4c23be80903bc50aeef2",
       "value": " 3387/3387 [00:19&lt;00:00, 173.22it/s]"
      }
     },
     "df9a29a11afd455cbcfd8ed99996effa": {
      "model_module": "@jupyter-widgets/controls",
      "model_module_version": "1.5.0",
      "model_name": "HBoxModel",
      "state": {
       "_dom_classes": [],
       "_model_module": "@jupyter-widgets/controls",
       "_model_module_version": "1.5.0",
       "_model_name": "HBoxModel",
       "_view_count": null,
       "_view_module": "@jupyter-widgets/controls",
       "_view_module_version": "1.5.0",
       "_view_name": "HBoxView",
       "box_style": "",
       "children": [
        "IPY_MODEL_293af72d3fdb4833a0e267997a7db2f9",
        "IPY_MODEL_944d2bd2bd2b4694b7789ea1df6d592b",
        "IPY_MODEL_018036bc30ee4ac18e204861f3a378a2"
       ],
       "layout": "IPY_MODEL_3c18d1766b9f4d9f9ec7813ba4723f5a"
      }
     },
     "e0622a01269142f8a1b5eebbd81764c7": {
      "model_module": "@jupyter-widgets/controls",
      "model_module_version": "1.5.0",
      "model_name": "DescriptionStyleModel",
      "state": {
       "_model_module": "@jupyter-widgets/controls",
       "_model_module_version": "1.5.0",
       "_model_name": "DescriptionStyleModel",
       "_view_count": null,
       "_view_module": "@jupyter-widgets/base",
       "_view_module_version": "1.2.0",
       "_view_name": "StyleView",
       "description_width": ""
      }
     },
     "ea7f140e1eef4e8e82f235b9d3a73727": {
      "model_module": "@jupyter-widgets/base",
      "model_module_version": "1.2.0",
      "model_name": "LayoutModel",
      "state": {
       "_model_module": "@jupyter-widgets/base",
       "_model_module_version": "1.2.0",
       "_model_name": "LayoutModel",
       "_view_count": null,
       "_view_module": "@jupyter-widgets/base",
       "_view_module_version": "1.2.0",
       "_view_name": "LayoutView",
       "align_content": null,
       "align_items": null,
       "align_self": null,
       "border": null,
       "bottom": null,
       "display": null,
       "flex": null,
       "flex_flow": null,
       "grid_area": null,
       "grid_auto_columns": null,
       "grid_auto_flow": null,
       "grid_auto_rows": null,
       "grid_column": null,
       "grid_gap": null,
       "grid_row": null,
       "grid_template_areas": null,
       "grid_template_columns": null,
       "grid_template_rows": null,
       "height": null,
       "justify_content": null,
       "justify_items": null,
       "left": null,
       "margin": null,
       "max_height": null,
       "max_width": null,
       "min_height": null,
       "min_width": null,
       "object_fit": null,
       "object_position": null,
       "order": null,
       "overflow": null,
       "overflow_x": null,
       "overflow_y": null,
       "padding": null,
       "right": null,
       "top": null,
       "visibility": null,
       "width": null
      }
     },
     "eaab213c42934894a228d96ce9036ae7": {
      "model_module": "@jupyter-widgets/base",
      "model_module_version": "1.2.0",
      "model_name": "LayoutModel",
      "state": {
       "_model_module": "@jupyter-widgets/base",
       "_model_module_version": "1.2.0",
       "_model_name": "LayoutModel",
       "_view_count": null,
       "_view_module": "@jupyter-widgets/base",
       "_view_module_version": "1.2.0",
       "_view_name": "LayoutView",
       "align_content": null,
       "align_items": null,
       "align_self": null,
       "border": null,
       "bottom": null,
       "display": null,
       "flex": null,
       "flex_flow": null,
       "grid_area": null,
       "grid_auto_columns": null,
       "grid_auto_flow": null,
       "grid_auto_rows": null,
       "grid_column": null,
       "grid_gap": null,
       "grid_row": null,
       "grid_template_areas": null,
       "grid_template_columns": null,
       "grid_template_rows": null,
       "height": null,
       "justify_content": null,
       "justify_items": null,
       "left": null,
       "margin": null,
       "max_height": null,
       "max_width": null,
       "min_height": null,
       "min_width": null,
       "object_fit": null,
       "object_position": null,
       "order": null,
       "overflow": null,
       "overflow_x": null,
       "overflow_y": null,
       "padding": null,
       "right": null,
       "top": null,
       "visibility": null,
       "width": null
      }
     },
     "efac2103d674433d8017d18bad0b6582": {
      "model_module": "@jupyter-widgets/controls",
      "model_module_version": "1.5.0",
      "model_name": "HBoxModel",
      "state": {
       "_dom_classes": [],
       "_model_module": "@jupyter-widgets/controls",
       "_model_module_version": "1.5.0",
       "_model_name": "HBoxModel",
       "_view_count": null,
       "_view_module": "@jupyter-widgets/controls",
       "_view_module_version": "1.5.0",
       "_view_name": "HBoxView",
       "box_style": "",
       "children": [
        "IPY_MODEL_b4f38556659143ea846353b8b530e0a5",
        "IPY_MODEL_147d689dda9a464b91d895ba639baf7f",
        "IPY_MODEL_6234d12e084d4696ac8e734268ea0aa5"
       ],
       "layout": "IPY_MODEL_dbd1cac819c2491f8a4c3f0c046d75f8"
      }
     },
     "f7b8db70ec8d449cb916238ce496faa0": {
      "model_module": "@jupyter-widgets/controls",
      "model_module_version": "1.5.0",
      "model_name": "DescriptionStyleModel",
      "state": {
       "_model_module": "@jupyter-widgets/controls",
       "_model_module_version": "1.5.0",
       "_model_name": "DescriptionStyleModel",
       "_view_count": null,
       "_view_module": "@jupyter-widgets/base",
       "_view_module_version": "1.2.0",
       "_view_name": "StyleView",
       "description_width": ""
      }
     },
     "fde5550f305d4ad5bd7352a833461f8f": {
      "model_module": "@jupyter-widgets/controls",
      "model_module_version": "1.5.0",
      "model_name": "ProgressStyleModel",
      "state": {
       "_model_module": "@jupyter-widgets/controls",
       "_model_module_version": "1.5.0",
       "_model_name": "ProgressStyleModel",
       "_view_count": null,
       "_view_module": "@jupyter-widgets/base",
       "_view_module_version": "1.2.0",
       "_view_name": "StyleView",
       "bar_color": null,
       "description_width": ""
      }
     }
    },
    "version_major": 2,
    "version_minor": 0
   }
  }
 },
 "nbformat": 4,
 "nbformat_minor": 5
}
