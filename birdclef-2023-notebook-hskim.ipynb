{
 "cells": [
  {
   "cell_type": "markdown",
   "id": "de06aec0",
   "metadata": {
    "papermill": {
     "duration": 0.007199,
     "end_time": "2023-03-21T01:41:22.024180",
     "exception": false,
     "start_time": "2023-03-21T01:41:22.016981",
     "status": "completed"
    },
    "tags": []
   },
   "source": [
    "![](https://storage.googleapis.com/kaggle-competitions/kaggle/25954/logos/header.png?t=2021-03-19-18-32-57)"
   ]
  },
  {
   "cell_type": "code",
   "execution_count": 1,
   "id": "9aead1b4",
   "metadata": {
    "_cell_guid": "b1076dfc-b9ad-4769-8c92-a6c4dae69d19",
    "_kg_hide-output": true,
    "_uuid": "8f2839f25d086af736a60e9eeb907d3b93b6e0e5",
    "execution": {
     "iopub.execute_input": "2023-03-21T01:41:22.038176Z",
     "iopub.status.busy": "2023-03-21T01:41:22.037706Z",
     "iopub.status.idle": "2023-03-21T01:41:46.071640Z",
     "shell.execute_reply": "2023-03-21T01:41:46.070414Z"
    },
    "papermill": {
     "duration": 24.044284,
     "end_time": "2023-03-21T01:41:46.074420",
     "exception": false,
     "start_time": "2023-03-21T01:41:22.030136",
     "status": "completed"
    },
    "tags": []
   },
   "outputs": [
    {
     "name": "stdout",
     "output_type": "stream",
     "text": [
      "Requirement already satisfied: timm in /opt/conda/lib/python3.7/site-packages (0.6.12)\r\n",
      "Requirement already satisfied: pyyaml in /opt/conda/lib/python3.7/site-packages (from timm) (6.0)\r\n",
      "Requirement already satisfied: torchvision in /opt/conda/lib/python3.7/site-packages (from timm) (0.14.0)\r\n",
      "Requirement already satisfied: torch>=1.7 in /opt/conda/lib/python3.7/site-packages (from timm) (1.13.0)\r\n",
      "Requirement already satisfied: huggingface-hub in /opt/conda/lib/python3.7/site-packages (from timm) (0.12.1)\r\n",
      "Requirement already satisfied: typing-extensions in /opt/conda/lib/python3.7/site-packages (from torch>=1.7->timm) (4.4.0)\r\n",
      "Requirement already satisfied: tqdm>=4.42.1 in /opt/conda/lib/python3.7/site-packages (from huggingface-hub->timm) (4.64.1)\r\n",
      "Requirement already satisfied: requests in /opt/conda/lib/python3.7/site-packages (from huggingface-hub->timm) (2.28.2)\r\n",
      "Requirement already satisfied: packaging>=20.9 in /opt/conda/lib/python3.7/site-packages (from huggingface-hub->timm) (23.0)\r\n",
      "Requirement already satisfied: filelock in /opt/conda/lib/python3.7/site-packages (from huggingface-hub->timm) (3.9.0)\r\n",
      "Requirement already satisfied: importlib-metadata in /opt/conda/lib/python3.7/site-packages (from huggingface-hub->timm) (4.11.4)\r\n",
      "Requirement already satisfied: numpy in /opt/conda/lib/python3.7/site-packages (from torchvision->timm) (1.21.6)\r\n",
      "Requirement already satisfied: pillow!=8.3.*,>=5.3.0 in /opt/conda/lib/python3.7/site-packages (from torchvision->timm) (9.4.0)\r\n",
      "Requirement already satisfied: zipp>=0.5 in /opt/conda/lib/python3.7/site-packages (from importlib-metadata->huggingface-hub->timm) (3.11.0)\r\n",
      "Requirement already satisfied: charset-normalizer<4,>=2 in /opt/conda/lib/python3.7/site-packages (from requests->huggingface-hub->timm) (2.1.1)\r\n",
      "Requirement already satisfied: urllib3<1.27,>=1.21.1 in /opt/conda/lib/python3.7/site-packages (from requests->huggingface-hub->timm) (1.26.14)\r\n",
      "Requirement already satisfied: idna<4,>=2.5 in /opt/conda/lib/python3.7/site-packages (from requests->huggingface-hub->timm) (3.4)\r\n",
      "Requirement already satisfied: certifi>=2017.4.17 in /opt/conda/lib/python3.7/site-packages (from requests->huggingface-hub->timm) (2022.12.7)\r\n",
      "\u001b[33mWARNING: Running pip as the 'root' user can result in broken permissions and conflicting behaviour with the system package manager. It is recommended to use a virtual environment instead: https://pip.pypa.io/warnings/venv\u001b[0m\u001b[33m\r\n",
      "\u001b[0mRequirement already satisfied: wandb in /opt/conda/lib/python3.7/site-packages (0.13.10)\r\n",
      "Collecting wandb\r\n",
      "  Downloading wandb-0.14.0-py3-none-any.whl (2.0 MB)\r\n",
      "\u001b[2K     \u001b[90m━━━━━━━━━━━━━━━━━━━━━━━━━━━━━━━━━━━━━━━━\u001b[0m \u001b[32m2.0/2.0 MB\u001b[0m \u001b[31m22.3 MB/s\u001b[0m eta \u001b[36m0:00:00\u001b[0m\r\n",
      "\u001b[?25hRequirement already satisfied: pathtools in /opt/conda/lib/python3.7/site-packages (from wandb) (0.1.2)\r\n",
      "Requirement already satisfied: requests<3,>=2.0.0 in /opt/conda/lib/python3.7/site-packages (from wandb) (2.28.2)\r\n",
      "Requirement already satisfied: psutil>=5.0.0 in /opt/conda/lib/python3.7/site-packages (from wandb) (5.9.3)\r\n",
      "Requirement already satisfied: sentry-sdk>=1.0.0 in /opt/conda/lib/python3.7/site-packages (from wandb) (1.15.0)\r\n",
      "Requirement already satisfied: setproctitle in /opt/conda/lib/python3.7/site-packages (from wandb) (1.3.2)\r\n",
      "Requirement already satisfied: typing-extensions in /opt/conda/lib/python3.7/site-packages (from wandb) (4.4.0)\r\n",
      "Requirement already satisfied: GitPython!=3.1.29,>=1.0.0 in /opt/conda/lib/python3.7/site-packages (from wandb) (3.1.30)\r\n",
      "Requirement already satisfied: protobuf!=4.21.0,<5,>=3.12.0 in /opt/conda/lib/python3.7/site-packages (from wandb) (3.20.3)\r\n",
      "Requirement already satisfied: appdirs>=1.4.3 in /opt/conda/lib/python3.7/site-packages (from wandb) (1.4.4)\r\n",
      "Requirement already satisfied: PyYAML in /opt/conda/lib/python3.7/site-packages (from wandb) (6.0)\r\n",
      "Requirement already satisfied: setuptools in /opt/conda/lib/python3.7/site-packages (from wandb) (59.8.0)\r\n",
      "Requirement already satisfied: Click!=8.0.0,>=7.0 in /opt/conda/lib/python3.7/site-packages (from wandb) (8.1.3)\r\n",
      "Requirement already satisfied: docker-pycreds>=0.4.0 in /opt/conda/lib/python3.7/site-packages (from wandb) (0.4.0)\r\n",
      "Requirement already satisfied: importlib-metadata in /opt/conda/lib/python3.7/site-packages (from Click!=8.0.0,>=7.0->wandb) (4.11.4)\r\n",
      "Requirement already satisfied: six>=1.4.0 in /opt/conda/lib/python3.7/site-packages (from docker-pycreds>=0.4.0->wandb) (1.16.0)\r\n",
      "Requirement already satisfied: gitdb<5,>=4.0.1 in /opt/conda/lib/python3.7/site-packages (from GitPython!=3.1.29,>=1.0.0->wandb) (4.0.10)\r\n",
      "Requirement already satisfied: idna<4,>=2.5 in /opt/conda/lib/python3.7/site-packages (from requests<3,>=2.0.0->wandb) (3.4)\r\n",
      "Requirement already satisfied: charset-normalizer<4,>=2 in /opt/conda/lib/python3.7/site-packages (from requests<3,>=2.0.0->wandb) (2.1.1)\r\n",
      "Requirement already satisfied: certifi>=2017.4.17 in /opt/conda/lib/python3.7/site-packages (from requests<3,>=2.0.0->wandb) (2022.12.7)\r\n",
      "Requirement already satisfied: urllib3<1.27,>=1.21.1 in /opt/conda/lib/python3.7/site-packages (from requests<3,>=2.0.0->wandb) (1.26.14)\r\n",
      "Requirement already satisfied: smmap<6,>=3.0.1 in /opt/conda/lib/python3.7/site-packages (from gitdb<5,>=4.0.1->GitPython!=3.1.29,>=1.0.0->wandb) (5.0.0)\r\n",
      "Requirement already satisfied: zipp>=0.5 in /opt/conda/lib/python3.7/site-packages (from importlib-metadata->Click!=8.0.0,>=7.0->wandb) (3.11.0)\r\n",
      "Installing collected packages: wandb\r\n",
      "  Attempting uninstall: wandb\r\n",
      "    Found existing installation: wandb 0.13.10\r\n",
      "    Uninstalling wandb-0.13.10:\r\n",
      "      Successfully uninstalled wandb-0.13.10\r\n",
      "Successfully installed wandb-0.14.0\r\n",
      "\u001b[33mWARNING: Running pip as the 'root' user can result in broken permissions and conflicting behaviour with the system package manager. It is recommended to use a virtual environment instead: https://pip.pypa.io/warnings/venv\u001b[0m\u001b[33m\r\n",
      "\u001b[0m"
     ]
    }
   ],
   "source": [
    "!pip install timm\n",
    "!pip install --upgrade wandb"
   ]
  },
  {
   "cell_type": "code",
   "execution_count": 2,
   "id": "9af98410",
   "metadata": {
    "execution": {
     "iopub.execute_input": "2023-03-21T01:41:46.090369Z",
     "iopub.status.busy": "2023-03-21T01:41:46.090023Z",
     "iopub.status.idle": "2023-03-21T01:41:50.891042Z",
     "shell.execute_reply": "2023-03-21T01:41:50.889950Z"
    },
    "papermill": {
     "duration": 4.812335,
     "end_time": "2023-03-21T01:41:50.893972",
     "exception": false,
     "start_time": "2023-03-21T01:41:46.081637",
     "status": "completed"
    },
    "tags": []
   },
   "outputs": [],
   "source": [
    "import os\n",
    "import gc\n",
    "import cv2\n",
    "import math\n",
    "import copy\n",
    "import time\n",
    "import random\n",
    "\n",
    "# For data manipulation\n",
    "import numpy as np\n",
    "import pandas as pd\n",
    "\n",
    "# Pytorch Imports\n",
    "import torch\n",
    "import torch.nn as nn\n",
    "import torch.optim as optim\n",
    "import torch.nn.functional as F\n",
    "from torch.optim import lr_scheduler\n",
    "from torch.utils.data import Dataset, DataLoader\n",
    "from torch.cuda import amp\n",
    "\n",
    "# Audio \n",
    "import torchaudio\n",
    "from torchaudio.transforms import MelSpectrogram, Resample\n",
    "\n",
    "# Utils\n",
    "import joblib\n",
    "from tqdm import tqdm\n",
    "from collections import defaultdict\n",
    "\n",
    "# Sklearn Imports\n",
    "from sklearn.preprocessing import LabelEncoder\n",
    "from sklearn.model_selection import StratifiedKFold\n",
    "from sklearn.metrics import average_precision_score\n",
    "\n",
    "# For Image Models\n",
    "import timm\n",
    "\n",
    "# For colored terminal text\n",
    "from colorama import Fore, Back, Style\n",
    "b_ = Fore.BLUE\n",
    "sr_ = Style.RESET_ALL\n",
    "\n",
    "import warnings\n",
    "warnings.filterwarnings(\"ignore\")\n",
    "\n",
    "# For descriptive error messages\n",
    "os.environ['CUDA_LAUNCH_BLOCKING'] = \"1\""
   ]
  },
  {
   "cell_type": "code",
   "execution_count": 3,
   "id": "4690d784",
   "metadata": {
    "execution": {
     "iopub.execute_input": "2023-03-21T01:41:50.909685Z",
     "iopub.status.busy": "2023-03-21T01:41:50.909371Z",
     "iopub.status.idle": "2023-03-21T01:41:52.890899Z",
     "shell.execute_reply": "2023-03-21T01:41:52.889320Z"
    },
    "papermill": {
     "duration": 1.993091,
     "end_time": "2023-03-21T01:41:52.894238",
     "exception": false,
     "start_time": "2023-03-21T01:41:50.901147",
     "status": "completed"
    },
    "tags": []
   },
   "outputs": [
    {
     "name": "stderr",
     "output_type": "stream",
     "text": [
      "\u001b[34m\u001b[1mwandb\u001b[0m: W&B API key is configured. Use \u001b[1m`wandb login --relogin`\u001b[0m to force relogin\n",
      "\u001b[34m\u001b[1mwandb\u001b[0m: \u001b[33mWARNING\u001b[0m If you're specifying your api key in code, ensure this code is not shared publicly.\n",
      "\u001b[34m\u001b[1mwandb\u001b[0m: \u001b[33mWARNING\u001b[0m Consider setting the WANDB_API_KEY environment variable, or running `wandb login` from the command line.\n",
      "\u001b[34m\u001b[1mwandb\u001b[0m: Appending key for api.wandb.ai to your netrc file: /root/.netrc\n"
     ]
    }
   ],
   "source": [
    "import wandb\n",
    "\n",
    "try:\n",
    "    from kaggle_secrets import UserSecretsClient\n",
    "    user_secrets = UserSecretsClient()\n",
    "    api_key = user_secrets.get_secret(\"wandb_api\")\n",
    "    wandb.login(key=api_key)\n",
    "    anony = None\n",
    "except:\n",
    "    anony = \"must\"\n",
    "    print('If you want to use your W&B account, go to Add-ons -> Secrets and provide your W&B access token. Use the Label name as wandb_api. \\nGet your W&B access token from here: https://wandb.ai/authorize')"
   ]
  },
  {
   "cell_type": "code",
   "execution_count": 4,
   "id": "aa43c40d",
   "metadata": {
    "execution": {
     "iopub.execute_input": "2023-03-21T01:41:52.916729Z",
     "iopub.status.busy": "2023-03-21T01:41:52.915694Z",
     "iopub.status.idle": "2023-03-21T01:41:52.985351Z",
     "shell.execute_reply": "2023-03-21T01:41:52.984211Z"
    },
    "papermill": {
     "duration": 0.081949,
     "end_time": "2023-03-21T01:41:52.987755",
     "exception": false,
     "start_time": "2023-03-21T01:41:52.905806",
     "status": "completed"
    },
    "tags": []
   },
   "outputs": [],
   "source": [
    "CONFIG = {\"seed\": 2023,\n",
    "          \"epochs\": 10,\n",
    "          \"model_name\": \"efficientnet_b2\",\n",
    "          \"embedding_size\": 768,\n",
    "          \"num_classes\": 264,\n",
    "          \"train_batch_size\": 64,\n",
    "          \"valid_batch_size\": 128,\n",
    "          \"learning_rate\": 1e-3,\n",
    "          \"scheduler\": 'CosineAnnealingLR',\n",
    "          \"min_lr\": 1e-6,\n",
    "          \"T_max\": 500,\n",
    "          \"weight_decay\": 1e-6,\n",
    "          \"n_fold\": 5,\n",
    "          \"n_accumulate\": 1,\n",
    "          \"device\": torch.device(\"cuda:0\" if torch.cuda.is_available() else \"cpu\"),\n",
    "          \"competition\": \"BirdCLEF23\",\n",
    "          \"_wandb_kernel\": \"deb\",\n",
    "          # Audio Specific\n",
    "          \"sample_rate\": 32_000,\n",
    "          \"max_time\": 5,\n",
    "          \"n_mels\": 224,\n",
    "          \"n_fft\": 1024,\n",
    "          }"
   ]
  },
  {
   "cell_type": "code",
   "execution_count": 5,
   "id": "8b16945d",
   "metadata": {
    "execution": {
     "iopub.execute_input": "2023-03-21T01:41:53.003610Z",
     "iopub.status.busy": "2023-03-21T01:41:53.003018Z",
     "iopub.status.idle": "2023-03-21T01:41:53.013130Z",
     "shell.execute_reply": "2023-03-21T01:41:53.012248Z"
    },
    "papermill": {
     "duration": 0.020169,
     "end_time": "2023-03-21T01:41:53.015437",
     "exception": false,
     "start_time": "2023-03-21T01:41:52.995268",
     "status": "completed"
    },
    "tags": []
   },
   "outputs": [],
   "source": [
    "def set_seed(seed=42):\n",
    "    '''Sets the seed of the entire notebook so results are the same every time we run.\n",
    "    This is for REPRODUCIBILITY.'''\n",
    "    np.random.seed(seed)\n",
    "    torch.manual_seed(seed)\n",
    "    torch.cuda.manual_seed(seed)\n",
    "    # When running on the CuDNN backend, two further options must be set\n",
    "    torch.backends.cudnn.deterministic = True\n",
    "    torch.backends.cudnn.benchmark = False\n",
    "    # Set a fixed value for the hash seed\n",
    "    os.environ['PYTHONHASHSEED'] = str(seed)\n",
    "    \n",
    "set_seed(CONFIG['seed'])"
   ]
  },
  {
   "cell_type": "code",
   "execution_count": 6,
   "id": "80c2268c",
   "metadata": {
    "execution": {
     "iopub.execute_input": "2023-03-21T01:41:53.030720Z",
     "iopub.status.busy": "2023-03-21T01:41:53.030169Z",
     "iopub.status.idle": "2023-03-21T01:41:53.034668Z",
     "shell.execute_reply": "2023-03-21T01:41:53.033540Z"
    },
    "papermill": {
     "duration": 0.01442,
     "end_time": "2023-03-21T01:41:53.036705",
     "exception": false,
     "start_time": "2023-03-21T01:41:53.022285",
     "status": "completed"
    },
    "tags": []
   },
   "outputs": [],
   "source": [
    "ROOT_DIR = '../input/birdclef-2023'\n",
    "TRAIN_DIR = '../input/birdclef-2023/train_audio'\n",
    "TEST_DIR = '../input/birdclef-2023/test_soundscapes'"
   ]
  },
  {
   "cell_type": "code",
   "execution_count": 7,
   "id": "f8343b44",
   "metadata": {
    "execution": {
     "iopub.execute_input": "2023-03-21T01:41:53.052318Z",
     "iopub.status.busy": "2023-03-21T01:41:53.051435Z",
     "iopub.status.idle": "2023-03-21T01:41:53.056387Z",
     "shell.execute_reply": "2023-03-21T01:41:53.055506Z"
    },
    "papermill": {
     "duration": 0.014898,
     "end_time": "2023-03-21T01:41:53.058371",
     "exception": false,
     "start_time": "2023-03-21T01:41:53.043473",
     "status": "completed"
    },
    "tags": []
   },
   "outputs": [],
   "source": [
    "def get_train_file_path(filename):\n",
    "    return f\"{TRAIN_DIR}/{filename}\""
   ]
  },
  {
   "cell_type": "code",
   "execution_count": 8,
   "id": "d60a17d3",
   "metadata": {
    "execution": {
     "iopub.execute_input": "2023-03-21T01:41:53.073799Z",
     "iopub.status.busy": "2023-03-21T01:41:53.072964Z",
     "iopub.status.idle": "2023-03-21T01:41:53.225226Z",
     "shell.execute_reply": "2023-03-21T01:41:53.224014Z"
    },
    "papermill": {
     "duration": 0.162232,
     "end_time": "2023-03-21T01:41:53.227632",
     "exception": false,
     "start_time": "2023-03-21T01:41:53.065400",
     "status": "completed"
    },
    "tags": []
   },
   "outputs": [
    {
     "data": {
      "text/html": [
       "<div>\n",
       "<style scoped>\n",
       "    .dataframe tbody tr th:only-of-type {\n",
       "        vertical-align: middle;\n",
       "    }\n",
       "\n",
       "    .dataframe tbody tr th {\n",
       "        vertical-align: top;\n",
       "    }\n",
       "\n",
       "    .dataframe thead th {\n",
       "        text-align: right;\n",
       "    }\n",
       "</style>\n",
       "<table border=\"1\" class=\"dataframe\">\n",
       "  <thead>\n",
       "    <tr style=\"text-align: right;\">\n",
       "      <th></th>\n",
       "      <th>primary_label</th>\n",
       "      <th>secondary_labels</th>\n",
       "      <th>type</th>\n",
       "      <th>latitude</th>\n",
       "      <th>longitude</th>\n",
       "      <th>scientific_name</th>\n",
       "      <th>common_name</th>\n",
       "      <th>author</th>\n",
       "      <th>license</th>\n",
       "      <th>rating</th>\n",
       "      <th>url</th>\n",
       "      <th>filename</th>\n",
       "      <th>file_path</th>\n",
       "    </tr>\n",
       "  </thead>\n",
       "  <tbody>\n",
       "    <tr>\n",
       "      <th>0</th>\n",
       "      <td>abethr1</td>\n",
       "      <td>[]</td>\n",
       "      <td>['song']</td>\n",
       "      <td>4.3906</td>\n",
       "      <td>38.2788</td>\n",
       "      <td>Turdus tephronotus</td>\n",
       "      <td>African Bare-eyed Thrush</td>\n",
       "      <td>Rolf A. de By</td>\n",
       "      <td>Creative Commons Attribution-NonCommercial-Sha...</td>\n",
       "      <td>4.0</td>\n",
       "      <td>https://www.xeno-canto.org/128013</td>\n",
       "      <td>abethr1/XC128013.ogg</td>\n",
       "      <td>../input/birdclef-2023/train_audio/abethr1/XC1...</td>\n",
       "    </tr>\n",
       "    <tr>\n",
       "      <th>1</th>\n",
       "      <td>abethr1</td>\n",
       "      <td>[]</td>\n",
       "      <td>['call']</td>\n",
       "      <td>-2.9524</td>\n",
       "      <td>38.2921</td>\n",
       "      <td>Turdus tephronotus</td>\n",
       "      <td>African Bare-eyed Thrush</td>\n",
       "      <td>James Bradley</td>\n",
       "      <td>Creative Commons Attribution-NonCommercial-Sha...</td>\n",
       "      <td>3.5</td>\n",
       "      <td>https://www.xeno-canto.org/363501</td>\n",
       "      <td>abethr1/XC363501.ogg</td>\n",
       "      <td>../input/birdclef-2023/train_audio/abethr1/XC3...</td>\n",
       "    </tr>\n",
       "    <tr>\n",
       "      <th>2</th>\n",
       "      <td>abethr1</td>\n",
       "      <td>[]</td>\n",
       "      <td>['song']</td>\n",
       "      <td>-2.9524</td>\n",
       "      <td>38.2921</td>\n",
       "      <td>Turdus tephronotus</td>\n",
       "      <td>African Bare-eyed Thrush</td>\n",
       "      <td>James Bradley</td>\n",
       "      <td>Creative Commons Attribution-NonCommercial-Sha...</td>\n",
       "      <td>3.5</td>\n",
       "      <td>https://www.xeno-canto.org/363502</td>\n",
       "      <td>abethr1/XC363502.ogg</td>\n",
       "      <td>../input/birdclef-2023/train_audio/abethr1/XC3...</td>\n",
       "    </tr>\n",
       "    <tr>\n",
       "      <th>3</th>\n",
       "      <td>abethr1</td>\n",
       "      <td>[]</td>\n",
       "      <td>['song']</td>\n",
       "      <td>-2.9524</td>\n",
       "      <td>38.2921</td>\n",
       "      <td>Turdus tephronotus</td>\n",
       "      <td>African Bare-eyed Thrush</td>\n",
       "      <td>James Bradley</td>\n",
       "      <td>Creative Commons Attribution-NonCommercial-Sha...</td>\n",
       "      <td>5.0</td>\n",
       "      <td>https://www.xeno-canto.org/363503</td>\n",
       "      <td>abethr1/XC363503.ogg</td>\n",
       "      <td>../input/birdclef-2023/train_audio/abethr1/XC3...</td>\n",
       "    </tr>\n",
       "    <tr>\n",
       "      <th>4</th>\n",
       "      <td>abethr1</td>\n",
       "      <td>[]</td>\n",
       "      <td>['call', 'song']</td>\n",
       "      <td>-2.9524</td>\n",
       "      <td>38.2921</td>\n",
       "      <td>Turdus tephronotus</td>\n",
       "      <td>African Bare-eyed Thrush</td>\n",
       "      <td>James Bradley</td>\n",
       "      <td>Creative Commons Attribution-NonCommercial-Sha...</td>\n",
       "      <td>4.5</td>\n",
       "      <td>https://www.xeno-canto.org/363504</td>\n",
       "      <td>abethr1/XC363504.ogg</td>\n",
       "      <td>../input/birdclef-2023/train_audio/abethr1/XC3...</td>\n",
       "    </tr>\n",
       "  </tbody>\n",
       "</table>\n",
       "</div>"
      ],
      "text/plain": [
       "  primary_label secondary_labels              type  latitude  longitude  \\\n",
       "0       abethr1               []          ['song']    4.3906    38.2788   \n",
       "1       abethr1               []          ['call']   -2.9524    38.2921   \n",
       "2       abethr1               []          ['song']   -2.9524    38.2921   \n",
       "3       abethr1               []          ['song']   -2.9524    38.2921   \n",
       "4       abethr1               []  ['call', 'song']   -2.9524    38.2921   \n",
       "\n",
       "      scientific_name               common_name         author  \\\n",
       "0  Turdus tephronotus  African Bare-eyed Thrush  Rolf A. de By   \n",
       "1  Turdus tephronotus  African Bare-eyed Thrush  James Bradley   \n",
       "2  Turdus tephronotus  African Bare-eyed Thrush  James Bradley   \n",
       "3  Turdus tephronotus  African Bare-eyed Thrush  James Bradley   \n",
       "4  Turdus tephronotus  African Bare-eyed Thrush  James Bradley   \n",
       "\n",
       "                                             license  rating  \\\n",
       "0  Creative Commons Attribution-NonCommercial-Sha...     4.0   \n",
       "1  Creative Commons Attribution-NonCommercial-Sha...     3.5   \n",
       "2  Creative Commons Attribution-NonCommercial-Sha...     3.5   \n",
       "3  Creative Commons Attribution-NonCommercial-Sha...     5.0   \n",
       "4  Creative Commons Attribution-NonCommercial-Sha...     4.5   \n",
       "\n",
       "                                 url              filename  \\\n",
       "0  https://www.xeno-canto.org/128013  abethr1/XC128013.ogg   \n",
       "1  https://www.xeno-canto.org/363501  abethr1/XC363501.ogg   \n",
       "2  https://www.xeno-canto.org/363502  abethr1/XC363502.ogg   \n",
       "3  https://www.xeno-canto.org/363503  abethr1/XC363503.ogg   \n",
       "4  https://www.xeno-canto.org/363504  abethr1/XC363504.ogg   \n",
       "\n",
       "                                           file_path  \n",
       "0  ../input/birdclef-2023/train_audio/abethr1/XC1...  \n",
       "1  ../input/birdclef-2023/train_audio/abethr1/XC3...  \n",
       "2  ../input/birdclef-2023/train_audio/abethr1/XC3...  \n",
       "3  ../input/birdclef-2023/train_audio/abethr1/XC3...  \n",
       "4  ../input/birdclef-2023/train_audio/abethr1/XC3...  "
      ]
     },
     "execution_count": 8,
     "metadata": {},
     "output_type": "execute_result"
    }
   ],
   "source": [
    "df = pd.read_csv(f\"{ROOT_DIR}/train_metadata.csv\")\n",
    "df['file_path'] = df['filename'].apply(get_train_file_path)\n",
    "df.head()"
   ]
  },
  {
   "cell_type": "code",
   "execution_count": null,
   "id": "8d1f55e1",
   "metadata": {
    "papermill": {
     "duration": 0.007523,
     "end_time": "2023-03-21T01:41:53.243089",
     "exception": false,
     "start_time": "2023-03-21T01:41:53.235566",
     "status": "completed"
    },
    "tags": []
   },
   "outputs": [],
   "source": []
  },
  {
   "cell_type": "code",
   "execution_count": null,
   "id": "d38ed1fb",
   "metadata": {
    "papermill": {
     "duration": 0.007378,
     "end_time": "2023-03-21T01:41:53.257878",
     "exception": false,
     "start_time": "2023-03-21T01:41:53.250500",
     "status": "completed"
    },
    "tags": []
   },
   "outputs": [],
   "source": []
  },
  {
   "cell_type": "code",
   "execution_count": 9,
   "id": "c74c54cc",
   "metadata": {
    "execution": {
     "iopub.execute_input": "2023-03-21T01:41:53.273714Z",
     "iopub.status.busy": "2023-03-21T01:41:53.273388Z",
     "iopub.status.idle": "2023-03-21T01:41:53.290700Z",
     "shell.execute_reply": "2023-03-21T01:41:53.289713Z"
    },
    "papermill": {
     "duration": 0.027945,
     "end_time": "2023-03-21T01:41:53.293134",
     "exception": false,
     "start_time": "2023-03-21T01:41:53.265189",
     "status": "completed"
    },
    "tags": []
   },
   "outputs": [],
   "source": [
    "encoder = LabelEncoder()\n",
    "all_labels = sorted(df['primary_label'].values)\n",
    "encoder.fit(all_labels)\n",
    "\n",
    "df['primary_label'] = encoder.transform(df['primary_label'])\n",
    "\n",
    "with open(\"le.pkl\", \"wb\") as fp:\n",
    "    joblib.dump(encoder, fp)"
   ]
  },
  {
   "cell_type": "code",
   "execution_count": 10,
   "id": "2bd6aba0",
   "metadata": {
    "execution": {
     "iopub.execute_input": "2023-03-21T01:41:53.310498Z",
     "iopub.status.busy": "2023-03-21T01:41:53.309546Z",
     "iopub.status.idle": "2023-03-21T01:41:53.327669Z",
     "shell.execute_reply": "2023-03-21T01:41:53.326655Z"
    },
    "papermill": {
     "duration": 0.029333,
     "end_time": "2023-03-21T01:41:53.330111",
     "exception": false,
     "start_time": "2023-03-21T01:41:53.300778",
     "status": "completed"
    },
    "tags": []
   },
   "outputs": [],
   "source": [
    "skf = StratifiedKFold(n_splits=CONFIG['n_fold'])\n",
    "\n",
    "for fold, ( _, val_) in enumerate(skf.split(X=df, y=df.primary_label)):\n",
    "      df.loc[val_ , \"kfold\"] = fold"
   ]
  },
  {
   "cell_type": "code",
   "execution_count": 11,
   "id": "1ba8c21a",
   "metadata": {
    "execution": {
     "iopub.execute_input": "2023-03-21T01:41:53.347117Z",
     "iopub.status.busy": "2023-03-21T01:41:53.346790Z",
     "iopub.status.idle": "2023-03-21T01:41:53.359291Z",
     "shell.execute_reply": "2023-03-21T01:41:53.358361Z"
    },
    "papermill": {
     "duration": 0.023646,
     "end_time": "2023-03-21T01:41:53.361413",
     "exception": false,
     "start_time": "2023-03-21T01:41:53.337767",
     "status": "completed"
    },
    "tags": []
   },
   "outputs": [],
   "source": [
    "class BirdCLEFDataset(Dataset):\n",
    "    def __init__(self, df, target_sample_rate, max_time, image_transforms=None):\n",
    "        self.file_paths = df['file_path'].values\n",
    "        self.labels = df['primary_label'].values\n",
    "        self.target_sample_rate = target_sample_rate\n",
    "        num_samples = target_sample_rate * max_time\n",
    "        self.num_samples = num_samples\n",
    "        self.image_transforms = image_transforms\n",
    "        \n",
    "    def __len__(self):\n",
    "        return len(self.file_paths)\n",
    "    \n",
    "    def __getitem__(self, index):\n",
    "        filepath = self.file_paths[index]\n",
    "        audio, sample_rate = torchaudio.load(filepath)\n",
    "        audio = self.to_mono(audio)\n",
    "        \n",
    "        if sample_rate != self.target_sample_rate:\n",
    "            resample = Resample(sample_rate, self.target_sample_rate)\n",
    "            audio = resample(audio)\n",
    "        \n",
    "        if audio.shape[0] > self.num_samples:\n",
    "            audio = self.crop_audio(audio)\n",
    "            \n",
    "        if audio.shape[0] < self.num_samples:\n",
    "            audio = self.pad_audio(audio)\n",
    "            \n",
    "        mel_spectogram = MelSpectrogram(sample_rate=self.target_sample_rate, \n",
    "                                        n_mels=CONFIG['n_mels'], \n",
    "                                        n_fft=CONFIG['n_fft'])\n",
    "        mel = mel_spectogram(audio)\n",
    "        \n",
    "        label_onehot = torch.zeros(CONFIG['num_classes'])\n",
    "        label_onehot[self.labels[index]] = 1\n",
    "        label = torch.tensor(self.labels[index])\n",
    "        \n",
    "        # Convert to Image\n",
    "        image = torch.stack([mel, mel, mel])\n",
    "        \n",
    "        # Normalize Image\n",
    "        max_val = torch.abs(image).max()\n",
    "        image = image / max_val\n",
    "        \n",
    "        return {\n",
    "            \"image\": image, \n",
    "            \"label\": label,\n",
    "            \"label_onehot\": label_onehot\n",
    "        }\n",
    "            \n",
    "    def pad_audio(self, audio):\n",
    "        pad_length = self.num_samples - audio.shape[0]\n",
    "        last_dim_padding = (0, pad_length)\n",
    "        audio = F.pad(audio, last_dim_padding)\n",
    "        return audio\n",
    "        \n",
    "    def crop_audio(self, audio):\n",
    "        return audio[:self.num_samples]\n",
    "        \n",
    "    def to_mono(self, audio):\n",
    "        return torch.mean(audio, axis=0)"
   ]
  },
  {
   "cell_type": "code",
   "execution_count": 12,
   "id": "39080739",
   "metadata": {
    "execution": {
     "iopub.execute_input": "2023-03-21T01:41:53.377738Z",
     "iopub.status.busy": "2023-03-21T01:41:53.376964Z",
     "iopub.status.idle": "2023-03-21T01:41:53.384782Z",
     "shell.execute_reply": "2023-03-21T01:41:53.383713Z"
    },
    "papermill": {
     "duration": 0.018132,
     "end_time": "2023-03-21T01:41:53.386949",
     "exception": false,
     "start_time": "2023-03-21T01:41:53.368817",
     "status": "completed"
    },
    "tags": []
   },
   "outputs": [],
   "source": [
    "class GeM(nn.Module):\n",
    "    def __init__(self, p=3, eps=1e-6):\n",
    "        super(GeM, self).__init__()\n",
    "        self.p = nn.Parameter(torch.ones(1)*p)\n",
    "        self.eps = eps\n",
    "\n",
    "    def forward(self, x):\n",
    "        return self.gem(x, p=self.p, eps=self.eps)\n",
    "        \n",
    "    def gem(self, x, p=3, eps=1e-6):\n",
    "        return F.avg_pool2d(x.clamp(min=eps).pow(p), (x.size(-2), x.size(-1))).pow(1./p)\n",
    "        \n",
    "    def __repr__(self):\n",
    "        return self.__class__.__name__ + \\\n",
    "                '(' + 'p=' + '{:.4f}'.format(self.p.data.tolist()[0]) + \\\n",
    "                ', ' + 'eps=' + str(self.eps) + ')'"
   ]
  },
  {
   "cell_type": "code",
   "execution_count": 13,
   "id": "dd7cbbe9",
   "metadata": {
    "execution": {
     "iopub.execute_input": "2023-03-21T01:41:53.402843Z",
     "iopub.status.busy": "2023-03-21T01:41:53.402139Z",
     "iopub.status.idle": "2023-03-21T01:41:57.339206Z",
     "shell.execute_reply": "2023-03-21T01:41:57.338131Z"
    },
    "papermill": {
     "duration": 3.947901,
     "end_time": "2023-03-21T01:41:57.341922",
     "exception": false,
     "start_time": "2023-03-21T01:41:53.394021",
     "status": "completed"
    },
    "tags": []
   },
   "outputs": [
    {
     "name": "stderr",
     "output_type": "stream",
     "text": [
      "Downloading: \"https://github.com/rwightman/pytorch-image-models/releases/download/v0.1-weights/efficientnet_b2_ra-bcdf34b7.pth\" to /root/.cache/torch/hub/checkpoints/efficientnet_b2_ra-bcdf34b7.pth\n"
     ]
    }
   ],
   "source": [
    "class BirdCLEFModel(nn.Module):\n",
    "    def __init__(self, model_name, embedding_size, pretrained=True):\n",
    "        super(BirdCLEFModel, self).__init__()\n",
    "        self.model = timm.create_model(model_name, pretrained=pretrained)\n",
    "        in_features = self.model.classifier.in_features\n",
    "        self.model.classifier = nn.Identity()\n",
    "        self.model.global_pool = nn.Identity()\n",
    "        self.pooling = GeM()\n",
    "        self.embedding = nn.Linear(in_features, embedding_size)\n",
    "        self.fc = nn.Linear(embedding_size, CONFIG['num_classes'])\n",
    "\n",
    "    def forward(self, images):\n",
    "        features = self.model(images)\n",
    "        pooled_features = self.pooling(features).flatten(1)\n",
    "        embedding = self.embedding(pooled_features)\n",
    "        output = self.fc(embedding)\n",
    "        return output\n",
    "    \n",
    "model = BirdCLEFModel(CONFIG['model_name'], CONFIG['embedding_size'])\n",
    "model.to(CONFIG['device']);"
   ]
  },
  {
   "cell_type": "code",
   "execution_count": 14,
   "id": "377346d8",
   "metadata": {
    "execution": {
     "iopub.execute_input": "2023-03-21T01:41:57.359534Z",
     "iopub.status.busy": "2023-03-21T01:41:57.358595Z",
     "iopub.status.idle": "2023-03-21T01:41:57.363649Z",
     "shell.execute_reply": "2023-03-21T01:41:57.362642Z"
    },
    "papermill": {
     "duration": 0.016396,
     "end_time": "2023-03-21T01:41:57.366010",
     "exception": false,
     "start_time": "2023-03-21T01:41:57.349614",
     "status": "completed"
    },
    "tags": []
   },
   "outputs": [],
   "source": [
    "def criterion(outputs, labels):\n",
    "    return nn.CrossEntropyLoss()(outputs, labels)"
   ]
  },
  {
   "cell_type": "code",
   "execution_count": 15,
   "id": "77ddba3b",
   "metadata": {
    "execution": {
     "iopub.execute_input": "2023-03-21T01:41:57.381984Z",
     "iopub.status.busy": "2023-03-21T01:41:57.381311Z",
     "iopub.status.idle": "2023-03-21T01:41:57.389566Z",
     "shell.execute_reply": "2023-03-21T01:41:57.388494Z"
    },
    "papermill": {
     "duration": 0.018384,
     "end_time": "2023-03-21T01:41:57.391492",
     "exception": false,
     "start_time": "2023-03-21T01:41:57.373108",
     "status": "completed"
    },
    "tags": []
   },
   "outputs": [],
   "source": [
    "def train_one_epoch(model, optimizer, scheduler, dataloader, device, epoch):\n",
    "    model.train()\n",
    "    \n",
    "    dataset_size = 0\n",
    "    running_loss = 0.0\n",
    "    \n",
    "    bar = tqdm(enumerate(dataloader), total=len(dataloader))\n",
    "    for step, data in bar:\n",
    "        images = data['image'].to(device)\n",
    "        labels = data['label'].to(device)\n",
    "        \n",
    "        batch_size = images.size(0)\n",
    "        \n",
    "        outputs = model(images)\n",
    "        loss = criterion(outputs, labels)\n",
    "        loss = loss / CONFIG['n_accumulate']\n",
    "            \n",
    "        loss.backward()\n",
    "    \n",
    "        if (step + 1) % CONFIG['n_accumulate'] == 0:\n",
    "            optimizer.step()\n",
    "\n",
    "            # zero the parameter gradients\n",
    "            optimizer.zero_grad()\n",
    "\n",
    "            if scheduler is not None:\n",
    "                scheduler.step()\n",
    "                \n",
    "        running_loss += (loss.item() * batch_size)\n",
    "        dataset_size += batch_size\n",
    "        \n",
    "        epoch_loss = running_loss / dataset_size\n",
    "        \n",
    "        bar.set_postfix(Epoch=epoch, Train_Loss=epoch_loss,\n",
    "                        LR=optimizer.param_groups[0]['lr'])\n",
    "    gc.collect()\n",
    "    \n",
    "    return epoch_loss"
   ]
  },
  {
   "cell_type": "code",
   "execution_count": 16,
   "id": "1febe8b9",
   "metadata": {
    "execution": {
     "iopub.execute_input": "2023-03-21T01:41:57.407868Z",
     "iopub.status.busy": "2023-03-21T01:41:57.407047Z",
     "iopub.status.idle": "2023-03-21T01:41:57.413374Z",
     "shell.execute_reply": "2023-03-21T01:41:57.412385Z"
    },
    "papermill": {
     "duration": 0.016702,
     "end_time": "2023-03-21T01:41:57.415611",
     "exception": false,
     "start_time": "2023-03-21T01:41:57.398909",
     "status": "completed"
    },
    "tags": []
   },
   "outputs": [],
   "source": [
    "def padded_cmap(solution, submission, padding_factor=5):\n",
    "    new_rows = []\n",
    "    for i in range(padding_factor):\n",
    "        new_rows.append([1 for i in range(len(solution.columns))])\n",
    "    new_rows = pd.DataFrame(new_rows)\n",
    "    new_rows.columns = solution.columns\n",
    "    padded_solution = pd.concat([solution, new_rows]).reset_index(drop=True).copy()\n",
    "    padded_submission = pd.concat([submission, new_rows]).reset_index(drop=True).copy()\n",
    "    score = average_precision_score(\n",
    "        padded_solution.values,\n",
    "        padded_submission.values,\n",
    "        average='macro',\n",
    "    )\n",
    "    return score"
   ]
  },
  {
   "cell_type": "code",
   "execution_count": 17,
   "id": "15e9fabd",
   "metadata": {
    "execution": {
     "iopub.execute_input": "2023-03-21T01:41:57.432273Z",
     "iopub.status.busy": "2023-03-21T01:41:57.431360Z",
     "iopub.status.idle": "2023-03-21T01:41:57.440546Z",
     "shell.execute_reply": "2023-03-21T01:41:57.439655Z"
    },
    "papermill": {
     "duration": 0.01983,
     "end_time": "2023-03-21T01:41:57.442590",
     "exception": false,
     "start_time": "2023-03-21T01:41:57.422760",
     "status": "completed"
    },
    "tags": []
   },
   "outputs": [],
   "source": [
    "@torch.inference_mode()\n",
    "def valid_one_epoch(model, dataloader, device, epoch):\n",
    "    model.eval()\n",
    "    \n",
    "    dataset_size = 0\n",
    "    running_loss = 0.0\n",
    "    \n",
    "    LABELS = []\n",
    "    PREDS = []\n",
    "    \n",
    "    bar = tqdm(enumerate(dataloader), total=len(dataloader))\n",
    "    for step, data in bar:        \n",
    "        images = data['image'].to(device)\n",
    "        labels = data['label_onehot'].to(device)\n",
    "        \n",
    "        batch_size = images.size(0)\n",
    "\n",
    "        outputs = model(images)\n",
    "        loss = criterion(outputs, labels)\n",
    "        \n",
    "        running_loss += (loss.item() * batch_size)\n",
    "        dataset_size += batch_size\n",
    "        \n",
    "        epoch_loss = running_loss / dataset_size\n",
    "        \n",
    "        PREDS.append(F.softmax(outputs, dim=1).cpu().detach().numpy())\n",
    "        LABELS.append(labels.cpu().detach().numpy())\n",
    "        \n",
    "        bar.set_postfix(Epoch=epoch, Valid_Loss=epoch_loss,\n",
    "                        LR=optimizer.param_groups[0]['lr'])   \n",
    "    \n",
    "    LABELS = np.vstack(LABELS)\n",
    "    PREDS = np.vstack(PREDS)\n",
    "    val_cmap = padded_cmap(pd.DataFrame(LABELS), pd.DataFrame(PREDS))\n",
    "    gc.collect()\n",
    "    \n",
    "    return epoch_loss, val_cmap"
   ]
  },
  {
   "cell_type": "code",
   "execution_count": 18,
   "id": "a495c388",
   "metadata": {
    "execution": {
     "iopub.execute_input": "2023-03-21T01:41:57.458995Z",
     "iopub.status.busy": "2023-03-21T01:41:57.458125Z",
     "iopub.status.idle": "2023-03-21T01:41:57.469397Z",
     "shell.execute_reply": "2023-03-21T01:41:57.468521Z"
    },
    "papermill": {
     "duration": 0.021447,
     "end_time": "2023-03-21T01:41:57.471392",
     "exception": false,
     "start_time": "2023-03-21T01:41:57.449945",
     "status": "completed"
    },
    "tags": []
   },
   "outputs": [],
   "source": [
    "def run_training(model, optimizer, scheduler, device, num_epochs):\n",
    "    # To automatically log gradients\n",
    "    wandb.watch(model, log_freq=100)\n",
    "    \n",
    "    if torch.cuda.is_available():\n",
    "        print(\"[INFO] Using GPU: {}\\n\".format(torch.cuda.get_device_name()))\n",
    "    \n",
    "    start = time.time()\n",
    "    best_model_wts = copy.deepcopy(model.state_dict())\n",
    "    best_epoch_cmap = 0\n",
    "    history = defaultdict(list)\n",
    "    \n",
    "    for epoch in range(1, num_epochs + 1): \n",
    "        gc.collect()\n",
    "        train_epoch_loss = train_one_epoch(model, optimizer, scheduler, \n",
    "                                           dataloader=train_loader, \n",
    "                                           device=CONFIG['device'], epoch=epoch)\n",
    "        \n",
    "        val_epoch_loss, val_epoch_cmap = valid_one_epoch(model, valid_loader, \n",
    "                                                       device=CONFIG['device'], \n",
    "                                                       epoch=epoch)\n",
    "    \n",
    "        history['Train Loss'].append(train_epoch_loss)\n",
    "        history['Valid Loss'].append(val_epoch_loss)\n",
    "        history['Valid CMAP'].append(val_epoch_cmap)\n",
    "        \n",
    "        # Log the metrics\n",
    "        wandb.log({\"Train Loss\": train_epoch_loss})\n",
    "        wandb.log({\"Valid Loss\": val_epoch_loss})\n",
    "        wandb.log({\"Valid CMAP\": val_epoch_cmap})\n",
    "        \n",
    "        # deep copy the model\n",
    "        if val_epoch_cmap >= best_epoch_cmap:\n",
    "            print(f\"{b_}Validation CMAP Improved ({best_epoch_cmap} ---> {val_epoch_cmap})\")\n",
    "            best_epoch_cmap = val_epoch_cmap\n",
    "            run.summary[\"Best CMAP Score\"] = best_epoch_cmap\n",
    "            best_model_wts = copy.deepcopy(model.state_dict())\n",
    "            PATH = \"CMAP{:.4f}_epoch{:.0f}.bin\".format(best_epoch_cmap, epoch)\n",
    "            torch.save(model.state_dict(), PATH)\n",
    "            # Save a model file from the current directory\n",
    "            print(f\"Model Saved{sr_}\")\n",
    "            \n",
    "        print()\n",
    "    \n",
    "    end = time.time()\n",
    "    time_elapsed = end - start\n",
    "    print('Training complete in {:.0f}h {:.0f}m {:.0f}s'.format(\n",
    "        time_elapsed // 3600, (time_elapsed % 3600) // 60, (time_elapsed % 3600) % 60))\n",
    "    print(\"Best CMAP: {:.4f}\".format(best_epoch_cmap))\n",
    "    \n",
    "    # load best model weights\n",
    "    model.load_state_dict(best_model_wts)\n",
    "    \n",
    "    return model, history"
   ]
  },
  {
   "cell_type": "code",
   "execution_count": 19,
   "id": "607b6f11",
   "metadata": {
    "execution": {
     "iopub.execute_input": "2023-03-21T01:41:57.487630Z",
     "iopub.status.busy": "2023-03-21T01:41:57.486816Z",
     "iopub.status.idle": "2023-03-21T01:41:57.492740Z",
     "shell.execute_reply": "2023-03-21T01:41:57.491888Z"
    },
    "papermill": {
     "duration": 0.016288,
     "end_time": "2023-03-21T01:41:57.494934",
     "exception": false,
     "start_time": "2023-03-21T01:41:57.478646",
     "status": "completed"
    },
    "tags": []
   },
   "outputs": [],
   "source": [
    "def fetch_scheduler(optimizer):\n",
    "    if CONFIG['scheduler'] == 'CosineAnnealingLR':\n",
    "        scheduler = lr_scheduler.CosineAnnealingLR(optimizer,T_max=CONFIG['T_max'], \n",
    "                                                   eta_min=CONFIG['min_lr'])\n",
    "    elif CONFIG['scheduler'] == 'CosineAnnealingWarmRestarts':\n",
    "        scheduler = lr_scheduler.CosineAnnealingWarmRestarts(optimizer,T_0=CONFIG['T_0'], \n",
    "                                                             eta_min=CONFIG['min_lr'])\n",
    "    elif CONFIG['scheduler'] == None:\n",
    "        return None\n",
    "        \n",
    "    return scheduler"
   ]
  },
  {
   "cell_type": "code",
   "execution_count": 20,
   "id": "1d549cd8",
   "metadata": {
    "execution": {
     "iopub.execute_input": "2023-03-21T01:41:57.510558Z",
     "iopub.status.busy": "2023-03-21T01:41:57.510283Z",
     "iopub.status.idle": "2023-03-21T01:41:57.516925Z",
     "shell.execute_reply": "2023-03-21T01:41:57.515923Z"
    },
    "papermill": {
     "duration": 0.016954,
     "end_time": "2023-03-21T01:41:57.518959",
     "exception": false,
     "start_time": "2023-03-21T01:41:57.502005",
     "status": "completed"
    },
    "tags": []
   },
   "outputs": [],
   "source": [
    "def prepare_loaders(df, fold):\n",
    "    df_train = df[df.kfold != fold].reset_index(drop=True)\n",
    "    df_valid = df[df.kfold == fold].reset_index(drop=True)\n",
    "    \n",
    "    train_dataset = BirdCLEFDataset(df_train, target_sample_rate=CONFIG['sample_rate'], max_time=CONFIG['max_time'])\n",
    "    valid_dataset = BirdCLEFDataset(df_valid, target_sample_rate=CONFIG['sample_rate'], max_time=CONFIG['max_time'])\n",
    "\n",
    "    train_loader = DataLoader(train_dataset, batch_size=CONFIG['train_batch_size'], \n",
    "                              num_workers=2, shuffle=True, pin_memory=True, drop_last=True)\n",
    "    valid_loader = DataLoader(valid_dataset, batch_size=CONFIG['valid_batch_size'], \n",
    "                              num_workers=2, shuffle=False, pin_memory=True)\n",
    "    \n",
    "    return train_loader, valid_loader"
   ]
  },
  {
   "cell_type": "code",
   "execution_count": 21,
   "id": "614304d7",
   "metadata": {
    "execution": {
     "iopub.execute_input": "2023-03-21T01:41:57.534611Z",
     "iopub.status.busy": "2023-03-21T01:41:57.534306Z",
     "iopub.status.idle": "2023-03-21T01:41:57.549965Z",
     "shell.execute_reply": "2023-03-21T01:41:57.549079Z"
    },
    "papermill": {
     "duration": 0.025634,
     "end_time": "2023-03-21T01:41:57.552036",
     "exception": false,
     "start_time": "2023-03-21T01:41:57.526402",
     "status": "completed"
    },
    "tags": []
   },
   "outputs": [],
   "source": [
    "train_loader, valid_loader = prepare_loaders(df, fold=0)"
   ]
  },
  {
   "cell_type": "code",
   "execution_count": 22,
   "id": "613a892b",
   "metadata": {
    "execution": {
     "iopub.execute_input": "2023-03-21T01:41:57.568563Z",
     "iopub.status.busy": "2023-03-21T01:41:57.567722Z",
     "iopub.status.idle": "2023-03-21T01:41:57.574874Z",
     "shell.execute_reply": "2023-03-21T01:41:57.573852Z"
    },
    "papermill": {
     "duration": 0.017534,
     "end_time": "2023-03-21T01:41:57.576933",
     "exception": false,
     "start_time": "2023-03-21T01:41:57.559399",
     "status": "completed"
    },
    "tags": []
   },
   "outputs": [],
   "source": [
    "optimizer = optim.Adam(model.parameters(), lr=CONFIG['learning_rate'], \n",
    "                       weight_decay=CONFIG['weight_decay'])\n",
    "scheduler = fetch_scheduler(optimizer)"
   ]
  },
  {
   "cell_type": "code",
   "execution_count": 23,
   "id": "c738efdb",
   "metadata": {
    "execution": {
     "iopub.execute_input": "2023-03-21T01:41:57.593255Z",
     "iopub.status.busy": "2023-03-21T01:41:57.592899Z",
     "iopub.status.idle": "2023-03-21T01:42:28.421383Z",
     "shell.execute_reply": "2023-03-21T01:42:28.420096Z"
    },
    "papermill": {
     "duration": 30.840237,
     "end_time": "2023-03-21T01:42:28.424378",
     "exception": false,
     "start_time": "2023-03-21T01:41:57.584141",
     "status": "completed"
    },
    "tags": []
   },
   "outputs": [
    {
     "name": "stderr",
     "output_type": "stream",
     "text": [
      "\u001b[34m\u001b[1mwandb\u001b[0m: Currently logged in as: \u001b[33m404vector\u001b[0m. Use \u001b[1m`wandb login --relogin`\u001b[0m to force relogin\n"
     ]
    },
    {
     "data": {
      "text/html": [
       "Tracking run with wandb version 0.14.0"
      ],
      "text/plain": [
       "<IPython.core.display.HTML object>"
      ]
     },
     "metadata": {},
     "output_type": "display_data"
    },
    {
     "data": {
      "text/html": [
       "Run data is saved locally in <code>/kaggle/working/wandb/run-20230321_014157-7wg0g63p</code>"
      ],
      "text/plain": [
       "<IPython.core.display.HTML object>"
      ]
     },
     "metadata": {},
     "output_type": "display_data"
    },
    {
     "data": {
      "text/html": [
       "Syncing run <strong><a href='https://wandb.ai/404vector/BirdCLEF23/runs/7wg0g63p' target=\"_blank\">helpful-sun-15</a></strong> to <a href='https://wandb.ai/404vector/BirdCLEF23' target=\"_blank\">Weights & Biases</a> (<a href='https://wandb.me/run' target=\"_blank\">docs</a>)<br/>"
      ],
      "text/plain": [
       "<IPython.core.display.HTML object>"
      ]
     },
     "metadata": {},
     "output_type": "display_data"
    },
    {
     "data": {
      "text/html": [
       " View project at <a href='https://wandb.ai/404vector/BirdCLEF23' target=\"_blank\">https://wandb.ai/404vector/BirdCLEF23</a>"
      ],
      "text/plain": [
       "<IPython.core.display.HTML object>"
      ]
     },
     "metadata": {},
     "output_type": "display_data"
    },
    {
     "data": {
      "text/html": [
       " View run at <a href='https://wandb.ai/404vector/BirdCLEF23/runs/7wg0g63p' target=\"_blank\">https://wandb.ai/404vector/BirdCLEF23/runs/7wg0g63p</a>"
      ],
      "text/plain": [
       "<IPython.core.display.HTML object>"
      ]
     },
     "metadata": {},
     "output_type": "display_data"
    }
   ],
   "source": [
    "run = wandb.init(project=CONFIG['competition'], \n",
    "                 config=CONFIG,\n",
    "                 job_type='Train',\n",
    "                 tags=['gem-pooling', CONFIG['model_name']],\n",
    "                 anonymous='must')"
   ]
  },
  {
   "cell_type": "code",
   "execution_count": 24,
   "id": "45251802",
   "metadata": {
    "execution": {
     "iopub.execute_input": "2023-03-21T01:42:28.450237Z",
     "iopub.status.busy": "2023-03-21T01:42:28.449828Z",
     "iopub.status.idle": "2023-03-21T03:59:28.536861Z",
     "shell.execute_reply": "2023-03-21T03:59:28.535788Z"
    },
    "papermill": {
     "duration": 8220.103475,
     "end_time": "2023-03-21T03:59:28.539867",
     "exception": false,
     "start_time": "2023-03-21T01:42:28.436392",
     "status": "completed"
    },
    "tags": []
   },
   "outputs": [
    {
     "name": "stdout",
     "output_type": "stream",
     "text": [
      "[INFO] Using GPU: Tesla P100-PCIE-16GB\n",
      "\n"
     ]
    },
    {
     "name": "stderr",
     "output_type": "stream",
     "text": [
      "100%|██████████| 211/211 [11:45<00:00,  3.34s/it, Epoch=1, LR=0.000622, Train_Loss=3.89]\n",
      "100%|██████████| 27/27 [02:33<00:00,  5.67s/it, Epoch=1, LR=0.000622, Valid_Loss=2.94]\n"
     ]
    },
    {
     "name": "stdout",
     "output_type": "stream",
     "text": [
      "\u001b[34mValidation CMAP Improved (0 ---> 0.6264351412338812)\n",
      "Model Saved\u001b[0m\n",
      "\n"
     ]
    },
    {
     "name": "stderr",
     "output_type": "stream",
     "text": [
      "100%|██████████| 211/211 [11:03<00:00,  3.14s/it, Epoch=2, LR=5.98e-5, Train_Loss=2.19]\n",
      "100%|██████████| 27/27 [02:22<00:00,  5.26s/it, Epoch=2, LR=5.98e-5, Valid_Loss=2.19]\n"
     ]
    },
    {
     "name": "stdout",
     "output_type": "stream",
     "text": [
      "\u001b[34mValidation CMAP Improved (0.6264351412338812 ---> 0.7137881892850738)\n",
      "Model Saved\u001b[0m\n",
      "\n"
     ]
    },
    {
     "name": "stderr",
     "output_type": "stream",
     "text": [
      "100%|██████████| 211/211 [11:00<00:00,  3.13s/it, Epoch=3, LR=0.000165, Train_Loss=1.47]\n",
      "100%|██████████| 27/27 [02:23<00:00,  5.30s/it, Epoch=3, LR=0.000165, Valid_Loss=2.3]\n"
     ]
    },
    {
     "name": "stdout",
     "output_type": "stream",
     "text": [
      "\n"
     ]
    },
    {
     "name": "stderr",
     "output_type": "stream",
     "text": [
      "100%|██████████| 211/211 [11:00<00:00,  3.13s/it, Epoch=4, LR=0.000779, Train_Loss=1.68]\n",
      "100%|██████████| 27/27 [02:25<00:00,  5.38s/it, Epoch=4, LR=0.000779, Valid_Loss=2.91]\n"
     ]
    },
    {
     "name": "stdout",
     "output_type": "stream",
     "text": [
      "\n"
     ]
    },
    {
     "name": "stderr",
     "output_type": "stream",
     "text": [
      "100%|██████████| 211/211 [11:16<00:00,  3.21s/it, Epoch=5, LR=0.00097, Train_Loss=1.8]\n",
      "100%|██████████| 27/27 [02:24<00:00,  5.36s/it, Epoch=5, LR=0.00097, Valid_Loss=2.44]\n"
     ]
    },
    {
     "name": "stdout",
     "output_type": "stream",
     "text": [
      "\u001b[34mValidation CMAP Improved (0.7137881892850738 ---> 0.7159536610206043)\n",
      "Model Saved\u001b[0m\n",
      "\n"
     ]
    },
    {
     "name": "stderr",
     "output_type": "stream",
     "text": [
      "100%|██████████| 211/211 [11:12<00:00,  3.18s/it, Epoch=6, LR=0.00045, Train_Loss=1.23]\n",
      "100%|██████████| 27/27 [02:25<00:00,  5.37s/it, Epoch=6, LR=0.00045, Valid_Loss=2.23]\n"
     ]
    },
    {
     "name": "stdout",
     "output_type": "stream",
     "text": [
      "\u001b[34mValidation CMAP Improved (0.7159536610206043 ---> 0.745944701439029)\n",
      "Model Saved\u001b[0m\n",
      "\n"
     ]
    },
    {
     "name": "stderr",
     "output_type": "stream",
     "text": [
      "100%|██████████| 211/211 [11:16<00:00,  3.21s/it, Epoch=7, LR=6.21e-6, Train_Loss=0.436]\n",
      "100%|██████████| 27/27 [02:33<00:00,  5.68s/it, Epoch=7, LR=6.21e-6, Valid_Loss=2.09]\n"
     ]
    },
    {
     "name": "stdout",
     "output_type": "stream",
     "text": [
      "\u001b[34mValidation CMAP Improved (0.745944701439029 ---> 0.7730296580839359)\n",
      "Model Saved\u001b[0m\n",
      "\n"
     ]
    },
    {
     "name": "stderr",
     "output_type": "stream",
     "text": [
      "100%|██████████| 211/211 [11:22<00:00,  3.24s/it, Epoch=8, LR=0.000311, Train_Loss=0.231]\n",
      "100%|██████████| 27/27 [02:29<00:00,  5.55s/it, Epoch=8, LR=0.000311, Valid_Loss=2.34]\n"
     ]
    },
    {
     "name": "stdout",
     "output_type": "stream",
     "text": [
      "\n"
     ]
    },
    {
     "name": "stderr",
     "output_type": "stream",
     "text": [
      "100%|██████████| 211/211 [11:23<00:00,  3.24s/it, Epoch=9, LR=0.000903, Train_Loss=0.613]\n",
      "100%|██████████| 27/27 [02:23<00:00,  5.32s/it, Epoch=9, LR=0.000903, Valid_Loss=3.05]\n"
     ]
    },
    {
     "name": "stdout",
     "output_type": "stream",
     "text": [
      "\n"
     ]
    },
    {
     "name": "stderr",
     "output_type": "stream",
     "text": [
      "100%|██████████| 211/211 [10:58<00:00,  3.12s/it, Epoch=10, LR=0.000885, Train_Loss=1.07]\n",
      "100%|██████████| 27/27 [02:23<00:00,  5.30s/it, Epoch=10, LR=0.000885, Valid_Loss=2.52]\n"
     ]
    },
    {
     "name": "stdout",
     "output_type": "stream",
     "text": [
      "\n",
      "Training complete in 2h 17m 0s\n",
      "Best CMAP: 0.7730\n"
     ]
    }
   ],
   "source": [
    "model, history = run_training(model, optimizer, scheduler,\n",
    "                              device=CONFIG['device'],\n",
    "                              num_epochs=CONFIG['epochs'])"
   ]
  },
  {
   "cell_type": "code",
   "execution_count": 25,
   "id": "2007b4cb",
   "metadata": {
    "execution": {
     "iopub.execute_input": "2023-03-21T03:59:29.223143Z",
     "iopub.status.busy": "2023-03-21T03:59:29.222759Z",
     "iopub.status.idle": "2023-03-21T03:59:34.977226Z",
     "shell.execute_reply": "2023-03-21T03:59:34.976239Z"
    },
    "papermill": {
     "duration": 6.037807,
     "end_time": "2023-03-21T03:59:34.979706",
     "exception": false,
     "start_time": "2023-03-21T03:59:28.941899",
     "status": "completed"
    },
    "tags": []
   },
   "outputs": [
    {
     "data": {
      "text/html": [
       "Waiting for W&B process to finish... <strong style=\"color:green\">(success).</strong>"
      ],
      "text/plain": [
       "<IPython.core.display.HTML object>"
      ]
     },
     "metadata": {},
     "output_type": "display_data"
    },
    {
     "data": {
      "text/html": [
       "<style>\n",
       "    table.wandb td:nth-child(1) { padding: 0 10px; text-align: left ; width: auto;} td:nth-child(2) {text-align: left ; width: 100%}\n",
       "    .wandb-row { display: flex; flex-direction: row; flex-wrap: wrap; justify-content: flex-start; width: 100% }\n",
       "    .wandb-col { display: flex; flex-direction: column; flex-basis: 100%; flex: 1; padding: 10px; }\n",
       "    </style>\n",
       "<div class=\"wandb-row\"><div class=\"wandb-col\"><h3>Run history:</h3><br/><table class=\"wandb\"><tr><td>Train Loss</td><td>█▅▃▄▄▃▁▁▂▃</td></tr><tr><td>Valid CMAP</td><td>▁▅▅▃▅▇█▇▄▆</td></tr><tr><td>Valid Loss</td><td>▇▂▃▇▄▂▁▃█▄</td></tr></table><br/></div><div class=\"wandb-col\"><h3>Run summary:</h3><br/><table class=\"wandb\"><tr><td>Best CMAP Score</td><td>0.77303</td></tr><tr><td>Train Loss</td><td>1.07436</td></tr><tr><td>Valid CMAP</td><td>0.73324</td></tr><tr><td>Valid Loss</td><td>2.5189</td></tr></table><br/></div></div>"
      ],
      "text/plain": [
       "<IPython.core.display.HTML object>"
      ]
     },
     "metadata": {},
     "output_type": "display_data"
    },
    {
     "data": {
      "text/html": [
       " View run <strong style=\"color:#cdcd00\">helpful-sun-15</strong> at: <a href='https://wandb.ai/404vector/BirdCLEF23/runs/7wg0g63p' target=\"_blank\">https://wandb.ai/404vector/BirdCLEF23/runs/7wg0g63p</a><br/>Synced 6 W&B file(s), 0 media file(s), 0 artifact file(s) and 0 other file(s)"
      ],
      "text/plain": [
       "<IPython.core.display.HTML object>"
      ]
     },
     "metadata": {},
     "output_type": "display_data"
    },
    {
     "data": {
      "text/html": [
       "Find logs at: <code>./wandb/run-20230321_014157-7wg0g63p/logs</code>"
      ],
      "text/plain": [
       "<IPython.core.display.HTML object>"
      ]
     },
     "metadata": {},
     "output_type": "display_data"
    }
   ],
   "source": [
    "run.finish()"
   ]
  },
  {
   "cell_type": "code",
   "execution_count": null,
   "id": "182b8ad0",
   "metadata": {
    "papermill": {
     "duration": 0.261819,
     "end_time": "2023-03-21T03:59:35.503657",
     "exception": false,
     "start_time": "2023-03-21T03:59:35.241838",
     "status": "completed"
    },
    "tags": []
   },
   "outputs": [],
   "source": []
  }
 ],
 "metadata": {
  "kernelspec": {
   "display_name": "Python 3",
   "language": "python",
   "name": "python3"
  },
  "language_info": {
   "codemirror_mode": {
    "name": "ipython",
    "version": 3
   },
   "file_extension": ".py",
   "mimetype": "text/x-python",
   "name": "python",
   "nbconvert_exporter": "python",
   "pygments_lexer": "ipython3",
   "version": "3.7.12"
  },
  "papermill": {
   "default_parameters": {},
   "duration": 8306.23757,
   "end_time": "2023-03-21T03:59:38.700625",
   "environment_variables": {},
   "exception": null,
   "input_path": "__notebook__.ipynb",
   "output_path": "__notebook__.ipynb",
   "parameters": {},
   "start_time": "2023-03-21T01:41:12.463055",
   "version": "2.4.0"
  },
  "widgets": {
   "application/vnd.jupyter.widget-state+json": {
    "state": {
     "24d7d69206aa4b5c98f1cbc23e995b58": {
      "model_module": "@jupyter-widgets/base",
      "model_module_version": "1.2.0",
      "model_name": "LayoutModel",
      "state": {
       "_model_module": "@jupyter-widgets/base",
       "_model_module_version": "1.2.0",
       "_model_name": "LayoutModel",
       "_view_count": null,
       "_view_module": "@jupyter-widgets/base",
       "_view_module_version": "1.2.0",
       "_view_name": "LayoutView",
       "align_content": null,
       "align_items": null,
       "align_self": null,
       "border": null,
       "bottom": null,
       "display": null,
       "flex": null,
       "flex_flow": null,
       "grid_area": null,
       "grid_auto_columns": null,
       "grid_auto_flow": null,
       "grid_auto_rows": null,
       "grid_column": null,
       "grid_gap": null,
       "grid_row": null,
       "grid_template_areas": null,
       "grid_template_columns": null,
       "grid_template_rows": null,
       "height": null,
       "justify_content": null,
       "justify_items": null,
       "left": null,
       "margin": null,
       "max_height": null,
       "max_width": null,
       "min_height": null,
       "min_width": null,
       "object_fit": null,
       "object_position": null,
       "order": null,
       "overflow": null,
       "overflow_x": null,
       "overflow_y": null,
       "padding": null,
       "right": null,
       "top": null,
       "visibility": null,
       "width": null
      }
     },
     "26ad4fc3f71f4dee9312189dfafdbc12": {
      "model_module": "@jupyter-widgets/controls",
      "model_module_version": "1.5.0",
      "model_name": "LabelModel",
      "state": {
       "_dom_classes": [],
       "_model_module": "@jupyter-widgets/controls",
       "_model_module_version": "1.5.0",
       "_model_name": "LabelModel",
       "_view_count": null,
       "_view_module": "@jupyter-widgets/controls",
       "_view_module_version": "1.5.0",
       "_view_name": "LabelView",
       "description": "",
       "description_tooltip": null,
       "layout": "IPY_MODEL_45950dfde6cb4a2f9ff0e487c90adbea",
       "placeholder": "​",
       "style": "IPY_MODEL_b4369d2bcc3341ae9c780cd8ce947c57",
       "value": ""
      }
     },
     "2a5557c897274187b8ca10121b0fa2c0": {
      "model_module": "@jupyter-widgets/controls",
      "model_module_version": "1.5.0",
      "model_name": "DescriptionStyleModel",
      "state": {
       "_model_module": "@jupyter-widgets/controls",
       "_model_module_version": "1.5.0",
       "_model_name": "DescriptionStyleModel",
       "_view_count": null,
       "_view_module": "@jupyter-widgets/base",
       "_view_module_version": "1.2.0",
       "_view_name": "StyleView",
       "description_width": ""
      }
     },
     "45950dfde6cb4a2f9ff0e487c90adbea": {
      "model_module": "@jupyter-widgets/base",
      "model_module_version": "1.2.0",
      "model_name": "LayoutModel",
      "state": {
       "_model_module": "@jupyter-widgets/base",
       "_model_module_version": "1.2.0",
       "_model_name": "LayoutModel",
       "_view_count": null,
       "_view_module": "@jupyter-widgets/base",
       "_view_module_version": "1.2.0",
       "_view_name": "LayoutView",
       "align_content": null,
       "align_items": null,
       "align_self": null,
       "border": null,
       "bottom": null,
       "display": null,
       "flex": null,
       "flex_flow": null,
       "grid_area": null,
       "grid_auto_columns": null,
       "grid_auto_flow": null,
       "grid_auto_rows": null,
       "grid_column": null,
       "grid_gap": null,
       "grid_row": null,
       "grid_template_areas": null,
       "grid_template_columns": null,
       "grid_template_rows": null,
       "height": null,
       "justify_content": null,
       "justify_items": null,
       "left": null,
       "margin": null,
       "max_height": null,
       "max_width": null,
       "min_height": null,
       "min_width": null,
       "object_fit": null,
       "object_position": null,
       "order": null,
       "overflow": null,
       "overflow_x": null,
       "overflow_y": null,
       "padding": null,
       "right": null,
       "top": null,
       "visibility": null,
       "width": null
      }
     },
     "4e5f8dd241be4bd9bdae2758a321d11a": {
      "model_module": "@jupyter-widgets/base",
      "model_module_version": "1.2.0",
      "model_name": "LayoutModel",
      "state": {
       "_model_module": "@jupyter-widgets/base",
       "_model_module_version": "1.2.0",
       "_model_name": "LayoutModel",
       "_view_count": null,
       "_view_module": "@jupyter-widgets/base",
       "_view_module_version": "1.2.0",
       "_view_name": "LayoutView",
       "align_content": null,
       "align_items": null,
       "align_self": null,
       "border": null,
       "bottom": null,
       "display": null,
       "flex": null,
       "flex_flow": null,
       "grid_area": null,
       "grid_auto_columns": null,
       "grid_auto_flow": null,
       "grid_auto_rows": null,
       "grid_column": null,
       "grid_gap": null,
       "grid_row": null,
       "grid_template_areas": null,
       "grid_template_columns": null,
       "grid_template_rows": null,
       "height": null,
       "justify_content": null,
       "justify_items": null,
       "left": null,
       "margin": null,
       "max_height": null,
       "max_width": null,
       "min_height": null,
       "min_width": null,
       "object_fit": null,
       "object_position": null,
       "order": null,
       "overflow": null,
       "overflow_x": null,
       "overflow_y": null,
       "padding": null,
       "right": null,
       "top": null,
       "visibility": null,
       "width": null
      }
     },
     "7f2b63f4e6f14666b2446c44846aed4b": {
      "model_module": "@jupyter-widgets/controls",
      "model_module_version": "1.5.0",
      "model_name": "LabelModel",
      "state": {
       "_dom_classes": [],
       "_model_module": "@jupyter-widgets/controls",
       "_model_module_version": "1.5.0",
       "_model_name": "LabelModel",
       "_view_count": null,
       "_view_module": "@jupyter-widgets/controls",
       "_view_module_version": "1.5.0",
       "_view_name": "LabelView",
       "description": "",
       "description_tooltip": null,
       "layout": "IPY_MODEL_24d7d69206aa4b5c98f1cbc23e995b58",
       "placeholder": "​",
       "style": "IPY_MODEL_2a5557c897274187b8ca10121b0fa2c0",
       "value": ""
      }
     },
     "8c7d5e4122d641809e93b62920f35ab0": {
      "model_module": "@jupyter-widgets/controls",
      "model_module_version": "1.5.0",
      "model_name": "FloatProgressModel",
      "state": {
       "_dom_classes": [],
       "_model_module": "@jupyter-widgets/controls",
       "_model_module_version": "1.5.0",
       "_model_name": "FloatProgressModel",
       "_view_count": null,
       "_view_module": "@jupyter-widgets/controls",
       "_view_module_version": "1.5.0",
       "_view_name": "ProgressView",
       "bar_style": "",
       "description": "",
       "description_tooltip": null,
       "layout": "IPY_MODEL_f81c3884004e45df951e7d279f78e62c",
       "max": 1.0,
       "min": 0.0,
       "orientation": "horizontal",
       "style": "IPY_MODEL_ba1253f0b8724deeb1f5c1897f48da92",
       "value": 0.0
      }
     },
     "983976ef35f64fe38872ebd7337a5707": {
      "model_module": "@jupyter-widgets/base",
      "model_module_version": "1.2.0",
      "model_name": "LayoutModel",
      "state": {
       "_model_module": "@jupyter-widgets/base",
       "_model_module_version": "1.2.0",
       "_model_name": "LayoutModel",
       "_view_count": null,
       "_view_module": "@jupyter-widgets/base",
       "_view_module_version": "1.2.0",
       "_view_name": "LayoutView",
       "align_content": null,
       "align_items": null,
       "align_self": null,
       "border": null,
       "bottom": null,
       "display": null,
       "flex": null,
       "flex_flow": null,
       "grid_area": null,
       "grid_auto_columns": null,
       "grid_auto_flow": null,
       "grid_auto_rows": null,
       "grid_column": null,
       "grid_gap": null,
       "grid_row": null,
       "grid_template_areas": null,
       "grid_template_columns": null,
       "grid_template_rows": null,
       "height": null,
       "justify_content": null,
       "justify_items": null,
       "left": null,
       "margin": null,
       "max_height": null,
       "max_width": null,
       "min_height": null,
       "min_width": null,
       "object_fit": null,
       "object_position": null,
       "order": null,
       "overflow": null,
       "overflow_x": null,
       "overflow_y": null,
       "padding": null,
       "right": null,
       "top": null,
       "visibility": null,
       "width": null
      }
     },
     "a09b5fe8a8cb476d85813f3b7d490aed": {
      "model_module": "@jupyter-widgets/controls",
      "model_module_version": "1.5.0",
      "model_name": "VBoxModel",
      "state": {
       "_dom_classes": [],
       "_model_module": "@jupyter-widgets/controls",
       "_model_module_version": "1.5.0",
       "_model_name": "VBoxModel",
       "_view_count": null,
       "_view_module": "@jupyter-widgets/controls",
       "_view_module_version": "1.5.0",
       "_view_name": "VBoxView",
       "box_style": "",
       "children": [
        "IPY_MODEL_26ad4fc3f71f4dee9312189dfafdbc12",
        "IPY_MODEL_8c7d5e4122d641809e93b62920f35ab0"
       ],
       "layout": "IPY_MODEL_983976ef35f64fe38872ebd7337a5707"
      }
     },
     "a3d86fec50324cac9074e74b15055257": {
      "model_module": "@jupyter-widgets/base",
      "model_module_version": "1.2.0",
      "model_name": "LayoutModel",
      "state": {
       "_model_module": "@jupyter-widgets/base",
       "_model_module_version": "1.2.0",
       "_model_name": "LayoutModel",
       "_view_count": null,
       "_view_module": "@jupyter-widgets/base",
       "_view_module_version": "1.2.0",
       "_view_name": "LayoutView",
       "align_content": null,
       "align_items": null,
       "align_self": null,
       "border": null,
       "bottom": null,
       "display": null,
       "flex": null,
       "flex_flow": null,
       "grid_area": null,
       "grid_auto_columns": null,
       "grid_auto_flow": null,
       "grid_auto_rows": null,
       "grid_column": null,
       "grid_gap": null,
       "grid_row": null,
       "grid_template_areas": null,
       "grid_template_columns": null,
       "grid_template_rows": null,
       "height": null,
       "justify_content": null,
       "justify_items": null,
       "left": null,
       "margin": null,
       "max_height": null,
       "max_width": null,
       "min_height": null,
       "min_width": null,
       "object_fit": null,
       "object_position": null,
       "order": null,
       "overflow": null,
       "overflow_x": null,
       "overflow_y": null,
       "padding": null,
       "right": null,
       "top": null,
       "visibility": null,
       "width": null
      }
     },
     "afa9a3b60ff841b2ae3dc95d9f339f78": {
      "model_module": "@jupyter-widgets/controls",
      "model_module_version": "1.5.0",
      "model_name": "FloatProgressModel",
      "state": {
       "_dom_classes": [],
       "_model_module": "@jupyter-widgets/controls",
       "_model_module_version": "1.5.0",
       "_model_name": "FloatProgressModel",
       "_view_count": null,
       "_view_module": "@jupyter-widgets/controls",
       "_view_module_version": "1.5.0",
       "_view_name": "ProgressView",
       "bar_style": "",
       "description": "",
       "description_tooltip": null,
       "layout": "IPY_MODEL_a3d86fec50324cac9074e74b15055257",
       "max": 1.0,
       "min": 0.0,
       "orientation": "horizontal",
       "style": "IPY_MODEL_f798ac1e48d6416fb90d5a90fa218834",
       "value": 0.0
      }
     },
     "b4369d2bcc3341ae9c780cd8ce947c57": {
      "model_module": "@jupyter-widgets/controls",
      "model_module_version": "1.5.0",
      "model_name": "DescriptionStyleModel",
      "state": {
       "_model_module": "@jupyter-widgets/controls",
       "_model_module_version": "1.5.0",
       "_model_name": "DescriptionStyleModel",
       "_view_count": null,
       "_view_module": "@jupyter-widgets/base",
       "_view_module_version": "1.2.0",
       "_view_name": "StyleView",
       "description_width": ""
      }
     },
     "ba1253f0b8724deeb1f5c1897f48da92": {
      "model_module": "@jupyter-widgets/controls",
      "model_module_version": "1.5.0",
      "model_name": "ProgressStyleModel",
      "state": {
       "_model_module": "@jupyter-widgets/controls",
       "_model_module_version": "1.5.0",
       "_model_name": "ProgressStyleModel",
       "_view_count": null,
       "_view_module": "@jupyter-widgets/base",
       "_view_module_version": "1.2.0",
       "_view_name": "StyleView",
       "bar_color": null,
       "description_width": ""
      }
     },
     "dc68030bd3e74ec9be0a7e90318b28ea": {
      "model_module": "@jupyter-widgets/controls",
      "model_module_version": "1.5.0",
      "model_name": "VBoxModel",
      "state": {
       "_dom_classes": [],
       "_model_module": "@jupyter-widgets/controls",
       "_model_module_version": "1.5.0",
       "_model_name": "VBoxModel",
       "_view_count": null,
       "_view_module": "@jupyter-widgets/controls",
       "_view_module_version": "1.5.0",
       "_view_name": "VBoxView",
       "box_style": "",
       "children": [
        "IPY_MODEL_7f2b63f4e6f14666b2446c44846aed4b",
        "IPY_MODEL_afa9a3b60ff841b2ae3dc95d9f339f78"
       ],
       "layout": "IPY_MODEL_4e5f8dd241be4bd9bdae2758a321d11a"
      }
     },
     "f798ac1e48d6416fb90d5a90fa218834": {
      "model_module": "@jupyter-widgets/controls",
      "model_module_version": "1.5.0",
      "model_name": "ProgressStyleModel",
      "state": {
       "_model_module": "@jupyter-widgets/controls",
       "_model_module_version": "1.5.0",
       "_model_name": "ProgressStyleModel",
       "_view_count": null,
       "_view_module": "@jupyter-widgets/base",
       "_view_module_version": "1.2.0",
       "_view_name": "StyleView",
       "bar_color": null,
       "description_width": ""
      }
     },
     "f81c3884004e45df951e7d279f78e62c": {
      "model_module": "@jupyter-widgets/base",
      "model_module_version": "1.2.0",
      "model_name": "LayoutModel",
      "state": {
       "_model_module": "@jupyter-widgets/base",
       "_model_module_version": "1.2.0",
       "_model_name": "LayoutModel",
       "_view_count": null,
       "_view_module": "@jupyter-widgets/base",
       "_view_module_version": "1.2.0",
       "_view_name": "LayoutView",
       "align_content": null,
       "align_items": null,
       "align_self": null,
       "border": null,
       "bottom": null,
       "display": null,
       "flex": null,
       "flex_flow": null,
       "grid_area": null,
       "grid_auto_columns": null,
       "grid_auto_flow": null,
       "grid_auto_rows": null,
       "grid_column": null,
       "grid_gap": null,
       "grid_row": null,
       "grid_template_areas": null,
       "grid_template_columns": null,
       "grid_template_rows": null,
       "height": null,
       "justify_content": null,
       "justify_items": null,
       "left": null,
       "margin": null,
       "max_height": null,
       "max_width": null,
       "min_height": null,
       "min_width": null,
       "object_fit": null,
       "object_position": null,
       "order": null,
       "overflow": null,
       "overflow_x": null,
       "overflow_y": null,
       "padding": null,
       "right": null,
       "top": null,
       "visibility": null,
       "width": null
      }
     }
    },
    "version_major": 2,
    "version_minor": 0
   }
  }
 },
 "nbformat": 4,
 "nbformat_minor": 5
}
