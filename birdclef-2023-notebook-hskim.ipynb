{
 "cells": [
  {
   "cell_type": "markdown",
   "id": "992dc946",
   "metadata": {
    "papermill": {
     "duration": 0.009915,
     "end_time": "2023-03-21T15:49:52.361113",
     "exception": false,
     "start_time": "2023-03-21T15:49:52.351198",
     "status": "completed"
    },
    "tags": []
   },
   "source": [
    "![](https://storage.googleapis.com/kaggle-competitions/kaggle/25954/logos/header.png?t=2021-03-19-18-32-57)"
   ]
  },
  {
   "cell_type": "code",
   "execution_count": 1,
   "id": "92fe1d4a",
   "metadata": {
    "_cell_guid": "b1076dfc-b9ad-4769-8c92-a6c4dae69d19",
    "_kg_hide-output": true,
    "_uuid": "8f2839f25d086af736a60e9eeb907d3b93b6e0e5",
    "execution": {
     "iopub.execute_input": "2023-03-21T15:49:52.383014Z",
     "iopub.status.busy": "2023-03-21T15:49:52.382161Z",
     "iopub.status.idle": "2023-03-21T15:50:15.295028Z",
     "shell.execute_reply": "2023-03-21T15:50:15.293840Z"
    },
    "papermill": {
     "duration": 22.92824,
     "end_time": "2023-03-21T15:50:15.297747",
     "exception": false,
     "start_time": "2023-03-21T15:49:52.369507",
     "status": "completed"
    },
    "tags": []
   },
   "outputs": [
    {
     "name": "stdout",
     "output_type": "stream",
     "text": [
      "Requirement already satisfied: timm in /opt/conda/lib/python3.7/site-packages (0.6.12)\r\n",
      "Requirement already satisfied: torchvision in /opt/conda/lib/python3.7/site-packages (from timm) (0.14.0)\r\n",
      "Requirement already satisfied: pyyaml in /opt/conda/lib/python3.7/site-packages (from timm) (6.0)\r\n",
      "Requirement already satisfied: torch>=1.7 in /opt/conda/lib/python3.7/site-packages (from timm) (1.13.0)\r\n",
      "Requirement already satisfied: huggingface-hub in /opt/conda/lib/python3.7/site-packages (from timm) (0.12.1)\r\n",
      "Requirement already satisfied: typing-extensions in /opt/conda/lib/python3.7/site-packages (from torch>=1.7->timm) (4.4.0)\r\n",
      "Requirement already satisfied: tqdm>=4.42.1 in /opt/conda/lib/python3.7/site-packages (from huggingface-hub->timm) (4.64.1)\r\n",
      "Requirement already satisfied: importlib-metadata in /opt/conda/lib/python3.7/site-packages (from huggingface-hub->timm) (4.11.4)\r\n",
      "Requirement already satisfied: requests in /opt/conda/lib/python3.7/site-packages (from huggingface-hub->timm) (2.28.2)\r\n",
      "Requirement already satisfied: packaging>=20.9 in /opt/conda/lib/python3.7/site-packages (from huggingface-hub->timm) (23.0)\r\n",
      "Requirement already satisfied: filelock in /opt/conda/lib/python3.7/site-packages (from huggingface-hub->timm) (3.9.0)\r\n",
      "Requirement already satisfied: pillow!=8.3.*,>=5.3.0 in /opt/conda/lib/python3.7/site-packages (from torchvision->timm) (9.4.0)\r\n",
      "Requirement already satisfied: numpy in /opt/conda/lib/python3.7/site-packages (from torchvision->timm) (1.21.6)\r\n",
      "Requirement already satisfied: zipp>=0.5 in /opt/conda/lib/python3.7/site-packages (from importlib-metadata->huggingface-hub->timm) (3.11.0)\r\n",
      "Requirement already satisfied: charset-normalizer<4,>=2 in /opt/conda/lib/python3.7/site-packages (from requests->huggingface-hub->timm) (2.1.1)\r\n",
      "Requirement already satisfied: idna<4,>=2.5 in /opt/conda/lib/python3.7/site-packages (from requests->huggingface-hub->timm) (3.4)\r\n",
      "Requirement already satisfied: certifi>=2017.4.17 in /opt/conda/lib/python3.7/site-packages (from requests->huggingface-hub->timm) (2022.12.7)\r\n",
      "Requirement already satisfied: urllib3<1.27,>=1.21.1 in /opt/conda/lib/python3.7/site-packages (from requests->huggingface-hub->timm) (1.26.14)\r\n",
      "\u001b[33mWARNING: Running pip as the 'root' user can result in broken permissions and conflicting behaviour with the system package manager. It is recommended to use a virtual environment instead: https://pip.pypa.io/warnings/venv\u001b[0m\u001b[33m\r\n",
      "\u001b[0mRequirement already satisfied: wandb in /opt/conda/lib/python3.7/site-packages (0.13.10)\r\n",
      "Collecting wandb\r\n",
      "  Downloading wandb-0.14.0-py3-none-any.whl (2.0 MB)\r\n",
      "\u001b[2K     \u001b[90m━━━━━━━━━━━━━━━━━━━━━━━━━━━━━━━━━━━━━━━━\u001b[0m \u001b[32m2.0/2.0 MB\u001b[0m \u001b[31m20.0 MB/s\u001b[0m eta \u001b[36m0:00:00\u001b[0m\r\n",
      "\u001b[?25hRequirement already satisfied: psutil>=5.0.0 in /opt/conda/lib/python3.7/site-packages (from wandb) (5.9.3)\r\n",
      "Requirement already satisfied: Click!=8.0.0,>=7.0 in /opt/conda/lib/python3.7/site-packages (from wandb) (8.1.3)\r\n",
      "Requirement already satisfied: sentry-sdk>=1.0.0 in /opt/conda/lib/python3.7/site-packages (from wandb) (1.15.0)\r\n",
      "Requirement already satisfied: GitPython!=3.1.29,>=1.0.0 in /opt/conda/lib/python3.7/site-packages (from wandb) (3.1.30)\r\n",
      "Requirement already satisfied: requests<3,>=2.0.0 in /opt/conda/lib/python3.7/site-packages (from wandb) (2.28.2)\r\n",
      "Requirement already satisfied: pathtools in /opt/conda/lib/python3.7/site-packages (from wandb) (0.1.2)\r\n",
      "Requirement already satisfied: appdirs>=1.4.3 in /opt/conda/lib/python3.7/site-packages (from wandb) (1.4.4)\r\n",
      "Requirement already satisfied: PyYAML in /opt/conda/lib/python3.7/site-packages (from wandb) (6.0)\r\n",
      "Requirement already satisfied: setuptools in /opt/conda/lib/python3.7/site-packages (from wandb) (59.8.0)\r\n",
      "Requirement already satisfied: typing-extensions in /opt/conda/lib/python3.7/site-packages (from wandb) (4.4.0)\r\n",
      "Requirement already satisfied: protobuf!=4.21.0,<5,>=3.12.0 in /opt/conda/lib/python3.7/site-packages (from wandb) (3.20.3)\r\n",
      "Requirement already satisfied: setproctitle in /opt/conda/lib/python3.7/site-packages (from wandb) (1.3.2)\r\n",
      "Requirement already satisfied: docker-pycreds>=0.4.0 in /opt/conda/lib/python3.7/site-packages (from wandb) (0.4.0)\r\n",
      "Requirement already satisfied: importlib-metadata in /opt/conda/lib/python3.7/site-packages (from Click!=8.0.0,>=7.0->wandb) (4.11.4)\r\n",
      "Requirement already satisfied: six>=1.4.0 in /opt/conda/lib/python3.7/site-packages (from docker-pycreds>=0.4.0->wandb) (1.16.0)\r\n",
      "Requirement already satisfied: gitdb<5,>=4.0.1 in /opt/conda/lib/python3.7/site-packages (from GitPython!=3.1.29,>=1.0.0->wandb) (4.0.10)\r\n",
      "Requirement already satisfied: idna<4,>=2.5 in /opt/conda/lib/python3.7/site-packages (from requests<3,>=2.0.0->wandb) (3.4)\r\n",
      "Requirement already satisfied: charset-normalizer<4,>=2 in /opt/conda/lib/python3.7/site-packages (from requests<3,>=2.0.0->wandb) (2.1.1)\r\n",
      "Requirement already satisfied: certifi>=2017.4.17 in /opt/conda/lib/python3.7/site-packages (from requests<3,>=2.0.0->wandb) (2022.12.7)\r\n",
      "Requirement already satisfied: urllib3<1.27,>=1.21.1 in /opt/conda/lib/python3.7/site-packages (from requests<3,>=2.0.0->wandb) (1.26.14)\r\n",
      "Requirement already satisfied: smmap<6,>=3.0.1 in /opt/conda/lib/python3.7/site-packages (from gitdb<5,>=4.0.1->GitPython!=3.1.29,>=1.0.0->wandb) (5.0.0)\r\n",
      "Requirement already satisfied: zipp>=0.5 in /opt/conda/lib/python3.7/site-packages (from importlib-metadata->Click!=8.0.0,>=7.0->wandb) (3.11.0)\r\n",
      "Installing collected packages: wandb\r\n",
      "  Attempting uninstall: wandb\r\n",
      "    Found existing installation: wandb 0.13.10\r\n",
      "    Uninstalling wandb-0.13.10:\r\n",
      "      Successfully uninstalled wandb-0.13.10\r\n",
      "Successfully installed wandb-0.14.0\r\n",
      "\u001b[33mWARNING: Running pip as the 'root' user can result in broken permissions and conflicting behaviour with the system package manager. It is recommended to use a virtual environment instead: https://pip.pypa.io/warnings/venv\u001b[0m\u001b[33m\r\n",
      "\u001b[0m"
     ]
    }
   ],
   "source": [
    "!pip install timm\n",
    "!pip install --upgrade wandb"
   ]
  },
  {
   "cell_type": "code",
   "execution_count": 2,
   "id": "4edc54f5",
   "metadata": {
    "execution": {
     "iopub.execute_input": "2023-03-21T15:50:15.313021Z",
     "iopub.status.busy": "2023-03-21T15:50:15.312705Z",
     "iopub.status.idle": "2023-03-21T15:50:19.629826Z",
     "shell.execute_reply": "2023-03-21T15:50:19.628763Z"
    },
    "papermill": {
     "duration": 4.327988,
     "end_time": "2023-03-21T15:50:19.632691",
     "exception": false,
     "start_time": "2023-03-21T15:50:15.304703",
     "status": "completed"
    },
    "tags": []
   },
   "outputs": [],
   "source": [
    "import os\n",
    "import gc\n",
    "import cv2\n",
    "import math\n",
    "import copy\n",
    "import time\n",
    "import random\n",
    "\n",
    "# For data manipulation\n",
    "import numpy as np\n",
    "import pandas as pd\n",
    "\n",
    "# Pytorch Imports\n",
    "import torch\n",
    "import torch.nn as nn\n",
    "import torch.optim as optim\n",
    "import torch.nn.functional as F\n",
    "from torch.optim import lr_scheduler\n",
    "from torch.utils.data import Dataset, DataLoader\n",
    "from torch.cuda import amp\n",
    "\n",
    "# Audio \n",
    "import torchaudio\n",
    "from torchaudio.transforms import MelSpectrogram, Resample\n",
    "\n",
    "# Utils\n",
    "import joblib\n",
    "from tqdm import tqdm\n",
    "from collections import defaultdict\n",
    "\n",
    "# Sklearn Imports\n",
    "from sklearn.preprocessing import LabelEncoder\n",
    "from sklearn.model_selection import StratifiedKFold\n",
    "from sklearn.metrics import average_precision_score\n",
    "\n",
    "# For Image Models\n",
    "import timm\n",
    "\n",
    "# For colored terminal text\n",
    "from colorama import Fore, Back, Style\n",
    "b_ = Fore.BLUE\n",
    "sr_ = Style.RESET_ALL\n",
    "\n",
    "import warnings\n",
    "warnings.filterwarnings(\"ignore\")\n",
    "\n",
    "# For descriptive error messages\n",
    "os.environ['CUDA_LAUNCH_BLOCKING'] = \"1\""
   ]
  },
  {
   "cell_type": "code",
   "execution_count": 3,
   "id": "2273e4a3",
   "metadata": {
    "execution": {
     "iopub.execute_input": "2023-03-21T15:50:19.648190Z",
     "iopub.status.busy": "2023-03-21T15:50:19.647224Z",
     "iopub.status.idle": "2023-03-21T15:50:23.121074Z",
     "shell.execute_reply": "2023-03-21T15:50:23.119889Z"
    },
    "papermill": {
     "duration": 3.484177,
     "end_time": "2023-03-21T15:50:23.123685",
     "exception": false,
     "start_time": "2023-03-21T15:50:19.639508",
     "status": "completed"
    },
    "tags": []
   },
   "outputs": [
    {
     "name": "stderr",
     "output_type": "stream",
     "text": [
      "\u001b[34m\u001b[1mwandb\u001b[0m: W&B API key is configured. Use \u001b[1m`wandb login --relogin`\u001b[0m to force relogin\n",
      "\u001b[34m\u001b[1mwandb\u001b[0m: \u001b[33mWARNING\u001b[0m If you're specifying your api key in code, ensure this code is not shared publicly.\n",
      "\u001b[34m\u001b[1mwandb\u001b[0m: \u001b[33mWARNING\u001b[0m Consider setting the WANDB_API_KEY environment variable, or running `wandb login` from the command line.\n",
      "\u001b[34m\u001b[1mwandb\u001b[0m: Appending key for api.wandb.ai to your netrc file: /root/.netrc\n"
     ]
    }
   ],
   "source": [
    "import wandb\n",
    "\n",
    "try:\n",
    "    from kaggle_secrets import UserSecretsClient\n",
    "    user_secrets = UserSecretsClient()\n",
    "    api_key = user_secrets.get_secret(\"wandb_api\")\n",
    "    wandb.login(key=api_key)\n",
    "    anony = None\n",
    "except:\n",
    "    anony = \"must\"\n",
    "    print('If you want to use your W&B account, go to Add-ons -> Secrets and provide your W&B access token. Use the Label name as wandb_api. \\nGet your W&B access token from here: https://wandb.ai/authorize')"
   ]
  },
  {
   "cell_type": "code",
   "execution_count": 4,
   "id": "61290724",
   "metadata": {
    "execution": {
     "iopub.execute_input": "2023-03-21T15:50:23.139742Z",
     "iopub.status.busy": "2023-03-21T15:50:23.138751Z",
     "iopub.status.idle": "2023-03-21T15:50:23.207187Z",
     "shell.execute_reply": "2023-03-21T15:50:23.206175Z"
    },
    "papermill": {
     "duration": 0.078662,
     "end_time": "2023-03-21T15:50:23.209434",
     "exception": false,
     "start_time": "2023-03-21T15:50:23.130772",
     "status": "completed"
    },
    "tags": []
   },
   "outputs": [],
   "source": [
    "CONFIG = {\"seed\": 2023,\n",
    "          \"epochs\": 20,\n",
    "          \"model_name\": \"efficientnet_b3\",\n",
    "          \"embedding_size\": 768,\n",
    "          \"num_classes\": 264,\n",
    "          \"train_batch_size\": 16,\n",
    "          \"valid_batch_size\": 16,\n",
    "          \"learning_rate\": 1e-3,\n",
    "          \"scheduler\": 'CosineAnnealingLR',\n",
    "          \"min_lr\": 1e-6,\n",
    "          \"T_max\": 500,\n",
    "          \"weight_decay\": 1e-6,\n",
    "          \"n_fold\": 5,\n",
    "          \"n_accumulate\": 1,\n",
    "          \"device\": torch.device(\"cuda:0\" if torch.cuda.is_available() else \"cpu\"),\n",
    "          \"competition\": \"BirdCLEF23\",\n",
    "          \"_wandb_kernel\": \"deb\",\n",
    "          # Audio Specific\n",
    "          \"sample_rate\": 32_000,\n",
    "          \"max_time\": 5,\n",
    "          \"n_mels\": 224,\n",
    "          \"n_fft\": 1024,\n",
    "          }"
   ]
  },
  {
   "cell_type": "code",
   "execution_count": 5,
   "id": "a13bda65",
   "metadata": {
    "execution": {
     "iopub.execute_input": "2023-03-21T15:50:23.224862Z",
     "iopub.status.busy": "2023-03-21T15:50:23.224014Z",
     "iopub.status.idle": "2023-03-21T15:50:23.232899Z",
     "shell.execute_reply": "2023-03-21T15:50:23.231983Z"
    },
    "papermill": {
     "duration": 0.018533,
     "end_time": "2023-03-21T15:50:23.234979",
     "exception": false,
     "start_time": "2023-03-21T15:50:23.216446",
     "status": "completed"
    },
    "tags": []
   },
   "outputs": [],
   "source": [
    "def set_seed(seed=42):\n",
    "    '''Sets the seed of the entire notebook so results are the same every time we run.\n",
    "    This is for REPRODUCIBILITY.'''\n",
    "    np.random.seed(seed)\n",
    "    torch.manual_seed(seed)\n",
    "    torch.cuda.manual_seed(seed)\n",
    "    # When running on the CuDNN backend, two further options must be set\n",
    "    torch.backends.cudnn.deterministic = True\n",
    "    torch.backends.cudnn.benchmark = False\n",
    "    # Set a fixed value for the hash seed\n",
    "    os.environ['PYTHONHASHSEED'] = str(seed)\n",
    "    \n",
    "set_seed(CONFIG['seed'])"
   ]
  },
  {
   "cell_type": "code",
   "execution_count": 6,
   "id": "d1335b62",
   "metadata": {
    "execution": {
     "iopub.execute_input": "2023-03-21T15:50:23.249608Z",
     "iopub.status.busy": "2023-03-21T15:50:23.249325Z",
     "iopub.status.idle": "2023-03-21T15:50:23.253819Z",
     "shell.execute_reply": "2023-03-21T15:50:23.252776Z"
    },
    "papermill": {
     "duration": 0.014227,
     "end_time": "2023-03-21T15:50:23.255908",
     "exception": false,
     "start_time": "2023-03-21T15:50:23.241681",
     "status": "completed"
    },
    "tags": []
   },
   "outputs": [],
   "source": [
    "ROOT_DIR = '../input/birdclef-2023'\n",
    "TRAIN_DIR = '../input/birdclef-2023/train_audio'\n",
    "TEST_DIR = '../input/birdclef-2023/test_soundscapes'"
   ]
  },
  {
   "cell_type": "code",
   "execution_count": 7,
   "id": "457b0cac",
   "metadata": {
    "execution": {
     "iopub.execute_input": "2023-03-21T15:50:23.270687Z",
     "iopub.status.busy": "2023-03-21T15:50:23.269902Z",
     "iopub.status.idle": "2023-03-21T15:50:23.274752Z",
     "shell.execute_reply": "2023-03-21T15:50:23.273828Z"
    },
    "papermill": {
     "duration": 0.014145,
     "end_time": "2023-03-21T15:50:23.276635",
     "exception": false,
     "start_time": "2023-03-21T15:50:23.262490",
     "status": "completed"
    },
    "tags": []
   },
   "outputs": [],
   "source": [
    "def get_train_file_path(filename):\n",
    "    return f\"{TRAIN_DIR}/{filename}\""
   ]
  },
  {
   "cell_type": "code",
   "execution_count": 8,
   "id": "e18dee10",
   "metadata": {
    "execution": {
     "iopub.execute_input": "2023-03-21T15:50:23.291605Z",
     "iopub.status.busy": "2023-03-21T15:50:23.290831Z",
     "iopub.status.idle": "2023-03-21T15:50:23.424811Z",
     "shell.execute_reply": "2023-03-21T15:50:23.423785Z"
    },
    "papermill": {
     "duration": 0.14387,
     "end_time": "2023-03-21T15:50:23.427236",
     "exception": false,
     "start_time": "2023-03-21T15:50:23.283366",
     "status": "completed"
    },
    "tags": []
   },
   "outputs": [
    {
     "data": {
      "text/html": [
       "<div>\n",
       "<style scoped>\n",
       "    .dataframe tbody tr th:only-of-type {\n",
       "        vertical-align: middle;\n",
       "    }\n",
       "\n",
       "    .dataframe tbody tr th {\n",
       "        vertical-align: top;\n",
       "    }\n",
       "\n",
       "    .dataframe thead th {\n",
       "        text-align: right;\n",
       "    }\n",
       "</style>\n",
       "<table border=\"1\" class=\"dataframe\">\n",
       "  <thead>\n",
       "    <tr style=\"text-align: right;\">\n",
       "      <th></th>\n",
       "      <th>primary_label</th>\n",
       "      <th>secondary_labels</th>\n",
       "      <th>type</th>\n",
       "      <th>latitude</th>\n",
       "      <th>longitude</th>\n",
       "      <th>scientific_name</th>\n",
       "      <th>common_name</th>\n",
       "      <th>author</th>\n",
       "      <th>license</th>\n",
       "      <th>rating</th>\n",
       "      <th>url</th>\n",
       "      <th>filename</th>\n",
       "      <th>file_path</th>\n",
       "    </tr>\n",
       "  </thead>\n",
       "  <tbody>\n",
       "    <tr>\n",
       "      <th>0</th>\n",
       "      <td>abethr1</td>\n",
       "      <td>[]</td>\n",
       "      <td>['song']</td>\n",
       "      <td>4.3906</td>\n",
       "      <td>38.2788</td>\n",
       "      <td>Turdus tephronotus</td>\n",
       "      <td>African Bare-eyed Thrush</td>\n",
       "      <td>Rolf A. de By</td>\n",
       "      <td>Creative Commons Attribution-NonCommercial-Sha...</td>\n",
       "      <td>4.0</td>\n",
       "      <td>https://www.xeno-canto.org/128013</td>\n",
       "      <td>abethr1/XC128013.ogg</td>\n",
       "      <td>../input/birdclef-2023/train_audio/abethr1/XC1...</td>\n",
       "    </tr>\n",
       "    <tr>\n",
       "      <th>1</th>\n",
       "      <td>abethr1</td>\n",
       "      <td>[]</td>\n",
       "      <td>['call']</td>\n",
       "      <td>-2.9524</td>\n",
       "      <td>38.2921</td>\n",
       "      <td>Turdus tephronotus</td>\n",
       "      <td>African Bare-eyed Thrush</td>\n",
       "      <td>James Bradley</td>\n",
       "      <td>Creative Commons Attribution-NonCommercial-Sha...</td>\n",
       "      <td>3.5</td>\n",
       "      <td>https://www.xeno-canto.org/363501</td>\n",
       "      <td>abethr1/XC363501.ogg</td>\n",
       "      <td>../input/birdclef-2023/train_audio/abethr1/XC3...</td>\n",
       "    </tr>\n",
       "    <tr>\n",
       "      <th>2</th>\n",
       "      <td>abethr1</td>\n",
       "      <td>[]</td>\n",
       "      <td>['song']</td>\n",
       "      <td>-2.9524</td>\n",
       "      <td>38.2921</td>\n",
       "      <td>Turdus tephronotus</td>\n",
       "      <td>African Bare-eyed Thrush</td>\n",
       "      <td>James Bradley</td>\n",
       "      <td>Creative Commons Attribution-NonCommercial-Sha...</td>\n",
       "      <td>3.5</td>\n",
       "      <td>https://www.xeno-canto.org/363502</td>\n",
       "      <td>abethr1/XC363502.ogg</td>\n",
       "      <td>../input/birdclef-2023/train_audio/abethr1/XC3...</td>\n",
       "    </tr>\n",
       "    <tr>\n",
       "      <th>3</th>\n",
       "      <td>abethr1</td>\n",
       "      <td>[]</td>\n",
       "      <td>['song']</td>\n",
       "      <td>-2.9524</td>\n",
       "      <td>38.2921</td>\n",
       "      <td>Turdus tephronotus</td>\n",
       "      <td>African Bare-eyed Thrush</td>\n",
       "      <td>James Bradley</td>\n",
       "      <td>Creative Commons Attribution-NonCommercial-Sha...</td>\n",
       "      <td>5.0</td>\n",
       "      <td>https://www.xeno-canto.org/363503</td>\n",
       "      <td>abethr1/XC363503.ogg</td>\n",
       "      <td>../input/birdclef-2023/train_audio/abethr1/XC3...</td>\n",
       "    </tr>\n",
       "    <tr>\n",
       "      <th>4</th>\n",
       "      <td>abethr1</td>\n",
       "      <td>[]</td>\n",
       "      <td>['call', 'song']</td>\n",
       "      <td>-2.9524</td>\n",
       "      <td>38.2921</td>\n",
       "      <td>Turdus tephronotus</td>\n",
       "      <td>African Bare-eyed Thrush</td>\n",
       "      <td>James Bradley</td>\n",
       "      <td>Creative Commons Attribution-NonCommercial-Sha...</td>\n",
       "      <td>4.5</td>\n",
       "      <td>https://www.xeno-canto.org/363504</td>\n",
       "      <td>abethr1/XC363504.ogg</td>\n",
       "      <td>../input/birdclef-2023/train_audio/abethr1/XC3...</td>\n",
       "    </tr>\n",
       "  </tbody>\n",
       "</table>\n",
       "</div>"
      ],
      "text/plain": [
       "  primary_label secondary_labels              type  latitude  longitude  \\\n",
       "0       abethr1               []          ['song']    4.3906    38.2788   \n",
       "1       abethr1               []          ['call']   -2.9524    38.2921   \n",
       "2       abethr1               []          ['song']   -2.9524    38.2921   \n",
       "3       abethr1               []          ['song']   -2.9524    38.2921   \n",
       "4       abethr1               []  ['call', 'song']   -2.9524    38.2921   \n",
       "\n",
       "      scientific_name               common_name         author  \\\n",
       "0  Turdus tephronotus  African Bare-eyed Thrush  Rolf A. de By   \n",
       "1  Turdus tephronotus  African Bare-eyed Thrush  James Bradley   \n",
       "2  Turdus tephronotus  African Bare-eyed Thrush  James Bradley   \n",
       "3  Turdus tephronotus  African Bare-eyed Thrush  James Bradley   \n",
       "4  Turdus tephronotus  African Bare-eyed Thrush  James Bradley   \n",
       "\n",
       "                                             license  rating  \\\n",
       "0  Creative Commons Attribution-NonCommercial-Sha...     4.0   \n",
       "1  Creative Commons Attribution-NonCommercial-Sha...     3.5   \n",
       "2  Creative Commons Attribution-NonCommercial-Sha...     3.5   \n",
       "3  Creative Commons Attribution-NonCommercial-Sha...     5.0   \n",
       "4  Creative Commons Attribution-NonCommercial-Sha...     4.5   \n",
       "\n",
       "                                 url              filename  \\\n",
       "0  https://www.xeno-canto.org/128013  abethr1/XC128013.ogg   \n",
       "1  https://www.xeno-canto.org/363501  abethr1/XC363501.ogg   \n",
       "2  https://www.xeno-canto.org/363502  abethr1/XC363502.ogg   \n",
       "3  https://www.xeno-canto.org/363503  abethr1/XC363503.ogg   \n",
       "4  https://www.xeno-canto.org/363504  abethr1/XC363504.ogg   \n",
       "\n",
       "                                           file_path  \n",
       "0  ../input/birdclef-2023/train_audio/abethr1/XC1...  \n",
       "1  ../input/birdclef-2023/train_audio/abethr1/XC3...  \n",
       "2  ../input/birdclef-2023/train_audio/abethr1/XC3...  \n",
       "3  ../input/birdclef-2023/train_audio/abethr1/XC3...  \n",
       "4  ../input/birdclef-2023/train_audio/abethr1/XC3...  "
      ]
     },
     "execution_count": 8,
     "metadata": {},
     "output_type": "execute_result"
    }
   ],
   "source": [
    "df = pd.read_csv(f\"{ROOT_DIR}/train_metadata.csv\")\n",
    "df['file_path'] = df['filename'].apply(get_train_file_path)\n",
    "df.head()"
   ]
  },
  {
   "cell_type": "code",
   "execution_count": 9,
   "id": "20ab5a49",
   "metadata": {
    "execution": {
     "iopub.execute_input": "2023-03-21T15:50:23.443279Z",
     "iopub.status.busy": "2023-03-21T15:50:23.442817Z",
     "iopub.status.idle": "2023-03-21T15:50:23.458844Z",
     "shell.execute_reply": "2023-03-21T15:50:23.457948Z"
    },
    "papermill": {
     "duration": 0.026522,
     "end_time": "2023-03-21T15:50:23.461014",
     "exception": false,
     "start_time": "2023-03-21T15:50:23.434492",
     "status": "completed"
    },
    "tags": []
   },
   "outputs": [],
   "source": [
    "encoder = LabelEncoder()\n",
    "all_labels = sorted(df['primary_label'].values)\n",
    "encoder.fit(all_labels)\n",
    "\n",
    "df['primary_label'] = encoder.transform(df['primary_label'])\n",
    "\n",
    "with open(\"le.pkl\", \"wb\") as fp:\n",
    "    joblib.dump(encoder, fp)"
   ]
  },
  {
   "cell_type": "code",
   "execution_count": 10,
   "id": "80d9a345",
   "metadata": {
    "execution": {
     "iopub.execute_input": "2023-03-21T15:50:23.477880Z",
     "iopub.status.busy": "2023-03-21T15:50:23.476877Z",
     "iopub.status.idle": "2023-03-21T15:50:23.494288Z",
     "shell.execute_reply": "2023-03-21T15:50:23.493257Z"
    },
    "papermill": {
     "duration": 0.027564,
     "end_time": "2023-03-21T15:50:23.496615",
     "exception": false,
     "start_time": "2023-03-21T15:50:23.469051",
     "status": "completed"
    },
    "tags": []
   },
   "outputs": [],
   "source": [
    "skf = StratifiedKFold(n_splits=CONFIG['n_fold'])\n",
    "\n",
    "for fold, ( _, val_) in enumerate(skf.split(X=df, y=df.primary_label)):\n",
    "      df.loc[val_ , \"kfold\"] = fold"
   ]
  },
  {
   "cell_type": "code",
   "execution_count": 11,
   "id": "68074c8d",
   "metadata": {
    "execution": {
     "iopub.execute_input": "2023-03-21T15:50:23.511894Z",
     "iopub.status.busy": "2023-03-21T15:50:23.511625Z",
     "iopub.status.idle": "2023-03-21T15:50:23.523568Z",
     "shell.execute_reply": "2023-03-21T15:50:23.522658Z"
    },
    "papermill": {
     "duration": 0.021808,
     "end_time": "2023-03-21T15:50:23.525642",
     "exception": false,
     "start_time": "2023-03-21T15:50:23.503834",
     "status": "completed"
    },
    "tags": []
   },
   "outputs": [],
   "source": [
    "class BirdCLEFDataset(Dataset):\n",
    "    def __init__(self, df, target_sample_rate, max_time, image_transforms=None):\n",
    "        self.file_paths = df['file_path'].values\n",
    "        self.labels = df['primary_label'].values\n",
    "        self.target_sample_rate = target_sample_rate\n",
    "        num_samples = target_sample_rate * max_time\n",
    "        self.num_samples = num_samples\n",
    "        self.image_transforms = image_transforms\n",
    "        \n",
    "    def __len__(self):\n",
    "        return len(self.file_paths)\n",
    "    \n",
    "    def __getitem__(self, index):\n",
    "        filepath = self.file_paths[index]\n",
    "        audio, sample_rate = torchaudio.load(filepath)\n",
    "        audio = self.to_mono(audio)\n",
    "        \n",
    "        if sample_rate != self.target_sample_rate:\n",
    "            resample = Resample(sample_rate, self.target_sample_rate)\n",
    "            audio = resample(audio)\n",
    "        \n",
    "        if audio.shape[0] > self.num_samples:\n",
    "            audio = self.crop_audio(audio)\n",
    "            \n",
    "        if audio.shape[0] < self.num_samples:\n",
    "            audio = self.pad_audio(audio)\n",
    "            \n",
    "        mel_spectogram = MelSpectrogram(sample_rate=self.target_sample_rate, \n",
    "                                        n_mels=CONFIG['n_mels'], \n",
    "                                        n_fft=CONFIG['n_fft'])\n",
    "        mel = mel_spectogram(audio)\n",
    "        \n",
    "        label_onehot = torch.zeros(CONFIG['num_classes'])\n",
    "        label_onehot[self.labels[index]] = 1\n",
    "        label = torch.tensor(self.labels[index])\n",
    "        \n",
    "        # Convert to Image\n",
    "        image = torch.stack([mel, mel, mel])\n",
    "        \n",
    "        # Normalize Image\n",
    "        max_val = torch.abs(image).max()\n",
    "        image = image / max_val\n",
    "        \n",
    "        return {\n",
    "            \"image\": image, \n",
    "            \"label\": label,\n",
    "            \"label_onehot\": label_onehot\n",
    "        }\n",
    "            \n",
    "    def pad_audio(self, audio):\n",
    "        pad_length = self.num_samples - audio.shape[0]\n",
    "        last_dim_padding = (0, pad_length)\n",
    "        audio = F.pad(audio, last_dim_padding)\n",
    "        return audio\n",
    "        \n",
    "    def crop_audio(self, audio):\n",
    "        return audio[:self.num_samples]\n",
    "        \n",
    "    def to_mono(self, audio):\n",
    "        return torch.mean(audio, axis=0)"
   ]
  },
  {
   "cell_type": "code",
   "execution_count": 12,
   "id": "0dd08a6a",
   "metadata": {
    "execution": {
     "iopub.execute_input": "2023-03-21T15:50:23.540771Z",
     "iopub.status.busy": "2023-03-21T15:50:23.540236Z",
     "iopub.status.idle": "2023-03-21T15:50:23.547577Z",
     "shell.execute_reply": "2023-03-21T15:50:23.546587Z"
    },
    "papermill": {
     "duration": 0.017192,
     "end_time": "2023-03-21T15:50:23.549726",
     "exception": false,
     "start_time": "2023-03-21T15:50:23.532534",
     "status": "completed"
    },
    "tags": []
   },
   "outputs": [],
   "source": [
    "class GeM(nn.Module):\n",
    "    def __init__(self, p=3, eps=1e-6):\n",
    "        super(GeM, self).__init__()\n",
    "        self.p = nn.Parameter(torch.ones(1)*p)\n",
    "        self.eps = eps\n",
    "\n",
    "    def forward(self, x):\n",
    "        return self.gem(x, p=self.p, eps=self.eps)\n",
    "        \n",
    "    def gem(self, x, p=3, eps=1e-6):\n",
    "        return F.avg_pool2d(x.clamp(min=eps).pow(p), (x.size(-2), x.size(-1))).pow(1./p)\n",
    "        \n",
    "    def __repr__(self):\n",
    "        return self.__class__.__name__ + \\\n",
    "                '(' + 'p=' + '{:.4f}'.format(self.p.data.tolist()[0]) + \\\n",
    "                ', ' + 'eps=' + str(self.eps) + ')'"
   ]
  },
  {
   "cell_type": "code",
   "execution_count": 13,
   "id": "12ef7f00",
   "metadata": {
    "execution": {
     "iopub.execute_input": "2023-03-21T15:50:23.565204Z",
     "iopub.status.busy": "2023-03-21T15:50:23.564434Z",
     "iopub.status.idle": "2023-03-21T15:50:30.376389Z",
     "shell.execute_reply": "2023-03-21T15:50:30.375319Z"
    },
    "papermill": {
     "duration": 6.822737,
     "end_time": "2023-03-21T15:50:30.379284",
     "exception": false,
     "start_time": "2023-03-21T15:50:23.556547",
     "status": "completed"
    },
    "tags": []
   },
   "outputs": [
    {
     "name": "stderr",
     "output_type": "stream",
     "text": [
      "Downloading: \"https://github.com/rwightman/pytorch-image-models/releases/download/v0.1-weights/efficientnet_b3_ra2-cf984f9c.pth\" to /root/.cache/torch/hub/checkpoints/efficientnet_b3_ra2-cf984f9c.pth\n"
     ]
    }
   ],
   "source": [
    "class BirdCLEFModel(nn.Module):\n",
    "    def __init__(self, model_name, embedding_size, pretrained=True):\n",
    "        super(BirdCLEFModel, self).__init__()\n",
    "        self.model = timm.create_model(model_name, pretrained=pretrained)\n",
    "        in_features = self.model.classifier.in_features\n",
    "        self.model.classifier = nn.Identity()\n",
    "        self.model.global_pool = nn.Identity()\n",
    "        self.pooling = GeM()\n",
    "        self.embedding = nn.Linear(in_features, embedding_size)\n",
    "        self.fc = nn.Linear(embedding_size, CONFIG['num_classes'])\n",
    "\n",
    "    def forward(self, images):\n",
    "        features = self.model(images)\n",
    "        pooled_features = self.pooling(features).flatten(1)\n",
    "        embedding = self.embedding(pooled_features)\n",
    "        output = self.fc(embedding)\n",
    "        return output\n",
    "    \n",
    "model = BirdCLEFModel(CONFIG['model_name'], CONFIG['embedding_size'])\n",
    "model.to(CONFIG['device']);"
   ]
  },
  {
   "cell_type": "code",
   "execution_count": 14,
   "id": "8e803ede",
   "metadata": {
    "execution": {
     "iopub.execute_input": "2023-03-21T15:50:30.400236Z",
     "iopub.status.busy": "2023-03-21T15:50:30.399876Z",
     "iopub.status.idle": "2023-03-21T15:50:30.406152Z",
     "shell.execute_reply": "2023-03-21T15:50:30.405119Z"
    },
    "papermill": {
     "duration": 0.018303,
     "end_time": "2023-03-21T15:50:30.408617",
     "exception": false,
     "start_time": "2023-03-21T15:50:30.390314",
     "status": "completed"
    },
    "tags": []
   },
   "outputs": [],
   "source": [
    "def criterion(outputs, labels):\n",
    "    return nn.CrossEntropyLoss()(outputs, labels)"
   ]
  },
  {
   "cell_type": "code",
   "execution_count": 15,
   "id": "9d9d1f04",
   "metadata": {
    "execution": {
     "iopub.execute_input": "2023-03-21T15:50:30.426209Z",
     "iopub.status.busy": "2023-03-21T15:50:30.425892Z",
     "iopub.status.idle": "2023-03-21T15:50:30.435394Z",
     "shell.execute_reply": "2023-03-21T15:50:30.434191Z"
    },
    "papermill": {
     "duration": 0.02096,
     "end_time": "2023-03-21T15:50:30.437676",
     "exception": false,
     "start_time": "2023-03-21T15:50:30.416716",
     "status": "completed"
    },
    "tags": []
   },
   "outputs": [],
   "source": [
    "def train_one_epoch(model, optimizer, scheduler, dataloader, device, epoch):\n",
    "    model.train()\n",
    "    \n",
    "    dataset_size = 0\n",
    "    running_loss = 0.0\n",
    "    \n",
    "    bar = tqdm(enumerate(dataloader), total=len(dataloader))\n",
    "    for step, data in bar:\n",
    "        images = data['image'].to(device)\n",
    "        labels = data['label'].to(device)\n",
    "        \n",
    "        batch_size = images.size(0)\n",
    "        \n",
    "        outputs = model(images)\n",
    "        loss = criterion(outputs, labels)\n",
    "        loss = loss / CONFIG['n_accumulate']\n",
    "            \n",
    "        loss.backward()\n",
    "    \n",
    "        if (step + 1) % CONFIG['n_accumulate'] == 0:\n",
    "            optimizer.step()\n",
    "\n",
    "            # zero the parameter gradients\n",
    "            optimizer.zero_grad()\n",
    "\n",
    "            if scheduler is not None:\n",
    "                scheduler.step()\n",
    "                \n",
    "        running_loss += (loss.item() * batch_size)\n",
    "        dataset_size += batch_size\n",
    "        \n",
    "        epoch_loss = running_loss / dataset_size\n",
    "        \n",
    "        bar.set_postfix(Epoch=epoch, Train_Loss=epoch_loss,\n",
    "                        LR=optimizer.param_groups[0]['lr'])\n",
    "    gc.collect()\n",
    "    \n",
    "    return epoch_loss"
   ]
  },
  {
   "cell_type": "code",
   "execution_count": 16,
   "id": "6d4075ec",
   "metadata": {
    "execution": {
     "iopub.execute_input": "2023-03-21T15:50:30.454776Z",
     "iopub.status.busy": "2023-03-21T15:50:30.453872Z",
     "iopub.status.idle": "2023-03-21T15:50:30.460724Z",
     "shell.execute_reply": "2023-03-21T15:50:30.459853Z"
    },
    "papermill": {
     "duration": 0.017141,
     "end_time": "2023-03-21T15:50:30.462754",
     "exception": false,
     "start_time": "2023-03-21T15:50:30.445613",
     "status": "completed"
    },
    "tags": []
   },
   "outputs": [],
   "source": [
    "def padded_cmap(solution, submission, padding_factor=5):\n",
    "    new_rows = []\n",
    "    for i in range(padding_factor):\n",
    "        new_rows.append([1 for i in range(len(solution.columns))])\n",
    "    new_rows = pd.DataFrame(new_rows)\n",
    "    new_rows.columns = solution.columns\n",
    "    padded_solution = pd.concat([solution, new_rows]).reset_index(drop=True).copy()\n",
    "    padded_submission = pd.concat([submission, new_rows]).reset_index(drop=True).copy()\n",
    "    score = average_precision_score(\n",
    "        padded_solution.values,\n",
    "        padded_submission.values,\n",
    "        average='macro',\n",
    "    )\n",
    "    return score"
   ]
  },
  {
   "cell_type": "code",
   "execution_count": 17,
   "id": "fea73885",
   "metadata": {
    "execution": {
     "iopub.execute_input": "2023-03-21T15:50:30.477956Z",
     "iopub.status.busy": "2023-03-21T15:50:30.477669Z",
     "iopub.status.idle": "2023-03-21T15:50:30.486313Z",
     "shell.execute_reply": "2023-03-21T15:50:30.485340Z"
    },
    "papermill": {
     "duration": 0.018903,
     "end_time": "2023-03-21T15:50:30.488794",
     "exception": false,
     "start_time": "2023-03-21T15:50:30.469891",
     "status": "completed"
    },
    "tags": []
   },
   "outputs": [],
   "source": [
    "@torch.inference_mode()\n",
    "def valid_one_epoch(model, dataloader, device, epoch):\n",
    "    model.eval()\n",
    "    \n",
    "    dataset_size = 0\n",
    "    running_loss = 0.0\n",
    "    \n",
    "    LABELS = []\n",
    "    PREDS = []\n",
    "    \n",
    "    bar = tqdm(enumerate(dataloader), total=len(dataloader))\n",
    "    for step, data in bar:        \n",
    "        images = data['image'].to(device)\n",
    "        labels = data['label_onehot'].to(device)\n",
    "        \n",
    "        batch_size = images.size(0)\n",
    "\n",
    "        outputs = model(images)\n",
    "        loss = criterion(outputs, labels)\n",
    "        \n",
    "        running_loss += (loss.item() * batch_size)\n",
    "        dataset_size += batch_size\n",
    "        \n",
    "        epoch_loss = running_loss / dataset_size\n",
    "        \n",
    "        PREDS.append(F.softmax(outputs, dim=1).cpu().detach().numpy())\n",
    "        LABELS.append(labels.cpu().detach().numpy())\n",
    "        \n",
    "        bar.set_postfix(Epoch=epoch, Valid_Loss=epoch_loss,\n",
    "                        LR=optimizer.param_groups[0]['lr'])   \n",
    "    \n",
    "    LABELS = np.vstack(LABELS)\n",
    "    PREDS = np.vstack(PREDS)\n",
    "    val_cmap = padded_cmap(pd.DataFrame(LABELS), pd.DataFrame(PREDS))\n",
    "    gc.collect()\n",
    "    \n",
    "    return epoch_loss, val_cmap"
   ]
  },
  {
   "cell_type": "code",
   "execution_count": 18,
   "id": "e1f2dd68",
   "metadata": {
    "execution": {
     "iopub.execute_input": "2023-03-21T15:50:30.504841Z",
     "iopub.status.busy": "2023-03-21T15:50:30.504563Z",
     "iopub.status.idle": "2023-03-21T15:50:30.515464Z",
     "shell.execute_reply": "2023-03-21T15:50:30.514437Z"
    },
    "papermill": {
     "duration": 0.021023,
     "end_time": "2023-03-21T15:50:30.517476",
     "exception": false,
     "start_time": "2023-03-21T15:50:30.496453",
     "status": "completed"
    },
    "tags": []
   },
   "outputs": [],
   "source": [
    "def run_training(model, optimizer, scheduler, device, num_epochs):\n",
    "    # To automatically log gradients\n",
    "    wandb.watch(model, log_freq=100)\n",
    "    \n",
    "    if torch.cuda.is_available():\n",
    "        print(\"[INFO] Using GPU: {}\\n\".format(torch.cuda.get_device_name()))\n",
    "    \n",
    "    start = time.time()\n",
    "    best_model_wts = copy.deepcopy(model.state_dict())\n",
    "    best_epoch_cmap = 0\n",
    "    history = defaultdict(list)\n",
    "    \n",
    "    for epoch in range(1, num_epochs + 1): \n",
    "        gc.collect()\n",
    "        train_epoch_loss = train_one_epoch(model, optimizer, scheduler, \n",
    "                                           dataloader=train_loader, \n",
    "                                           device=CONFIG['device'], epoch=epoch)\n",
    "        \n",
    "        val_epoch_loss, val_epoch_cmap = valid_one_epoch(model, valid_loader, \n",
    "                                                       device=CONFIG['device'], \n",
    "                                                       epoch=epoch)\n",
    "    \n",
    "        history['Train Loss'].append(train_epoch_loss)\n",
    "        history['Valid Loss'].append(val_epoch_loss)\n",
    "        history['Valid CMAP'].append(val_epoch_cmap)\n",
    "        \n",
    "        # Log the metrics\n",
    "        wandb.log({\"Train Loss\": train_epoch_loss})\n",
    "        wandb.log({\"Valid Loss\": val_epoch_loss})\n",
    "        wandb.log({\"Valid CMAP\": val_epoch_cmap})\n",
    "        \n",
    "        # deep copy the model\n",
    "        if val_epoch_cmap >= best_epoch_cmap:\n",
    "            print(f\"{b_}Validation CMAP Improved ({best_epoch_cmap} ---> {val_epoch_cmap})\")\n",
    "            best_epoch_cmap = val_epoch_cmap\n",
    "            run.summary[\"Best CMAP Score\"] = best_epoch_cmap\n",
    "            best_model_wts = copy.deepcopy(model.state_dict())\n",
    "            PATH = \"CMAP{:.4f}_epoch{:.0f}.bin\".format(best_epoch_cmap, epoch)\n",
    "            torch.save(model.state_dict(), PATH)\n",
    "            # Save a model file from the current directory\n",
    "            print(f\"Model Saved{sr_}\")\n",
    "            \n",
    "        print()\n",
    "    \n",
    "    end = time.time()\n",
    "    time_elapsed = end - start\n",
    "    print('Training complete in {:.0f}h {:.0f}m {:.0f}s'.format(\n",
    "        time_elapsed // 3600, (time_elapsed % 3600) // 60, (time_elapsed % 3600) % 60))\n",
    "    print(\"Best CMAP: {:.4f}\".format(best_epoch_cmap))\n",
    "    \n",
    "    # load best model weights\n",
    "    model.load_state_dict(best_model_wts)\n",
    "    \n",
    "    return model, history"
   ]
  },
  {
   "cell_type": "code",
   "execution_count": 19,
   "id": "4eff90b8",
   "metadata": {
    "execution": {
     "iopub.execute_input": "2023-03-21T15:50:30.532724Z",
     "iopub.status.busy": "2023-03-21T15:50:30.532460Z",
     "iopub.status.idle": "2023-03-21T15:50:30.538024Z",
     "shell.execute_reply": "2023-03-21T15:50:30.537075Z"
    },
    "papermill": {
     "duration": 0.015667,
     "end_time": "2023-03-21T15:50:30.540076",
     "exception": false,
     "start_time": "2023-03-21T15:50:30.524409",
     "status": "completed"
    },
    "tags": []
   },
   "outputs": [],
   "source": [
    "def fetch_scheduler(optimizer):\n",
    "    if CONFIG['scheduler'] == 'CosineAnnealingLR':\n",
    "        scheduler = lr_scheduler.CosineAnnealingLR(optimizer,T_max=CONFIG['T_max'], \n",
    "                                                   eta_min=CONFIG['min_lr'])\n",
    "    elif CONFIG['scheduler'] == 'CosineAnnealingWarmRestarts':\n",
    "        scheduler = lr_scheduler.CosineAnnealingWarmRestarts(optimizer,T_0=CONFIG['T_0'], \n",
    "                                                             eta_min=CONFIG['min_lr'])\n",
    "    elif CONFIG['scheduler'] == None:\n",
    "        return None\n",
    "        \n",
    "    return scheduler"
   ]
  },
  {
   "cell_type": "code",
   "execution_count": 20,
   "id": "38010aa8",
   "metadata": {
    "execution": {
     "iopub.execute_input": "2023-03-21T15:50:30.556072Z",
     "iopub.status.busy": "2023-03-21T15:50:30.555215Z",
     "iopub.status.idle": "2023-03-21T15:50:30.562173Z",
     "shell.execute_reply": "2023-03-21T15:50:30.561330Z"
    },
    "papermill": {
     "duration": 0.017267,
     "end_time": "2023-03-21T15:50:30.564235",
     "exception": false,
     "start_time": "2023-03-21T15:50:30.546968",
     "status": "completed"
    },
    "tags": []
   },
   "outputs": [],
   "source": [
    "def prepare_loaders(df, fold):\n",
    "    df_train = df[df.kfold != fold].reset_index(drop=True)\n",
    "    df_valid = df[df.kfold == fold].reset_index(drop=True)\n",
    "    \n",
    "    train_dataset = BirdCLEFDataset(df_train, target_sample_rate=CONFIG['sample_rate'], max_time=CONFIG['max_time'])\n",
    "    valid_dataset = BirdCLEFDataset(df_valid, target_sample_rate=CONFIG['sample_rate'], max_time=CONFIG['max_time'])\n",
    "\n",
    "    train_loader = DataLoader(train_dataset, batch_size=CONFIG['train_batch_size'], \n",
    "                              num_workers=2, shuffle=True, pin_memory=True, drop_last=True)\n",
    "    valid_loader = DataLoader(valid_dataset, batch_size=CONFIG['valid_batch_size'], \n",
    "                              num_workers=2, shuffle=False, pin_memory=True)\n",
    "    \n",
    "    return train_loader, valid_loader"
   ]
  },
  {
   "cell_type": "code",
   "execution_count": 21,
   "id": "e7527259",
   "metadata": {
    "execution": {
     "iopub.execute_input": "2023-03-21T15:50:30.579729Z",
     "iopub.status.busy": "2023-03-21T15:50:30.578900Z",
     "iopub.status.idle": "2023-03-21T15:50:30.594669Z",
     "shell.execute_reply": "2023-03-21T15:50:30.593776Z"
    },
    "papermill": {
     "duration": 0.025511,
     "end_time": "2023-03-21T15:50:30.596820",
     "exception": false,
     "start_time": "2023-03-21T15:50:30.571309",
     "status": "completed"
    },
    "tags": []
   },
   "outputs": [],
   "source": [
    "train_loader, valid_loader = prepare_loaders(df, fold=0)"
   ]
  },
  {
   "cell_type": "code",
   "execution_count": 22,
   "id": "32018828",
   "metadata": {
    "execution": {
     "iopub.execute_input": "2023-03-21T15:50:30.612880Z",
     "iopub.status.busy": "2023-03-21T15:50:30.612034Z",
     "iopub.status.idle": "2023-03-21T15:50:30.619164Z",
     "shell.execute_reply": "2023-03-21T15:50:30.618311Z"
    },
    "papermill": {
     "duration": 0.017087,
     "end_time": "2023-03-21T15:50:30.621158",
     "exception": false,
     "start_time": "2023-03-21T15:50:30.604071",
     "status": "completed"
    },
    "tags": []
   },
   "outputs": [],
   "source": [
    "optimizer = optim.Adam(model.parameters(), lr=CONFIG['learning_rate'], \n",
    "                       weight_decay=CONFIG['weight_decay'])\n",
    "scheduler = fetch_scheduler(optimizer)"
   ]
  },
  {
   "cell_type": "code",
   "execution_count": 23,
   "id": "df7671d2",
   "metadata": {
    "execution": {
     "iopub.execute_input": "2023-03-21T15:50:30.636785Z",
     "iopub.status.busy": "2023-03-21T15:50:30.635993Z",
     "iopub.status.idle": "2023-03-21T15:51:02.352881Z",
     "shell.execute_reply": "2023-03-21T15:51:02.351829Z"
    },
    "papermill": {
     "duration": 31.727677,
     "end_time": "2023-03-21T15:51:02.355694",
     "exception": false,
     "start_time": "2023-03-21T15:50:30.628017",
     "status": "completed"
    },
    "tags": []
   },
   "outputs": [
    {
     "name": "stderr",
     "output_type": "stream",
     "text": [
      "\u001b[34m\u001b[1mwandb\u001b[0m: Currently logged in as: \u001b[33m404vector\u001b[0m. Use \u001b[1m`wandb login --relogin`\u001b[0m to force relogin\n"
     ]
    },
    {
     "data": {
      "text/html": [
       "Tracking run with wandb version 0.14.0"
      ],
      "text/plain": [
       "<IPython.core.display.HTML object>"
      ]
     },
     "metadata": {},
     "output_type": "display_data"
    },
    {
     "data": {
      "text/html": [
       "Run data is saved locally in <code>/kaggle/working/wandb/run-20230321_155030-3d4ep6yb</code>"
      ],
      "text/plain": [
       "<IPython.core.display.HTML object>"
      ]
     },
     "metadata": {},
     "output_type": "display_data"
    },
    {
     "data": {
      "text/html": [
       "Syncing run <strong><a href='https://wandb.ai/404vector/BirdCLEF23/runs/3d4ep6yb' target=\"_blank\">efficientnet_b3</a></strong> to <a href='https://wandb.ai/404vector/BirdCLEF23' target=\"_blank\">Weights & Biases</a> (<a href='https://wandb.me/run' target=\"_blank\">docs</a>)<br/>"
      ],
      "text/plain": [
       "<IPython.core.display.HTML object>"
      ]
     },
     "metadata": {},
     "output_type": "display_data"
    },
    {
     "data": {
      "text/html": [
       " View project at <a href='https://wandb.ai/404vector/BirdCLEF23' target=\"_blank\">https://wandb.ai/404vector/BirdCLEF23</a>"
      ],
      "text/plain": [
       "<IPython.core.display.HTML object>"
      ]
     },
     "metadata": {},
     "output_type": "display_data"
    },
    {
     "data": {
      "text/html": [
       " View run at <a href='https://wandb.ai/404vector/BirdCLEF23/runs/3d4ep6yb' target=\"_blank\">https://wandb.ai/404vector/BirdCLEF23/runs/3d4ep6yb</a>"
      ],
      "text/plain": [
       "<IPython.core.display.HTML object>"
      ]
     },
     "metadata": {},
     "output_type": "display_data"
    }
   ],
   "source": [
    "run = wandb.init(project=CONFIG['competition'], \n",
    "                 config=CONFIG,\n",
    "                 job_type='Train',\n",
    "                 name=CONFIG['model_name'],\n",
    "                 tags=['gem-pooling', CONFIG['model_name']],\n",
    "                 anonymous='must')"
   ]
  },
  {
   "cell_type": "code",
   "execution_count": 24,
   "id": "82ab60c0",
   "metadata": {
    "execution": {
     "iopub.execute_input": "2023-03-21T15:51:02.382973Z",
     "iopub.status.busy": "2023-03-21T15:51:02.382467Z",
     "iopub.status.idle": "2023-03-21T20:58:07.704016Z",
     "shell.execute_reply": "2023-03-21T20:58:07.701954Z"
    },
    "papermill": {
     "duration": 18425.338138,
     "end_time": "2023-03-21T20:58:07.707624",
     "exception": false,
     "start_time": "2023-03-21T15:51:02.369486",
     "status": "completed"
    },
    "tags": []
   },
   "outputs": [
    {
     "name": "stdout",
     "output_type": "stream",
     "text": [
      "[INFO] Using GPU: Tesla P100-PCIE-16GB\n",
      "\n"
     ]
    },
    {
     "name": "stderr",
     "output_type": "stream",
     "text": [
      "100%|██████████| 847/847 [13:08<00:00,  1.07it/s, Epoch=1, LR=0.000786, Train_Loss=3.94]\n",
      "100%|██████████| 212/212 [02:38<00:00,  1.34it/s, Epoch=1, LR=0.000786, Valid_Loss=3.96]\n"
     ]
    },
    {
     "name": "stdout",
     "output_type": "stream",
     "text": [
      "\u001b[34mValidation CMAP Improved (0 ---> 0.5483836685200932)\n",
      "Model Saved\u001b[0m\n",
      "\n"
     ]
    },
    {
     "name": "stderr",
     "output_type": "stream",
     "text": [
      "100%|██████████| 847/847 [12:47<00:00,  1.10it/s, Epoch=2, LR=0.000328, Train_Loss=2.85]\n",
      "100%|██████████| 212/212 [02:31<00:00,  1.40it/s, Epoch=2, LR=0.000328, Valid_Loss=2.53]\n"
     ]
    },
    {
     "name": "stdout",
     "output_type": "stream",
     "text": [
      "\u001b[34mValidation CMAP Improved (0.5483836685200932 ---> 0.6814788944454856)\n",
      "Model Saved\u001b[0m\n",
      "\n"
     ]
    },
    {
     "name": "stderr",
     "output_type": "stream",
     "text": [
      "100%|██████████| 847/847 [12:36<00:00,  1.12it/s, Epoch=3, LR=1.75e-5, Train_Loss=2.37]\n",
      "100%|██████████| 212/212 [02:31<00:00,  1.40it/s, Epoch=3, LR=1.75e-5, Valid_Loss=2.15]\n"
     ]
    },
    {
     "name": "stdout",
     "output_type": "stream",
     "text": [
      "\u001b[34mValidation CMAP Improved (0.6814788944454856 ---> 0.7267016510266865)\n",
      "Model Saved\u001b[0m\n",
      "\n"
     ]
    },
    {
     "name": "stderr",
     "output_type": "stream",
     "text": [
      "100%|██████████| 847/847 [12:44<00:00,  1.11it/s, Epoch=4, LR=0.00012, Train_Loss=1.94]\n",
      "100%|██████████| 212/212 [02:29<00:00,  1.42it/s, Epoch=4, LR=0.00012, Valid_Loss=2.09]\n"
     ]
    },
    {
     "name": "stdout",
     "output_type": "stream",
     "text": [
      "\u001b[34mValidation CMAP Improved (0.7267016510266865 ---> 0.736862018617994)\n",
      "Model Saved\u001b[0m\n",
      "\n"
     ]
    },
    {
     "name": "stderr",
     "output_type": "stream",
     "text": [
      "100%|██████████| 847/847 [12:50<00:00,  1.10it/s, Epoch=5, LR=0.000548, Train_Loss=1.57]\n",
      "100%|██████████| 212/212 [02:33<00:00,  1.38it/s, Epoch=5, LR=0.000548, Valid_Loss=2.18]\n"
     ]
    },
    {
     "name": "stdout",
     "output_type": "stream",
     "text": [
      "\n"
     ]
    },
    {
     "name": "stderr",
     "output_type": "stream",
     "text": [
      "100%|██████████| 847/847 [12:46<00:00,  1.10it/s, Epoch=6, LR=0.000935, Train_Loss=1.27]\n",
      "100%|██████████| 212/212 [02:32<00:00,  1.39it/s, Epoch=6, LR=0.000935, Valid_Loss=2.5]\n"
     ]
    },
    {
     "name": "stdout",
     "output_type": "stream",
     "text": [
      "\n"
     ]
    },
    {
     "name": "stderr",
     "output_type": "stream",
     "text": [
      "100%|██████████| 847/847 [12:50<00:00,  1.10it/s, Epoch=7, LR=0.000951, Train_Loss=1.08]\n",
      "100%|██████████| 212/212 [02:31<00:00,  1.40it/s, Epoch=7, LR=0.000951, Valid_Loss=2.51]\n"
     ]
    },
    {
     "name": "stdout",
     "output_type": "stream",
     "text": [
      "\n"
     ]
    },
    {
     "name": "stderr",
     "output_type": "stream",
     "text": [
      "100%|██████████| 847/847 [12:57<00:00,  1.09it/s, Epoch=8, LR=0.000582, Train_Loss=0.998]\n",
      "100%|██████████| 212/212 [02:33<00:00,  1.38it/s, Epoch=8, LR=0.000582, Valid_Loss=2.34]\n"
     ]
    },
    {
     "name": "stdout",
     "output_type": "stream",
     "text": [
      "\u001b[34mValidation CMAP Improved (0.736862018617994 ---> 0.7532686383238025)\n",
      "Model Saved\u001b[0m\n",
      "\n"
     ]
    },
    {
     "name": "stderr",
     "output_type": "stream",
     "text": [
      "100%|██████████| 847/847 [12:59<00:00,  1.09it/s, Epoch=9, LR=0.000143, Train_Loss=0.938]\n",
      "100%|██████████| 212/212 [02:32<00:00,  1.39it/s, Epoch=9, LR=0.000143, Valid_Loss=2.08]\n"
     ]
    },
    {
     "name": "stdout",
     "output_type": "stream",
     "text": [
      "\u001b[34mValidation CMAP Improved (0.7532686383238025 ---> 0.7692280899743379)\n",
      "Model Saved\u001b[0m\n",
      "\n"
     ]
    },
    {
     "name": "stderr",
     "output_type": "stream",
     "text": [
      "100%|██████████| 847/847 [13:03<00:00,  1.08it/s, Epoch=10, LR=9.85e-6, Train_Loss=0.789]\n",
      "100%|██████████| 212/212 [02:31<00:00,  1.40it/s, Epoch=10, LR=9.85e-6, Valid_Loss=2.15]\n"
     ]
    },
    {
     "name": "stdout",
     "output_type": "stream",
     "text": [
      "\n"
     ]
    },
    {
     "name": "stderr",
     "output_type": "stream",
     "text": [
      "100%|██████████| 847/847 [12:48<00:00,  1.10it/s, Epoch=11, LR=0.000296, Train_Loss=0.662]\n",
      "100%|██████████| 212/212 [02:30<00:00,  1.41it/s, Epoch=11, LR=0.000296, Valid_Loss=2.3]\n"
     ]
    },
    {
     "name": "stdout",
     "output_type": "stream",
     "text": [
      "\n"
     ]
    },
    {
     "name": "stderr",
     "output_type": "stream",
     "text": [
      "100%|██████████| 847/847 [12:43<00:00,  1.11it/s, Epoch=12, LR=0.000757, Train_Loss=0.53]\n",
      "100%|██████████| 212/212 [02:29<00:00,  1.42it/s, Epoch=12, LR=0.000757, Valid_Loss=2.79]\n"
     ]
    },
    {
     "name": "stdout",
     "output_type": "stream",
     "text": [
      "\n"
     ]
    },
    {
     "name": "stderr",
     "output_type": "stream",
     "text": [
      "100%|██████████| 847/847 [12:38<00:00,  1.12it/s, Epoch=13, LR=0.000999, Train_Loss=0.454]\n",
      "100%|██████████| 212/212 [02:28<00:00,  1.43it/s, Epoch=13, LR=0.000999, Valid_Loss=2.7]\n"
     ]
    },
    {
     "name": "stdout",
     "output_type": "stream",
     "text": [
      "\n"
     ]
    },
    {
     "name": "stderr",
     "output_type": "stream",
     "text": [
      "100%|██████████| 847/847 [12:39<00:00,  1.12it/s, Epoch=14, LR=0.000814, Train_Loss=0.405]\n",
      "100%|██████████| 212/212 [02:28<00:00,  1.42it/s, Epoch=14, LR=0.000814, Valid_Loss=2.84]\n"
     ]
    },
    {
     "name": "stdout",
     "output_type": "stream",
     "text": [
      "\n"
     ]
    },
    {
     "name": "stderr",
     "output_type": "stream",
     "text": [
      "100%|██████████| 847/847 [12:42<00:00,  1.11it/s, Epoch=15, LR=0.000361, Train_Loss=0.442]\n",
      "100%|██████████| 212/212 [02:29<00:00,  1.42it/s, Epoch=15, LR=0.000361, Valid_Loss=2.52]\n"
     ]
    },
    {
     "name": "stdout",
     "output_type": "stream",
     "text": [
      "\n"
     ]
    },
    {
     "name": "stderr",
     "output_type": "stream",
     "text": [
      "100%|██████████| 847/847 [12:43<00:00,  1.11it/s, Epoch=16, LR=2.74e-5, Train_Loss=0.427]\n",
      "100%|██████████| 212/212 [02:28<00:00,  1.43it/s, Epoch=16, LR=2.74e-5, Valid_Loss=2.53]\n"
     ]
    },
    {
     "name": "stdout",
     "output_type": "stream",
     "text": [
      "\n"
     ]
    },
    {
     "name": "stderr",
     "output_type": "stream",
     "text": [
      "100%|██████████| 847/847 [12:39<00:00,  1.11it/s, Epoch=17, LR=9.82e-5, Train_Loss=0.393]\n",
      "100%|██████████| 212/212 [02:30<00:00,  1.41it/s, Epoch=17, LR=9.82e-5, Valid_Loss=2.59]\n"
     ]
    },
    {
     "name": "stdout",
     "output_type": "stream",
     "text": [
      "\n"
     ]
    },
    {
     "name": "stderr",
     "output_type": "stream",
     "text": [
      "100%|██████████| 847/847 [12:45<00:00,  1.11it/s, Epoch=18, LR=0.000513, Train_Loss=0.338]\n",
      "100%|██████████| 212/212 [02:30<00:00,  1.41it/s, Epoch=18, LR=0.000513, Valid_Loss=2.75]\n"
     ]
    },
    {
     "name": "stdout",
     "output_type": "stream",
     "text": [
      "\n"
     ]
    },
    {
     "name": "stderr",
     "output_type": "stream",
     "text": [
      "100%|██████████| 847/847 [12:49<00:00,  1.10it/s, Epoch=19, LR=0.000917, Train_Loss=0.274]\n",
      "100%|██████████| 212/212 [02:31<00:00,  1.40it/s, Epoch=19, LR=0.000917, Valid_Loss=2.96]\n"
     ]
    },
    {
     "name": "stdout",
     "output_type": "stream",
     "text": [
      "\n"
     ]
    },
    {
     "name": "stderr",
     "output_type": "stream",
     "text": [
      "100%|██████████| 847/847 [12:50<00:00,  1.10it/s, Epoch=20, LR=0.000965, Train_Loss=0.242]\n",
      "100%|██████████| 212/212 [02:31<00:00,  1.40it/s, Epoch=20, LR=0.000965, Valid_Loss=3.27]\n"
     ]
    },
    {
     "name": "stdout",
     "output_type": "stream",
     "text": [
      "\n",
      "Training complete in 5h 7m 5s\n",
      "Best CMAP: 0.7692\n"
     ]
    }
   ],
   "source": [
    "model, history = run_training(model, optimizer, scheduler,\n",
    "                              device=CONFIG['device'],\n",
    "                              num_epochs=CONFIG['epochs'])"
   ]
  },
  {
   "cell_type": "code",
   "execution_count": 25,
   "id": "d528040b",
   "metadata": {
    "execution": {
     "iopub.execute_input": "2023-03-21T20:58:13.114211Z",
     "iopub.status.busy": "2023-03-21T20:58:13.113816Z",
     "iopub.status.idle": "2023-03-21T20:58:20.443520Z",
     "shell.execute_reply": "2023-03-21T20:58:20.442585Z"
    },
    "papermill": {
     "duration": 10.162128,
     "end_time": "2023-03-21T20:58:20.445665",
     "exception": false,
     "start_time": "2023-03-21T20:58:10.283537",
     "status": "completed"
    },
    "tags": []
   },
   "outputs": [
    {
     "data": {
      "text/html": [
       "Waiting for W&B process to finish... <strong style=\"color:green\">(success).</strong>"
      ],
      "text/plain": [
       "<IPython.core.display.HTML object>"
      ]
     },
     "metadata": {},
     "output_type": "display_data"
    },
    {
     "data": {
      "application/vnd.jupyter.widget-view+json": {
       "model_id": "106207572c324340a4d4ff70f3a304b2",
       "version_major": 2,
       "version_minor": 0
      },
      "text/plain": [
       "VBox(children=(Label(value='0.001 MB of 0.001 MB uploaded (0.000 MB deduped)\\r'), FloatProgress(value=1.0, max…"
      ]
     },
     "metadata": {},
     "output_type": "display_data"
    },
    {
     "data": {
      "text/html": [
       "<style>\n",
       "    table.wandb td:nth-child(1) { padding: 0 10px; text-align: left ; width: auto;} td:nth-child(2) {text-align: left ; width: 100%}\n",
       "    .wandb-row { display: flex; flex-direction: row; flex-wrap: wrap; justify-content: flex-start; width: 100% }\n",
       "    .wandb-col { display: flex; flex-direction: column; flex-basis: 100%; flex: 1; padding: 10px; }\n",
       "    </style>\n",
       "<div class=\"wandb-row\"><div class=\"wandb-col\"><h3>Run history:</h3><br/><table class=\"wandb\"><tr><td>Train Loss</td><td>█▆▅▄▄▃▃▂▂▂▂▂▁▁▁▁▁▁▁▁</td></tr><tr><td>Valid CMAP</td><td>▁▅▇▇▇▆▇▇███▇▇▇███▇▇▇</td></tr><tr><td>Valid Loss</td><td>█▃▁▁▁▃▃▂▁▁▂▄▃▄▃▃▃▃▄▅</td></tr></table><br/></div><div class=\"wandb-col\"><h3>Run summary:</h3><br/><table class=\"wandb\"><tr><td>Best CMAP Score</td><td>0.76923</td></tr><tr><td>Train Loss</td><td>0.24188</td></tr><tr><td>Valid CMAP</td><td>0.73</td></tr><tr><td>Valid Loss</td><td>3.27386</td></tr></table><br/></div></div>"
      ],
      "text/plain": [
       "<IPython.core.display.HTML object>"
      ]
     },
     "metadata": {},
     "output_type": "display_data"
    },
    {
     "data": {
      "text/html": [
       " View run <strong style=\"color:#cdcd00\">efficientnet_b3</strong> at: <a href='https://wandb.ai/404vector/BirdCLEF23/runs/3d4ep6yb' target=\"_blank\">https://wandb.ai/404vector/BirdCLEF23/runs/3d4ep6yb</a><br/>Synced 6 W&B file(s), 0 media file(s), 0 artifact file(s) and 0 other file(s)"
      ],
      "text/plain": [
       "<IPython.core.display.HTML object>"
      ]
     },
     "metadata": {},
     "output_type": "display_data"
    },
    {
     "data": {
      "text/html": [
       "Find logs at: <code>./wandb/run-20230321_155030-3d4ep6yb/logs</code>"
      ],
      "text/plain": [
       "<IPython.core.display.HTML object>"
      ]
     },
     "metadata": {},
     "output_type": "display_data"
    }
   ],
   "source": [
    "run.finish()"
   ]
  },
  {
   "cell_type": "code",
   "execution_count": null,
   "id": "7c011fca",
   "metadata": {
    "papermill": {
     "duration": 2.280568,
     "end_time": "2023-03-21T20:58:25.012507",
     "exception": false,
     "start_time": "2023-03-21T20:58:22.731939",
     "status": "completed"
    },
    "tags": []
   },
   "outputs": [],
   "source": []
  }
 ],
 "metadata": {
  "kernelspec": {
   "display_name": "Python 3",
   "language": "python",
   "name": "python3"
  },
  "language_info": {
   "codemirror_mode": {
    "name": "ipython",
    "version": 3
   },
   "file_extension": ".py",
   "mimetype": "text/x-python",
   "name": "python",
   "nbconvert_exporter": "python",
   "pygments_lexer": "ipython3",
   "version": "3.7.12"
  },
  "papermill": {
   "default_parameters": {},
   "duration": 18526.437478,
   "end_time": "2023-03-21T20:58:29.841526",
   "environment_variables": {},
   "exception": null,
   "input_path": "__notebook__.ipynb",
   "output_path": "__notebook__.ipynb",
   "parameters": {},
   "start_time": "2023-03-21T15:49:43.404048",
   "version": "2.4.0"
  },
  "widgets": {
   "application/vnd.jupyter.widget-state+json": {
    "state": {
     "106207572c324340a4d4ff70f3a304b2": {
      "model_module": "@jupyter-widgets/controls",
      "model_module_version": "1.5.0",
      "model_name": "VBoxModel",
      "state": {
       "_dom_classes": [],
       "_model_module": "@jupyter-widgets/controls",
       "_model_module_version": "1.5.0",
       "_model_name": "VBoxModel",
       "_view_count": null,
       "_view_module": "@jupyter-widgets/controls",
       "_view_module_version": "1.5.0",
       "_view_name": "VBoxView",
       "box_style": "",
       "children": [
        "IPY_MODEL_2a3fa76a3c5f47aa95a7bf389baa3453",
        "IPY_MODEL_82ada3483b4b477a92d12384812339b7"
       ],
       "layout": "IPY_MODEL_2453e30d640d4b319f6706d47e855c9b"
      }
     },
     "19368e143c314dd8a86e3b81ab5941d9": {
      "model_module": "@jupyter-widgets/controls",
      "model_module_version": "1.5.0",
      "model_name": "ProgressStyleModel",
      "state": {
       "_model_module": "@jupyter-widgets/controls",
       "_model_module_version": "1.5.0",
       "_model_name": "ProgressStyleModel",
       "_view_count": null,
       "_view_module": "@jupyter-widgets/base",
       "_view_module_version": "1.2.0",
       "_view_name": "StyleView",
       "bar_color": null,
       "description_width": ""
      }
     },
     "2453e30d640d4b319f6706d47e855c9b": {
      "model_module": "@jupyter-widgets/base",
      "model_module_version": "1.2.0",
      "model_name": "LayoutModel",
      "state": {
       "_model_module": "@jupyter-widgets/base",
       "_model_module_version": "1.2.0",
       "_model_name": "LayoutModel",
       "_view_count": null,
       "_view_module": "@jupyter-widgets/base",
       "_view_module_version": "1.2.0",
       "_view_name": "LayoutView",
       "align_content": null,
       "align_items": null,
       "align_self": null,
       "border": null,
       "bottom": null,
       "display": null,
       "flex": null,
       "flex_flow": null,
       "grid_area": null,
       "grid_auto_columns": null,
       "grid_auto_flow": null,
       "grid_auto_rows": null,
       "grid_column": null,
       "grid_gap": null,
       "grid_row": null,
       "grid_template_areas": null,
       "grid_template_columns": null,
       "grid_template_rows": null,
       "height": null,
       "justify_content": null,
       "justify_items": null,
       "left": null,
       "margin": null,
       "max_height": null,
       "max_width": null,
       "min_height": null,
       "min_width": null,
       "object_fit": null,
       "object_position": null,
       "order": null,
       "overflow": null,
       "overflow_x": null,
       "overflow_y": null,
       "padding": null,
       "right": null,
       "top": null,
       "visibility": null,
       "width": null
      }
     },
     "2a3fa76a3c5f47aa95a7bf389baa3453": {
      "model_module": "@jupyter-widgets/controls",
      "model_module_version": "1.5.0",
      "model_name": "LabelModel",
      "state": {
       "_dom_classes": [],
       "_model_module": "@jupyter-widgets/controls",
       "_model_module_version": "1.5.0",
       "_model_name": "LabelModel",
       "_view_count": null,
       "_view_module": "@jupyter-widgets/controls",
       "_view_module_version": "1.5.0",
       "_view_name": "LabelView",
       "description": "",
       "description_tooltip": null,
       "layout": "IPY_MODEL_4d596fc34b0e4e1bb61767ed2a344940",
       "placeholder": "​",
       "style": "IPY_MODEL_8346d406b4c84977a7420e949ea13dfc",
       "value": "0.678 MB of 0.678 MB uploaded (0.000 MB deduped)\r"
      }
     },
     "3f2e06f30f444f39ac947167d089eab3": {
      "model_module": "@jupyter-widgets/controls",
      "model_module_version": "1.5.0",
      "model_name": "FloatProgressModel",
      "state": {
       "_dom_classes": [],
       "_model_module": "@jupyter-widgets/controls",
       "_model_module_version": "1.5.0",
       "_model_name": "FloatProgressModel",
       "_view_count": null,
       "_view_module": "@jupyter-widgets/controls",
       "_view_module_version": "1.5.0",
       "_view_name": "ProgressView",
       "bar_style": "",
       "description": "",
       "description_tooltip": null,
       "layout": "IPY_MODEL_60359066106244eabac19ddb6b81e562",
       "max": 1.0,
       "min": 0.0,
       "orientation": "horizontal",
       "style": "IPY_MODEL_94ab6084464c42f29b6dd84b8df1e75c",
       "value": 0.0
      }
     },
     "4d596fc34b0e4e1bb61767ed2a344940": {
      "model_module": "@jupyter-widgets/base",
      "model_module_version": "1.2.0",
      "model_name": "LayoutModel",
      "state": {
       "_model_module": "@jupyter-widgets/base",
       "_model_module_version": "1.2.0",
       "_model_name": "LayoutModel",
       "_view_count": null,
       "_view_module": "@jupyter-widgets/base",
       "_view_module_version": "1.2.0",
       "_view_name": "LayoutView",
       "align_content": null,
       "align_items": null,
       "align_self": null,
       "border": null,
       "bottom": null,
       "display": null,
       "flex": null,
       "flex_flow": null,
       "grid_area": null,
       "grid_auto_columns": null,
       "grid_auto_flow": null,
       "grid_auto_rows": null,
       "grid_column": null,
       "grid_gap": null,
       "grid_row": null,
       "grid_template_areas": null,
       "grid_template_columns": null,
       "grid_template_rows": null,
       "height": null,
       "justify_content": null,
       "justify_items": null,
       "left": null,
       "margin": null,
       "max_height": null,
       "max_width": null,
       "min_height": null,
       "min_width": null,
       "object_fit": null,
       "object_position": null,
       "order": null,
       "overflow": null,
       "overflow_x": null,
       "overflow_y": null,
       "padding": null,
       "right": null,
       "top": null,
       "visibility": null,
       "width": null
      }
     },
     "60359066106244eabac19ddb6b81e562": {
      "model_module": "@jupyter-widgets/base",
      "model_module_version": "1.2.0",
      "model_name": "LayoutModel",
      "state": {
       "_model_module": "@jupyter-widgets/base",
       "_model_module_version": "1.2.0",
       "_model_name": "LayoutModel",
       "_view_count": null,
       "_view_module": "@jupyter-widgets/base",
       "_view_module_version": "1.2.0",
       "_view_name": "LayoutView",
       "align_content": null,
       "align_items": null,
       "align_self": null,
       "border": null,
       "bottom": null,
       "display": null,
       "flex": null,
       "flex_flow": null,
       "grid_area": null,
       "grid_auto_columns": null,
       "grid_auto_flow": null,
       "grid_auto_rows": null,
       "grid_column": null,
       "grid_gap": null,
       "grid_row": null,
       "grid_template_areas": null,
       "grid_template_columns": null,
       "grid_template_rows": null,
       "height": null,
       "justify_content": null,
       "justify_items": null,
       "left": null,
       "margin": null,
       "max_height": null,
       "max_width": null,
       "min_height": null,
       "min_width": null,
       "object_fit": null,
       "object_position": null,
       "order": null,
       "overflow": null,
       "overflow_x": null,
       "overflow_y": null,
       "padding": null,
       "right": null,
       "top": null,
       "visibility": null,
       "width": null
      }
     },
     "6e54f39ea0b94c1db69efff4d36c18b9": {
      "model_module": "@jupyter-widgets/base",
      "model_module_version": "1.2.0",
      "model_name": "LayoutModel",
      "state": {
       "_model_module": "@jupyter-widgets/base",
       "_model_module_version": "1.2.0",
       "_model_name": "LayoutModel",
       "_view_count": null,
       "_view_module": "@jupyter-widgets/base",
       "_view_module_version": "1.2.0",
       "_view_name": "LayoutView",
       "align_content": null,
       "align_items": null,
       "align_self": null,
       "border": null,
       "bottom": null,
       "display": null,
       "flex": null,
       "flex_flow": null,
       "grid_area": null,
       "grid_auto_columns": null,
       "grid_auto_flow": null,
       "grid_auto_rows": null,
       "grid_column": null,
       "grid_gap": null,
       "grid_row": null,
       "grid_template_areas": null,
       "grid_template_columns": null,
       "grid_template_rows": null,
       "height": null,
       "justify_content": null,
       "justify_items": null,
       "left": null,
       "margin": null,
       "max_height": null,
       "max_width": null,
       "min_height": null,
       "min_width": null,
       "object_fit": null,
       "object_position": null,
       "order": null,
       "overflow": null,
       "overflow_x": null,
       "overflow_y": null,
       "padding": null,
       "right": null,
       "top": null,
       "visibility": null,
       "width": null
      }
     },
     "82ada3483b4b477a92d12384812339b7": {
      "model_module": "@jupyter-widgets/controls",
      "model_module_version": "1.5.0",
      "model_name": "FloatProgressModel",
      "state": {
       "_dom_classes": [],
       "_model_module": "@jupyter-widgets/controls",
       "_model_module_version": "1.5.0",
       "_model_name": "FloatProgressModel",
       "_view_count": null,
       "_view_module": "@jupyter-widgets/controls",
       "_view_module_version": "1.5.0",
       "_view_name": "ProgressView",
       "bar_style": "",
       "description": "",
       "description_tooltip": null,
       "layout": "IPY_MODEL_e113486380af4fefad53249044c3d170",
       "max": 1.0,
       "min": 0.0,
       "orientation": "horizontal",
       "style": "IPY_MODEL_19368e143c314dd8a86e3b81ab5941d9",
       "value": 1.0
      }
     },
     "8346d406b4c84977a7420e949ea13dfc": {
      "model_module": "@jupyter-widgets/controls",
      "model_module_version": "1.5.0",
      "model_name": "DescriptionStyleModel",
      "state": {
       "_model_module": "@jupyter-widgets/controls",
       "_model_module_version": "1.5.0",
       "_model_name": "DescriptionStyleModel",
       "_view_count": null,
       "_view_module": "@jupyter-widgets/base",
       "_view_module_version": "1.2.0",
       "_view_name": "StyleView",
       "description_width": ""
      }
     },
     "94ab6084464c42f29b6dd84b8df1e75c": {
      "model_module": "@jupyter-widgets/controls",
      "model_module_version": "1.5.0",
      "model_name": "ProgressStyleModel",
      "state": {
       "_model_module": "@jupyter-widgets/controls",
       "_model_module_version": "1.5.0",
       "_model_name": "ProgressStyleModel",
       "_view_count": null,
       "_view_module": "@jupyter-widgets/base",
       "_view_module_version": "1.2.0",
       "_view_name": "StyleView",
       "bar_color": null,
       "description_width": ""
      }
     },
     "a4cbc10dd0ca41cc8839b01c6e96e638": {
      "model_module": "@jupyter-widgets/controls",
      "model_module_version": "1.5.0",
      "model_name": "LabelModel",
      "state": {
       "_dom_classes": [],
       "_model_module": "@jupyter-widgets/controls",
       "_model_module_version": "1.5.0",
       "_model_name": "LabelModel",
       "_view_count": null,
       "_view_module": "@jupyter-widgets/controls",
       "_view_module_version": "1.5.0",
       "_view_name": "LabelView",
       "description": "",
       "description_tooltip": null,
       "layout": "IPY_MODEL_6e54f39ea0b94c1db69efff4d36c18b9",
       "placeholder": "​",
       "style": "IPY_MODEL_d27c6cffe7224f419a0c0906bf13b0d2",
       "value": ""
      }
     },
     "c9f81bac57744cf0ac3a6627d676cfbf": {
      "model_module": "@jupyter-widgets/controls",
      "model_module_version": "1.5.0",
      "model_name": "VBoxModel",
      "state": {
       "_dom_classes": [],
       "_model_module": "@jupyter-widgets/controls",
       "_model_module_version": "1.5.0",
       "_model_name": "VBoxModel",
       "_view_count": null,
       "_view_module": "@jupyter-widgets/controls",
       "_view_module_version": "1.5.0",
       "_view_name": "VBoxView",
       "box_style": "",
       "children": [
        "IPY_MODEL_a4cbc10dd0ca41cc8839b01c6e96e638",
        "IPY_MODEL_3f2e06f30f444f39ac947167d089eab3"
       ],
       "layout": "IPY_MODEL_f9ad792f77ee46c58513cfaa33529df4"
      }
     },
     "d27c6cffe7224f419a0c0906bf13b0d2": {
      "model_module": "@jupyter-widgets/controls",
      "model_module_version": "1.5.0",
      "model_name": "DescriptionStyleModel",
      "state": {
       "_model_module": "@jupyter-widgets/controls",
       "_model_module_version": "1.5.0",
       "_model_name": "DescriptionStyleModel",
       "_view_count": null,
       "_view_module": "@jupyter-widgets/base",
       "_view_module_version": "1.2.0",
       "_view_name": "StyleView",
       "description_width": ""
      }
     },
     "e113486380af4fefad53249044c3d170": {
      "model_module": "@jupyter-widgets/base",
      "model_module_version": "1.2.0",
      "model_name": "LayoutModel",
      "state": {
       "_model_module": "@jupyter-widgets/base",
       "_model_module_version": "1.2.0",
       "_model_name": "LayoutModel",
       "_view_count": null,
       "_view_module": "@jupyter-widgets/base",
       "_view_module_version": "1.2.0",
       "_view_name": "LayoutView",
       "align_content": null,
       "align_items": null,
       "align_self": null,
       "border": null,
       "bottom": null,
       "display": null,
       "flex": null,
       "flex_flow": null,
       "grid_area": null,
       "grid_auto_columns": null,
       "grid_auto_flow": null,
       "grid_auto_rows": null,
       "grid_column": null,
       "grid_gap": null,
       "grid_row": null,
       "grid_template_areas": null,
       "grid_template_columns": null,
       "grid_template_rows": null,
       "height": null,
       "justify_content": null,
       "justify_items": null,
       "left": null,
       "margin": null,
       "max_height": null,
       "max_width": null,
       "min_height": null,
       "min_width": null,
       "object_fit": null,
       "object_position": null,
       "order": null,
       "overflow": null,
       "overflow_x": null,
       "overflow_y": null,
       "padding": null,
       "right": null,
       "top": null,
       "visibility": null,
       "width": null
      }
     },
     "f9ad792f77ee46c58513cfaa33529df4": {
      "model_module": "@jupyter-widgets/base",
      "model_module_version": "1.2.0",
      "model_name": "LayoutModel",
      "state": {
       "_model_module": "@jupyter-widgets/base",
       "_model_module_version": "1.2.0",
       "_model_name": "LayoutModel",
       "_view_count": null,
       "_view_module": "@jupyter-widgets/base",
       "_view_module_version": "1.2.0",
       "_view_name": "LayoutView",
       "align_content": null,
       "align_items": null,
       "align_self": null,
       "border": null,
       "bottom": null,
       "display": null,
       "flex": null,
       "flex_flow": null,
       "grid_area": null,
       "grid_auto_columns": null,
       "grid_auto_flow": null,
       "grid_auto_rows": null,
       "grid_column": null,
       "grid_gap": null,
       "grid_row": null,
       "grid_template_areas": null,
       "grid_template_columns": null,
       "grid_template_rows": null,
       "height": null,
       "justify_content": null,
       "justify_items": null,
       "left": null,
       "margin": null,
       "max_height": null,
       "max_width": null,
       "min_height": null,
       "min_width": null,
       "object_fit": null,
       "object_position": null,
       "order": null,
       "overflow": null,
       "overflow_x": null,
       "overflow_y": null,
       "padding": null,
       "right": null,
       "top": null,
       "visibility": null,
       "width": null
      }
     }
    },
    "version_major": 2,
    "version_minor": 0
   }
  }
 },
 "nbformat": 4,
 "nbformat_minor": 5
}
